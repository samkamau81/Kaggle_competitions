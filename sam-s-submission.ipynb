{
 "cells": [
  {
   "cell_type": "code",
   "execution_count": 1,
   "id": "e7afc0e8",
   "metadata": {
    "_cell_guid": "b1076dfc-b9ad-4769-8c92-a6c4dae69d19",
    "_uuid": "8f2839f25d086af736a60e9eeb907d3b93b6e0e5",
    "execution": {
     "iopub.execute_input": "2023-07-22T18:23:48.622272Z",
     "iopub.status.busy": "2023-07-22T18:23:48.621498Z",
     "iopub.status.idle": "2023-07-22T18:23:50.672361Z",
     "shell.execute_reply": "2023-07-22T18:23:50.671021Z"
    },
    "papermill": {
     "duration": 2.069269,
     "end_time": "2023-07-22T18:23:50.674889",
     "exception": false,
     "start_time": "2023-07-22T18:23:48.605620",
     "status": "completed"
    },
    "tags": []
   },
   "outputs": [
    {
     "name": "stderr",
     "output_type": "stream",
     "text": [
      "/opt/conda/lib/python3.10/site-packages/scipy/__init__.py:146: UserWarning: A NumPy version >=1.16.5 and <1.23.0 is required for this version of SciPy (detected version 1.23.5\n",
      "  warnings.warn(f\"A NumPy version >={np_minversion} and <{np_maxversion}\"\n"
     ]
    },
    {
     "name": "stdout",
     "output_type": "stream",
     "text": [
      "/kaggle/input/playground-series-s3e17/sample_submission.csv\n",
      "/kaggle/input/playground-series-s3e17/train.csv\n",
      "/kaggle/input/playground-series-s3e17/test.csv\n"
     ]
    }
   ],
   "source": [
    "# This Python 3 environment comes with many helpful analytics libraries installed\n",
    "# It is defined by the kaggle/python Docker image: https://github.com/kaggle/docker-python\n",
    "# For example, here's several helpful packages to load\n",
    "\n",
    "import numpy as np # linear algebra\n",
    "import pandas as pd # data processing, CSV file I/O (e.g. pd.read_csv)\n",
    "import matplotlib as plt # plotting purposes\n",
    "import seaborn as sns#plotting purposes\n",
    "from sklearn.preprocessing import LabelEncoder,OneHotEncoder# encoding purposes\n",
    "from xgboost import XGBClassifier\n",
    "from sklearn.neural_network import MLPClassifier \n",
    "from sklearn.tree import DecisionTreeClassifier\n",
    "from sklearn.metrics import confusion_matrix\n",
    "from sklearn.metrics import accuracy_score,f1_score\n",
    "from sklearn.model_selection import train_test_split\n",
    "from sklearn.metrics import accuracy_score\n",
    "\n",
    "\n",
    "\n",
    "# Input data files are available in the read-only \"../input/\" directory\n",
    "# For example, running this (by clicking run or pressing Shift+Enter) will list all files under the input directory\n",
    "\n",
    "import os\n",
    "for dirname, _, filenames in os.walk('/kaggle/input'):\n",
    "    for filename in filenames:\n",
    "        print(os.path.join(dirname, filename))\n",
    "\n",
    "# You can write up to 20GB to the current directory (/kaggle/working/) that gets preserved as output when you create a version using \"Save & Run All\" \n",
    "# You can also write temporary files to /kaggle/temp/, but they won't be saved outside of the current session"
   ]
  },
  {
   "cell_type": "code",
   "execution_count": 2,
   "id": "705343a2",
   "metadata": {
    "execution": {
     "iopub.execute_input": "2023-07-22T18:23:50.700680Z",
     "iopub.status.busy": "2023-07-22T18:23:50.699663Z",
     "iopub.status.idle": "2023-07-22T18:23:51.278818Z",
     "shell.execute_reply": "2023-07-22T18:23:51.277361Z"
    },
    "papermill": {
     "duration": 0.595237,
     "end_time": "2023-07-22T18:23:51.281999",
     "exception": false,
     "start_time": "2023-07-22T18:23:50.686762",
     "status": "completed"
    },
    "tags": []
   },
   "outputs": [],
   "source": [
    "sample_submission=pd.read_csv(\"/kaggle/input/playground-series-s3e17/sample_submission.csv\")\n",
    "training_set=pd.read_csv(\"/kaggle/input/playground-series-s3e17/train.csv\")\n",
    "testing_set=pd.read_csv(\"/kaggle/input/playground-series-s3e17/test.csv\")"
   ]
  },
  {
   "cell_type": "code",
   "execution_count": 3,
   "id": "a3d57566",
   "metadata": {
    "execution": {
     "iopub.execute_input": "2023-07-22T18:23:51.307762Z",
     "iopub.status.busy": "2023-07-22T18:23:51.307354Z",
     "iopub.status.idle": "2023-07-22T18:23:51.314382Z",
     "shell.execute_reply": "2023-07-22T18:23:51.313230Z"
    },
    "papermill": {
     "duration": 0.022584,
     "end_time": "2023-07-22T18:23:51.316874",
     "exception": false,
     "start_time": "2023-07-22T18:23:51.294290",
     "status": "completed"
    },
    "tags": []
   },
   "outputs": [
    {
     "name": "stdout",
     "output_type": "stream",
     "text": [
      "sample_submission Index(['id', 'Machine failure'], dtype='object')\n",
      "training_set Index(['id', 'Product ID', 'Type', 'Air temperature [K]',\n",
      "       'Process temperature [K]', 'Rotational speed [rpm]', 'Torque [Nm]',\n",
      "       'Tool wear [min]', 'Machine failure', 'TWF', 'HDF', 'PWF', 'OSF',\n",
      "       'RNF'],\n",
      "      dtype='object')\n",
      "testing_set Index(['id', 'Product ID', 'Type', 'Air temperature [K]',\n",
      "       'Process temperature [K]', 'Rotational speed [rpm]', 'Torque [Nm]',\n",
      "       'Tool wear [min]', 'TWF', 'HDF', 'PWF', 'OSF', 'RNF'],\n",
      "      dtype='object')\n"
     ]
    }
   ],
   "source": [
    "print(\"sample_submission\", sample_submission.columns)\n",
    "print(\"training_set\", training_set.columns)\n",
    "print(\"testing_set\", testing_set.columns)"
   ]
  },
  {
   "cell_type": "markdown",
   "id": "44d5540a",
   "metadata": {
    "papermill": {
     "duration": 0.011143,
     "end_time": "2023-07-22T18:23:51.339818",
     "exception": false,
     "start_time": "2023-07-22T18:23:51.328675",
     "status": "completed"
    },
    "tags": []
   },
   "source": [
    "# **Data Prep**"
   ]
  },
  {
   "cell_type": "code",
   "execution_count": 4,
   "id": "efc124ac",
   "metadata": {
    "execution": {
     "iopub.execute_input": "2023-07-22T18:23:51.365089Z",
     "iopub.status.busy": "2023-07-22T18:23:51.364634Z",
     "iopub.status.idle": "2023-07-22T18:23:51.395395Z",
     "shell.execute_reply": "2023-07-22T18:23:51.394409Z"
    },
    "papermill": {
     "duration": 0.046257,
     "end_time": "2023-07-22T18:23:51.397900",
     "exception": false,
     "start_time": "2023-07-22T18:23:51.351643",
     "status": "completed"
    },
    "tags": []
   },
   "outputs": [
    {
     "data": {
      "text/html": [
       "<div>\n",
       "<style scoped>\n",
       "    .dataframe tbody tr th:only-of-type {\n",
       "        vertical-align: middle;\n",
       "    }\n",
       "\n",
       "    .dataframe tbody tr th {\n",
       "        vertical-align: top;\n",
       "    }\n",
       "\n",
       "    .dataframe thead th {\n",
       "        text-align: right;\n",
       "    }\n",
       "</style>\n",
       "<table border=\"1\" class=\"dataframe\">\n",
       "  <thead>\n",
       "    <tr style=\"text-align: right;\">\n",
       "      <th></th>\n",
       "      <th>id</th>\n",
       "      <th>Product ID</th>\n",
       "      <th>Type</th>\n",
       "      <th>Air temperature [K]</th>\n",
       "      <th>Process temperature [K]</th>\n",
       "      <th>Rotational speed [rpm]</th>\n",
       "      <th>Torque [Nm]</th>\n",
       "      <th>Tool wear [min]</th>\n",
       "      <th>Machine failure</th>\n",
       "      <th>TWF</th>\n",
       "      <th>HDF</th>\n",
       "      <th>PWF</th>\n",
       "      <th>OSF</th>\n",
       "      <th>RNF</th>\n",
       "    </tr>\n",
       "  </thead>\n",
       "  <tbody>\n",
       "    <tr>\n",
       "      <th>0</th>\n",
       "      <td>0</td>\n",
       "      <td>L50096</td>\n",
       "      <td>L</td>\n",
       "      <td>300.6</td>\n",
       "      <td>309.6</td>\n",
       "      <td>1596</td>\n",
       "      <td>36.1</td>\n",
       "      <td>140</td>\n",
       "      <td>0</td>\n",
       "      <td>0</td>\n",
       "      <td>0</td>\n",
       "      <td>0</td>\n",
       "      <td>0</td>\n",
       "      <td>0</td>\n",
       "    </tr>\n",
       "    <tr>\n",
       "      <th>1</th>\n",
       "      <td>1</td>\n",
       "      <td>M20343</td>\n",
       "      <td>M</td>\n",
       "      <td>302.6</td>\n",
       "      <td>312.1</td>\n",
       "      <td>1759</td>\n",
       "      <td>29.1</td>\n",
       "      <td>200</td>\n",
       "      <td>0</td>\n",
       "      <td>0</td>\n",
       "      <td>0</td>\n",
       "      <td>0</td>\n",
       "      <td>0</td>\n",
       "      <td>0</td>\n",
       "    </tr>\n",
       "    <tr>\n",
       "      <th>2</th>\n",
       "      <td>2</td>\n",
       "      <td>L49454</td>\n",
       "      <td>L</td>\n",
       "      <td>299.3</td>\n",
       "      <td>308.5</td>\n",
       "      <td>1805</td>\n",
       "      <td>26.5</td>\n",
       "      <td>25</td>\n",
       "      <td>0</td>\n",
       "      <td>0</td>\n",
       "      <td>0</td>\n",
       "      <td>0</td>\n",
       "      <td>0</td>\n",
       "      <td>0</td>\n",
       "    </tr>\n",
       "    <tr>\n",
       "      <th>3</th>\n",
       "      <td>3</td>\n",
       "      <td>L53355</td>\n",
       "      <td>L</td>\n",
       "      <td>301.0</td>\n",
       "      <td>310.9</td>\n",
       "      <td>1524</td>\n",
       "      <td>44.3</td>\n",
       "      <td>197</td>\n",
       "      <td>0</td>\n",
       "      <td>0</td>\n",
       "      <td>0</td>\n",
       "      <td>0</td>\n",
       "      <td>0</td>\n",
       "      <td>0</td>\n",
       "    </tr>\n",
       "    <tr>\n",
       "      <th>4</th>\n",
       "      <td>4</td>\n",
       "      <td>M24050</td>\n",
       "      <td>M</td>\n",
       "      <td>298.0</td>\n",
       "      <td>309.0</td>\n",
       "      <td>1641</td>\n",
       "      <td>35.4</td>\n",
       "      <td>34</td>\n",
       "      <td>0</td>\n",
       "      <td>0</td>\n",
       "      <td>0</td>\n",
       "      <td>0</td>\n",
       "      <td>0</td>\n",
       "      <td>0</td>\n",
       "    </tr>\n",
       "    <tr>\n",
       "      <th>5</th>\n",
       "      <td>5</td>\n",
       "      <td>M24300</td>\n",
       "      <td>M</td>\n",
       "      <td>298.4</td>\n",
       "      <td>308.9</td>\n",
       "      <td>1429</td>\n",
       "      <td>42.1</td>\n",
       "      <td>65</td>\n",
       "      <td>0</td>\n",
       "      <td>0</td>\n",
       "      <td>0</td>\n",
       "      <td>0</td>\n",
       "      <td>0</td>\n",
       "      <td>0</td>\n",
       "    </tr>\n",
       "    <tr>\n",
       "      <th>6</th>\n",
       "      <td>6</td>\n",
       "      <td>L56736</td>\n",
       "      <td>L</td>\n",
       "      <td>299.6</td>\n",
       "      <td>311.0</td>\n",
       "      <td>1413</td>\n",
       "      <td>42.9</td>\n",
       "      <td>156</td>\n",
       "      <td>0</td>\n",
       "      <td>0</td>\n",
       "      <td>0</td>\n",
       "      <td>0</td>\n",
       "      <td>0</td>\n",
       "      <td>0</td>\n",
       "    </tr>\n",
       "    <tr>\n",
       "      <th>7</th>\n",
       "      <td>7</td>\n",
       "      <td>L55488</td>\n",
       "      <td>L</td>\n",
       "      <td>298.7</td>\n",
       "      <td>310.1</td>\n",
       "      <td>1609</td>\n",
       "      <td>38.1</td>\n",
       "      <td>67</td>\n",
       "      <td>0</td>\n",
       "      <td>0</td>\n",
       "      <td>0</td>\n",
       "      <td>0</td>\n",
       "      <td>0</td>\n",
       "      <td>0</td>\n",
       "    </tr>\n",
       "    <tr>\n",
       "      <th>8</th>\n",
       "      <td>8</td>\n",
       "      <td>L56397</td>\n",
       "      <td>L</td>\n",
       "      <td>297.7</td>\n",
       "      <td>308.8</td>\n",
       "      <td>1578</td>\n",
       "      <td>35.2</td>\n",
       "      <td>13</td>\n",
       "      <td>0</td>\n",
       "      <td>0</td>\n",
       "      <td>0</td>\n",
       "      <td>0</td>\n",
       "      <td>0</td>\n",
       "      <td>0</td>\n",
       "    </tr>\n",
       "    <tr>\n",
       "      <th>9</th>\n",
       "      <td>9</td>\n",
       "      <td>L55067</td>\n",
       "      <td>L</td>\n",
       "      <td>300.5</td>\n",
       "      <td>312.3</td>\n",
       "      <td>1447</td>\n",
       "      <td>53.3</td>\n",
       "      <td>98</td>\n",
       "      <td>0</td>\n",
       "      <td>0</td>\n",
       "      <td>0</td>\n",
       "      <td>0</td>\n",
       "      <td>0</td>\n",
       "      <td>0</td>\n",
       "    </tr>\n",
       "  </tbody>\n",
       "</table>\n",
       "</div>"
      ],
      "text/plain": [
       "   id Product ID Type  Air temperature [K]  Process temperature [K]  \\\n",
       "0   0     L50096    L                300.6                    309.6   \n",
       "1   1     M20343    M                302.6                    312.1   \n",
       "2   2     L49454    L                299.3                    308.5   \n",
       "3   3     L53355    L                301.0                    310.9   \n",
       "4   4     M24050    M                298.0                    309.0   \n",
       "5   5     M24300    M                298.4                    308.9   \n",
       "6   6     L56736    L                299.6                    311.0   \n",
       "7   7     L55488    L                298.7                    310.1   \n",
       "8   8     L56397    L                297.7                    308.8   \n",
       "9   9     L55067    L                300.5                    312.3   \n",
       "\n",
       "   Rotational speed [rpm]  Torque [Nm]  Tool wear [min]  Machine failure  TWF  \\\n",
       "0                    1596         36.1              140                0    0   \n",
       "1                    1759         29.1              200                0    0   \n",
       "2                    1805         26.5               25                0    0   \n",
       "3                    1524         44.3              197                0    0   \n",
       "4                    1641         35.4               34                0    0   \n",
       "5                    1429         42.1               65                0    0   \n",
       "6                    1413         42.9              156                0    0   \n",
       "7                    1609         38.1               67                0    0   \n",
       "8                    1578         35.2               13                0    0   \n",
       "9                    1447         53.3               98                0    0   \n",
       "\n",
       "   HDF  PWF  OSF  RNF  \n",
       "0    0    0    0    0  \n",
       "1    0    0    0    0  \n",
       "2    0    0    0    0  \n",
       "3    0    0    0    0  \n",
       "4    0    0    0    0  \n",
       "5    0    0    0    0  \n",
       "6    0    0    0    0  \n",
       "7    0    0    0    0  \n",
       "8    0    0    0    0  \n",
       "9    0    0    0    0  "
      ]
     },
     "execution_count": 4,
     "metadata": {},
     "output_type": "execute_result"
    }
   ],
   "source": [
    "training_set.head(10)"
   ]
  },
  {
   "cell_type": "code",
   "execution_count": 5,
   "id": "35f9e25a",
   "metadata": {
    "execution": {
     "iopub.execute_input": "2023-07-22T18:23:51.423604Z",
     "iopub.status.busy": "2023-07-22T18:23:51.423199Z",
     "iopub.status.idle": "2023-07-22T18:23:51.445047Z",
     "shell.execute_reply": "2023-07-22T18:23:51.443894Z"
    },
    "papermill": {
     "duration": 0.037367,
     "end_time": "2023-07-22T18:23:51.447488",
     "exception": false,
     "start_time": "2023-07-22T18:23:51.410121",
     "status": "completed"
    },
    "tags": []
   },
   "outputs": [
    {
     "data": {
      "text/html": [
       "<div>\n",
       "<style scoped>\n",
       "    .dataframe tbody tr th:only-of-type {\n",
       "        vertical-align: middle;\n",
       "    }\n",
       "\n",
       "    .dataframe tbody tr th {\n",
       "        vertical-align: top;\n",
       "    }\n",
       "\n",
       "    .dataframe thead th {\n",
       "        text-align: right;\n",
       "    }\n",
       "</style>\n",
       "<table border=\"1\" class=\"dataframe\">\n",
       "  <thead>\n",
       "    <tr style=\"text-align: right;\">\n",
       "      <th></th>\n",
       "      <th>id</th>\n",
       "      <th>Product ID</th>\n",
       "      <th>Type</th>\n",
       "      <th>Air temperature [K]</th>\n",
       "      <th>Process temperature [K]</th>\n",
       "      <th>Rotational speed [rpm]</th>\n",
       "      <th>Torque [Nm]</th>\n",
       "      <th>Tool wear [min]</th>\n",
       "      <th>Machine failure</th>\n",
       "      <th>TWF</th>\n",
       "      <th>HDF</th>\n",
       "      <th>PWF</th>\n",
       "      <th>OSF</th>\n",
       "      <th>RNF</th>\n",
       "    </tr>\n",
       "  </thead>\n",
       "  <tbody>\n",
       "    <tr>\n",
       "      <th>136419</th>\n",
       "      <td>136419</td>\n",
       "      <td>M21064</td>\n",
       "      <td>M</td>\n",
       "      <td>300.9</td>\n",
       "      <td>310.9</td>\n",
       "      <td>1523</td>\n",
       "      <td>41.4</td>\n",
       "      <td>111</td>\n",
       "      <td>0</td>\n",
       "      <td>0</td>\n",
       "      <td>0</td>\n",
       "      <td>0</td>\n",
       "      <td>0</td>\n",
       "      <td>0</td>\n",
       "    </tr>\n",
       "    <tr>\n",
       "      <th>136420</th>\n",
       "      <td>136420</td>\n",
       "      <td>L56888</td>\n",
       "      <td>L</td>\n",
       "      <td>299.0</td>\n",
       "      <td>310.1</td>\n",
       "      <td>1370</td>\n",
       "      <td>50.9</td>\n",
       "      <td>84</td>\n",
       "      <td>0</td>\n",
       "      <td>0</td>\n",
       "      <td>0</td>\n",
       "      <td>0</td>\n",
       "      <td>0</td>\n",
       "      <td>0</td>\n",
       "    </tr>\n",
       "    <tr>\n",
       "      <th>136421</th>\n",
       "      <td>136421</td>\n",
       "      <td>L56507</td>\n",
       "      <td>L</td>\n",
       "      <td>298.5</td>\n",
       "      <td>309.2</td>\n",
       "      <td>1504</td>\n",
       "      <td>33.7</td>\n",
       "      <td>18</td>\n",
       "      <td>0</td>\n",
       "      <td>0</td>\n",
       "      <td>0</td>\n",
       "      <td>0</td>\n",
       "      <td>0</td>\n",
       "      <td>0</td>\n",
       "    </tr>\n",
       "    <tr>\n",
       "      <th>136422</th>\n",
       "      <td>136422</td>\n",
       "      <td>L51411</td>\n",
       "      <td>L</td>\n",
       "      <td>302.2</td>\n",
       "      <td>310.8</td>\n",
       "      <td>1515</td>\n",
       "      <td>42.9</td>\n",
       "      <td>54</td>\n",
       "      <td>0</td>\n",
       "      <td>0</td>\n",
       "      <td>0</td>\n",
       "      <td>0</td>\n",
       "      <td>0</td>\n",
       "      <td>0</td>\n",
       "    </tr>\n",
       "    <tr>\n",
       "      <th>136423</th>\n",
       "      <td>136423</td>\n",
       "      <td>M17346</td>\n",
       "      <td>M</td>\n",
       "      <td>298.9</td>\n",
       "      <td>308.6</td>\n",
       "      <td>1375</td>\n",
       "      <td>57.5</td>\n",
       "      <td>177</td>\n",
       "      <td>0</td>\n",
       "      <td>0</td>\n",
       "      <td>0</td>\n",
       "      <td>0</td>\n",
       "      <td>0</td>\n",
       "      <td>0</td>\n",
       "    </tr>\n",
       "    <tr>\n",
       "      <th>136424</th>\n",
       "      <td>136424</td>\n",
       "      <td>M22284</td>\n",
       "      <td>M</td>\n",
       "      <td>300.1</td>\n",
       "      <td>311.4</td>\n",
       "      <td>1530</td>\n",
       "      <td>37.5</td>\n",
       "      <td>210</td>\n",
       "      <td>0</td>\n",
       "      <td>0</td>\n",
       "      <td>0</td>\n",
       "      <td>0</td>\n",
       "      <td>0</td>\n",
       "      <td>0</td>\n",
       "    </tr>\n",
       "    <tr>\n",
       "      <th>136425</th>\n",
       "      <td>136425</td>\n",
       "      <td>H38017</td>\n",
       "      <td>H</td>\n",
       "      <td>297.5</td>\n",
       "      <td>308.5</td>\n",
       "      <td>1447</td>\n",
       "      <td>49.1</td>\n",
       "      <td>2</td>\n",
       "      <td>0</td>\n",
       "      <td>0</td>\n",
       "      <td>0</td>\n",
       "      <td>0</td>\n",
       "      <td>0</td>\n",
       "      <td>0</td>\n",
       "    </tr>\n",
       "    <tr>\n",
       "      <th>136426</th>\n",
       "      <td>136426</td>\n",
       "      <td>L54690</td>\n",
       "      <td>L</td>\n",
       "      <td>300.5</td>\n",
       "      <td>311.8</td>\n",
       "      <td>1524</td>\n",
       "      <td>38.5</td>\n",
       "      <td>214</td>\n",
       "      <td>0</td>\n",
       "      <td>0</td>\n",
       "      <td>0</td>\n",
       "      <td>0</td>\n",
       "      <td>0</td>\n",
       "      <td>0</td>\n",
       "    </tr>\n",
       "    <tr>\n",
       "      <th>136427</th>\n",
       "      <td>136427</td>\n",
       "      <td>L53876</td>\n",
       "      <td>L</td>\n",
       "      <td>301.7</td>\n",
       "      <td>310.9</td>\n",
       "      <td>1447</td>\n",
       "      <td>46.3</td>\n",
       "      <td>42</td>\n",
       "      <td>0</td>\n",
       "      <td>0</td>\n",
       "      <td>0</td>\n",
       "      <td>0</td>\n",
       "      <td>0</td>\n",
       "      <td>0</td>\n",
       "    </tr>\n",
       "    <tr>\n",
       "      <th>136428</th>\n",
       "      <td>136428</td>\n",
       "      <td>L47937</td>\n",
       "      <td>L</td>\n",
       "      <td>296.9</td>\n",
       "      <td>308.1</td>\n",
       "      <td>1557</td>\n",
       "      <td>39.3</td>\n",
       "      <td>229</td>\n",
       "      <td>0</td>\n",
       "      <td>0</td>\n",
       "      <td>0</td>\n",
       "      <td>0</td>\n",
       "      <td>0</td>\n",
       "      <td>0</td>\n",
       "    </tr>\n",
       "  </tbody>\n",
       "</table>\n",
       "</div>"
      ],
      "text/plain": [
       "            id Product ID Type  Air temperature [K]  Process temperature [K]  \\\n",
       "136419  136419     M21064    M                300.9                    310.9   \n",
       "136420  136420     L56888    L                299.0                    310.1   \n",
       "136421  136421     L56507    L                298.5                    309.2   \n",
       "136422  136422     L51411    L                302.2                    310.8   \n",
       "136423  136423     M17346    M                298.9                    308.6   \n",
       "136424  136424     M22284    M                300.1                    311.4   \n",
       "136425  136425     H38017    H                297.5                    308.5   \n",
       "136426  136426     L54690    L                300.5                    311.8   \n",
       "136427  136427     L53876    L                301.7                    310.9   \n",
       "136428  136428     L47937    L                296.9                    308.1   \n",
       "\n",
       "        Rotational speed [rpm]  Torque [Nm]  Tool wear [min]  Machine failure  \\\n",
       "136419                    1523         41.4              111                0   \n",
       "136420                    1370         50.9               84                0   \n",
       "136421                    1504         33.7               18                0   \n",
       "136422                    1515         42.9               54                0   \n",
       "136423                    1375         57.5              177                0   \n",
       "136424                    1530         37.5              210                0   \n",
       "136425                    1447         49.1                2                0   \n",
       "136426                    1524         38.5              214                0   \n",
       "136427                    1447         46.3               42                0   \n",
       "136428                    1557         39.3              229                0   \n",
       "\n",
       "        TWF  HDF  PWF  OSF  RNF  \n",
       "136419    0    0    0    0    0  \n",
       "136420    0    0    0    0    0  \n",
       "136421    0    0    0    0    0  \n",
       "136422    0    0    0    0    0  \n",
       "136423    0    0    0    0    0  \n",
       "136424    0    0    0    0    0  \n",
       "136425    0    0    0    0    0  \n",
       "136426    0    0    0    0    0  \n",
       "136427    0    0    0    0    0  \n",
       "136428    0    0    0    0    0  "
      ]
     },
     "execution_count": 5,
     "metadata": {},
     "output_type": "execute_result"
    }
   ],
   "source": [
    "training_set.tail(10)"
   ]
  },
  {
   "cell_type": "code",
   "execution_count": 6,
   "id": "d5f27a19",
   "metadata": {
    "execution": {
     "iopub.execute_input": "2023-07-22T18:23:51.476615Z",
     "iopub.status.busy": "2023-07-22T18:23:51.476230Z",
     "iopub.status.idle": "2023-07-22T18:23:51.483339Z",
     "shell.execute_reply": "2023-07-22T18:23:51.482332Z"
    },
    "papermill": {
     "duration": 0.023472,
     "end_time": "2023-07-22T18:23:51.485647",
     "exception": false,
     "start_time": "2023-07-22T18:23:51.462175",
     "status": "completed"
    },
    "tags": []
   },
   "outputs": [
    {
     "data": {
      "text/plain": [
       "(136429, 14)"
      ]
     },
     "execution_count": 6,
     "metadata": {},
     "output_type": "execute_result"
    }
   ],
   "source": [
    "training_set.shape"
   ]
  },
  {
   "cell_type": "code",
   "execution_count": 7,
   "id": "e5be08d6",
   "metadata": {
    "execution": {
     "iopub.execute_input": "2023-07-22T18:23:51.513437Z",
     "iopub.status.busy": "2023-07-22T18:23:51.512983Z",
     "iopub.status.idle": "2023-07-22T18:23:51.617118Z",
     "shell.execute_reply": "2023-07-22T18:23:51.615928Z"
    },
    "papermill": {
     "duration": 0.121619,
     "end_time": "2023-07-22T18:23:51.620081",
     "exception": false,
     "start_time": "2023-07-22T18:23:51.498462",
     "status": "completed"
    },
    "tags": []
   },
   "outputs": [
    {
     "data": {
      "text/plain": [
       "id                         0\n",
       "Product ID                 0\n",
       "Type                       0\n",
       "Air temperature [K]        0\n",
       "Process temperature [K]    0\n",
       "Rotational speed [rpm]     0\n",
       "Torque [Nm]                0\n",
       "Tool wear [min]            0\n",
       "Machine failure            0\n",
       "TWF                        0\n",
       "HDF                        0\n",
       "PWF                        0\n",
       "OSF                        0\n",
       "RNF                        0\n",
       "dtype: int64"
      ]
     },
     "execution_count": 7,
     "metadata": {},
     "output_type": "execute_result"
    }
   ],
   "source": [
    "training_set.isna().sum()"
   ]
  },
  {
   "cell_type": "code",
   "execution_count": 8,
   "id": "ef44cf11",
   "metadata": {
    "execution": {
     "iopub.execute_input": "2023-07-22T18:23:51.649687Z",
     "iopub.status.busy": "2023-07-22T18:23:51.648913Z",
     "iopub.status.idle": "2023-07-22T18:23:51.757537Z",
     "shell.execute_reply": "2023-07-22T18:23:51.756137Z"
    },
    "papermill": {
     "duration": 0.125821,
     "end_time": "2023-07-22T18:23:51.759995",
     "exception": false,
     "start_time": "2023-07-22T18:23:51.634174",
     "status": "completed"
    },
    "tags": []
   },
   "outputs": [
    {
     "name": "stderr",
     "output_type": "stream",
     "text": [
      "/tmp/ipykernel_20/2158944124.py:2: FutureWarning: The default value of numeric_only in DataFrame.skew is deprecated. In a future version, it will default to False. In addition, specifying 'numeric_only=None' is deprecated. Select only valid columns or specify the value of numeric_only to silence this warning.\n",
      "  training_set.skew()\n"
     ]
    },
    {
     "data": {
      "text/plain": [
       "id                          0.000000\n",
       "Air temperature [K]         0.161175\n",
       "Process temperature [K]     0.057088\n",
       "Rotational speed [rpm]      1.888250\n",
       "Torque [Nm]                -0.028963\n",
       "Tool wear [min]            -0.027310\n",
       "Machine failure             7.780216\n",
       "TWF                        25.309063\n",
       "HDF                        13.813058\n",
       "PWF                        20.352532\n",
       "OSF                        15.800499\n",
       "RNF                        20.975301\n",
       "dtype: float64"
      ]
     },
     "execution_count": 8,
     "metadata": {},
     "output_type": "execute_result"
    }
   ],
   "source": [
    "#skewness value should be within the range of -1 to 1 for a normal distribution\n",
    "training_set.skew()"
   ]
  },
  {
   "cell_type": "code",
   "execution_count": 9,
   "id": "8623ec57",
   "metadata": {
    "execution": {
     "iopub.execute_input": "2023-07-22T18:23:51.787927Z",
     "iopub.status.busy": "2023-07-22T18:23:51.787465Z",
     "iopub.status.idle": "2023-07-22T18:23:52.341719Z",
     "shell.execute_reply": "2023-07-22T18:23:52.340812Z"
    },
    "papermill": {
     "duration": 0.570924,
     "end_time": "2023-07-22T18:23:52.343965",
     "exception": false,
     "start_time": "2023-07-22T18:23:51.773041",
     "status": "completed"
    },
    "tags": []
   },
   "outputs": [
    {
     "data": {
      "text/plain": [
       "<Axes: >"
      ]
     },
     "execution_count": 9,
     "metadata": {},
     "output_type": "execute_result"
    },
    {
     "data": {
      "image/png": "[encoded data removed]",
      "text/plain": [
       "<Figure size 640x480 with 1 Axes>"
      ]
     },
     "metadata": {},
     "output_type": "display_data"
    }
   ],
   "source": [
    "training_set.pop('id')\n",
    "training_set.plot.box(vert=False)"
   ]
  },
  {
   "cell_type": "code",
   "execution_count": 10,
   "id": "72e76f2a",
   "metadata": {
    "execution": {
     "iopub.execute_input": "2023-07-22T18:23:52.373462Z",
     "iopub.status.busy": "2023-07-22T18:23:52.372791Z",
     "iopub.status.idle": "2023-07-22T18:23:52.587979Z",
     "shell.execute_reply": "2023-07-22T18:23:52.586402Z"
    },
    "papermill": {
     "duration": 0.233711,
     "end_time": "2023-07-22T18:23:52.591419",
     "exception": false,
     "start_time": "2023-07-22T18:23:52.357708",
     "status": "completed"
    },
    "tags": []
   },
   "outputs": [
    {
     "data": {
      "text/plain": [
       "<Axes: >"
      ]
     },
     "execution_count": 10,
     "metadata": {},
     "output_type": "execute_result"
    },
    {
     "data": {
      "image/png": "[encoded data removed]",
      "text/plain": [
       "<Figure size 640x480 with 1 Axes>"
      ]
     },
     "metadata": {},
     "output_type": "display_data"
    }
   ],
   "source": [
    "training_set['Rotational speed [rpm]'].plot.box(vert=False)"
   ]
  },
  {
   "cell_type": "code",
   "execution_count": 11,
   "id": "a90d0f7c",
   "metadata": {
    "execution": {
     "iopub.execute_input": "2023-07-22T18:23:52.623755Z",
     "iopub.status.busy": "2023-07-22T18:23:52.622656Z",
     "iopub.status.idle": "2023-07-22T18:23:52.794197Z",
     "shell.execute_reply": "2023-07-22T18:23:52.792899Z"
    },
    "papermill": {
     "duration": 0.190043,
     "end_time": "2023-07-22T18:23:52.796931",
     "exception": false,
     "start_time": "2023-07-22T18:23:52.606888",
     "status": "completed"
    },
    "tags": []
   },
   "outputs": [
    {
     "data": {
      "text/plain": [
       "<Axes: >"
      ]
     },
     "execution_count": 11,
     "metadata": {},
     "output_type": "execute_result"
    },
    {
     "data": {
      "image/png": "[encoded data removed]",
      "text/plain": [
       "<Figure size 640x480 with 1 Axes>"
      ]
     },
     "metadata": {},
     "output_type": "display_data"
    }
   ],
   "source": [
    "training_set['Tool wear [min]'].plot.box(vert=False)"
   ]
  },
  {
   "cell_type": "code",
   "execution_count": 12,
   "id": "481c3de4",
   "metadata": {
    "execution": {
     "iopub.execute_input": "2023-07-22T18:23:52.830554Z",
     "iopub.status.busy": "2023-07-22T18:23:52.828632Z",
     "iopub.status.idle": "2023-07-22T18:23:53.024310Z",
     "shell.execute_reply": "2023-07-22T18:23:53.023061Z"
    },
    "papermill": {
     "duration": 0.215109,
     "end_time": "2023-07-22T18:23:53.027137",
     "exception": false,
     "start_time": "2023-07-22T18:23:52.812028",
     "status": "completed"
    },
    "tags": []
   },
   "outputs": [
    {
     "data": {
      "text/plain": [
       "<Axes: >"
      ]
     },
     "execution_count": 12,
     "metadata": {},
     "output_type": "execute_result"
    },
    {
     "data": {
      "image/png": "[encoded data removed]",
      "text/plain": [
       "<Figure size 640x480 with 1 Axes>"
      ]
     },
     "metadata": {},
     "output_type": "display_data"
    }
   ],
   "source": [
    "training_set['Torque [Nm]'].plot.box(vert=False)"
   ]
  },
  {
   "cell_type": "code",
   "execution_count": 13,
   "id": "3dd28fe6",
   "metadata": {
    "execution": {
     "iopub.execute_input": "2023-07-22T18:23:53.060216Z",
     "iopub.status.busy": "2023-07-22T18:23:53.058942Z",
     "iopub.status.idle": "2023-07-22T18:23:53.259560Z",
     "shell.execute_reply": "2023-07-22T18:23:53.258310Z"
    },
    "papermill": {
     "duration": 0.219632,
     "end_time": "2023-07-22T18:23:53.261989",
     "exception": false,
     "start_time": "2023-07-22T18:23:53.042357",
     "status": "completed"
    },
    "tags": []
   },
   "outputs": [
    {
     "data": {
      "text/plain": [
       "<Axes: >"
      ]
     },
     "execution_count": 13,
     "metadata": {},
     "output_type": "execute_result"
    },
    {
     "data": {
      "image/png": "[encoded data removed]",
      "text/plain": [
       "<Figure size 640x480 with 1 Axes>"
      ]
     },
     "metadata": {},
     "output_type": "display_data"
    }
   ],
   "source": [
    "training_set['Process temperature [K]'].plot.box(vert=False)"
   ]
  },
  {
   "cell_type": "code",
   "execution_count": 14,
   "id": "724cb610",
   "metadata": {
    "execution": {
     "iopub.execute_input": "2023-07-22T18:23:53.295502Z",
     "iopub.status.busy": "2023-07-22T18:23:53.295087Z",
     "iopub.status.idle": "2023-07-22T18:23:53.301799Z",
     "shell.execute_reply": "2023-07-22T18:23:53.300692Z"
    },
    "papermill": {
     "duration": 0.026283,
     "end_time": "2023-07-22T18:23:53.304109",
     "exception": false,
     "start_time": "2023-07-22T18:23:53.277826",
     "status": "completed"
    },
    "tags": []
   },
   "outputs": [],
   "source": [
    "#Outlier Removal\n",
    "def outlier_removal(column_name, table):\n",
    "    Q1 = column_name.quantile(0.265)\n",
    "    Q3 = column_name.quantile(0.73)\n",
    "    IQR = Q3 - Q1\n",
    "    whisker_width = 1.5\n",
    "    lower_whisker = Q1 - (whisker_width*IQR)\n",
    "    upper_whisker = Q3 + (whisker_width*IQR)\n",
    "    index=column_name[(column_name>upper_whisker)|(column_name<lower_whisker)].index\n",
    "    table.drop(index,inplace=True)\n"
   ]
  },
  {
   "cell_type": "code",
   "execution_count": 15,
   "id": "b4db8042",
   "metadata": {
    "execution": {
     "iopub.execute_input": "2023-07-22T18:23:53.337253Z",
     "iopub.status.busy": "2023-07-22T18:23:53.336835Z",
     "iopub.status.idle": "2023-07-22T18:23:53.535315Z",
     "shell.execute_reply": "2023-07-22T18:23:53.534078Z"
    },
    "papermill": {
     "duration": 0.218627,
     "end_time": "2023-07-22T18:23:53.538264",
     "exception": false,
     "start_time": "2023-07-22T18:23:53.319637",
     "status": "completed"
    },
    "tags": []
   },
   "outputs": [
    {
     "data": {
      "text/plain": [
       "<Axes: >"
      ]
     },
     "execution_count": 15,
     "metadata": {},
     "output_type": "execute_result"
    },
    {
     "data": {
      "image/png": "[encoded data removed]",
      "text/plain": [
       "<Figure size 640x480 with 1 Axes>"
      ]
     },
     "metadata": {},
     "output_type": "display_data"
    }
   ],
   "source": [
    "outlier_removal(training_set['Torque [Nm]'],training_set)\n",
    "training_set['Torque [Nm]'].plot.box(vert=False)\n"
   ]
  },
  {
   "cell_type": "code",
   "execution_count": 16,
   "id": "d1f879f5",
   "metadata": {
    "execution": {
     "iopub.execute_input": "2023-07-22T18:23:53.572564Z",
     "iopub.status.busy": "2023-07-22T18:23:53.572169Z",
     "iopub.status.idle": "2023-07-22T18:23:53.828351Z",
     "shell.execute_reply": "2023-07-22T18:23:53.827165Z"
    },
    "papermill": {
     "duration": 0.276314,
     "end_time": "2023-07-22T18:23:53.830954",
     "exception": false,
     "start_time": "2023-07-22T18:23:53.554640",
     "status": "completed"
    },
    "tags": []
   },
   "outputs": [
    {
     "data": {
      "text/plain": [
       "<Axes: >"
      ]
     },
     "execution_count": 16,
     "metadata": {},
     "output_type": "execute_result"
    },
    {
     "data": {
      "image/png": "[encoded data removed]",
      "text/plain": [
       "<Figure size 640x480 with 1 Axes>"
      ]
     },
     "metadata": {},
     "output_type": "display_data"
    }
   ],
   "source": [
    "outlier_removal(training_set['Rotational speed [rpm]'],training_set)\n",
    "training_set['Rotational speed [rpm]'].plot.box(vert=False)\n"
   ]
  },
  {
   "cell_type": "code",
   "execution_count": 17,
   "id": "cb158e6b",
   "metadata": {
    "execution": {
     "iopub.execute_input": "2023-07-22T18:23:53.867410Z",
     "iopub.status.busy": "2023-07-22T18:23:53.866150Z",
     "iopub.status.idle": "2023-07-22T18:23:53.872660Z",
     "shell.execute_reply": "2023-07-22T18:23:53.871901Z"
    },
    "papermill": {
     "duration": 0.026984,
     "end_time": "2023-07-22T18:23:53.874782",
     "exception": false,
     "start_time": "2023-07-22T18:23:53.847798",
     "status": "completed"
    },
    "tags": []
   },
   "outputs": [
    {
     "data": {
      "text/plain": [
       "(128663, 13)"
      ]
     },
     "execution_count": 17,
     "metadata": {},
     "output_type": "execute_result"
    }
   ],
   "source": [
    "training_set.shape"
   ]
  },
  {
   "cell_type": "code",
   "execution_count": 18,
   "id": "6595f36b",
   "metadata": {
    "execution": {
     "iopub.execute_input": "2023-07-22T18:23:53.909661Z",
     "iopub.status.busy": "2023-07-22T18:23:53.909265Z",
     "iopub.status.idle": "2023-07-22T18:23:54.203109Z",
     "shell.execute_reply": "2023-07-22T18:23:54.201796Z"
    },
    "papermill": {
     "duration": 0.314471,
     "end_time": "2023-07-22T18:23:54.205666",
     "exception": false,
     "start_time": "2023-07-22T18:23:53.891195",
     "status": "completed"
    },
    "tags": []
   },
   "outputs": [
    {
     "data": {
      "text/plain": [
       "0.40571745584643526"
      ]
     },
     "execution_count": 18,
     "metadata": {},
     "output_type": "execute_result"
    },
    {
     "data": {
      "image/png": "[encoded data removed]",
      "text/plain": [
       "<Figure size 640x480 with 1 Axes>"
      ]
     },
     "metadata": {},
     "output_type": "display_data"
    }
   ],
   "source": [
    "training_set['Rotational speed [rpm]'].hist()\n",
    "training_set['Rotational speed [rpm]'].skew() #skewness value should be within the range of -1 to 1 for a normal distribution"
   ]
  },
  {
   "cell_type": "code",
   "execution_count": 19,
   "id": "5513f219",
   "metadata": {
    "execution": {
     "iopub.execute_input": "2023-07-22T18:23:54.241543Z",
     "iopub.status.busy": "2023-07-22T18:23:54.240737Z",
     "iopub.status.idle": "2023-07-22T18:23:54.533379Z",
     "shell.execute_reply": "2023-07-22T18:23:54.532211Z"
    },
    "papermill": {
     "duration": 0.313926,
     "end_time": "2023-07-22T18:23:54.536391",
     "exception": false,
     "start_time": "2023-07-22T18:23:54.222465",
     "status": "completed"
    },
    "tags": []
   },
   "outputs": [
    {
     "data": {
      "text/plain": [
       "0.13089947208371033"
      ]
     },
     "execution_count": 19,
     "metadata": {},
     "output_type": "execute_result"
    },
    {
     "data": {
      "image/png": "[encoded data removed]",
      "text/plain": [
       "<Figure size 640x480 with 1 Axes>"
      ]
     },
     "metadata": {},
     "output_type": "display_data"
    }
   ],
   "source": [
    "training_set['Torque [Nm]'].hist()\n",
    "training_set['Torque [Nm]'].skew() "
   ]
  },
  {
   "cell_type": "code",
   "execution_count": 20,
   "id": "c6989e5c",
   "metadata": {
    "execution": {
     "iopub.execute_input": "2023-07-22T18:23:54.574103Z",
     "iopub.status.busy": "2023-07-22T18:23:54.572795Z",
     "iopub.status.idle": "2023-07-22T18:23:54.877157Z",
     "shell.execute_reply": "2023-07-22T18:23:54.875697Z"
    },
    "papermill": {
     "duration": 0.326155,
     "end_time": "2023-07-22T18:23:54.880099",
     "exception": false,
     "start_time": "2023-07-22T18:23:54.553944",
     "status": "completed"
    },
    "tags": []
   },
   "outputs": [
    {
     "data": {
      "text/plain": [
       "25.896822124952877"
      ]
     },
     "execution_count": 20,
     "metadata": {},
     "output_type": "execute_result"
    },
    {
     "data": {
      "image/png": "[encoded data removed]",
      "text/plain": [
       "<Figure size 640x480 with 1 Axes>"
      ]
     },
     "metadata": {},
     "output_type": "display_data"
    }
   ],
   "source": [
    "training_set['TWF'].hist()\n",
    "training_set['TWF'].skew() "
   ]
  },
  {
   "cell_type": "markdown",
   "id": "c015405a",
   "metadata": {
    "papermill": {
     "duration": 0.018159,
     "end_time": "2023-07-22T18:23:54.915982",
     "exception": false,
     "start_time": "2023-07-22T18:23:54.897823",
     "status": "completed"
    },
    "tags": []
   },
   "source": [
    "## **Encoding Categorical Data**"
   ]
  },
  {
   "cell_type": "code",
   "execution_count": 21,
   "id": "c0ec4802",
   "metadata": {
    "execution": {
     "iopub.execute_input": "2023-07-22T18:23:54.954426Z",
     "iopub.status.busy": "2023-07-22T18:23:54.954017Z",
     "iopub.status.idle": "2023-07-22T18:23:54.962707Z",
     "shell.execute_reply": "2023-07-22T18:23:54.961573Z"
    },
    "papermill": {
     "duration": 0.031119,
     "end_time": "2023-07-22T18:23:54.965214",
     "exception": false,
     "start_time": "2023-07-22T18:23:54.934095",
     "status": "completed"
    },
    "tags": []
   },
   "outputs": [
    {
     "data": {
      "text/plain": [
       "Product ID                  object\n",
       "Type                        object\n",
       "Air temperature [K]        float64\n",
       "Process temperature [K]    float64\n",
       "Rotational speed [rpm]       int64\n",
       "Torque [Nm]                float64\n",
       "Tool wear [min]              int64\n",
       "Machine failure              int64\n",
       "TWF                          int64\n",
       "HDF                          int64\n",
       "PWF                          int64\n",
       "OSF                          int64\n",
       "RNF                          int64\n",
       "dtype: object"
      ]
     },
     "execution_count": 21,
     "metadata": {},
     "output_type": "execute_result"
    }
   ],
   "source": [
    "training_set.dtypes\n"
   ]
  },
  {
   "cell_type": "code",
   "execution_count": 22,
   "id": "c31a0317",
   "metadata": {
    "execution": {
     "iopub.execute_input": "2023-07-22T18:23:55.003463Z",
     "iopub.status.busy": "2023-07-22T18:23:55.003051Z",
     "iopub.status.idle": "2023-07-22T18:23:55.053199Z",
     "shell.execute_reply": "2023-07-22T18:23:55.051772Z"
    },
    "papermill": {
     "duration": 0.072885,
     "end_time": "2023-07-22T18:23:55.056149",
     "exception": false,
     "start_time": "2023-07-22T18:23:54.983264",
     "status": "completed"
    },
    "tags": []
   },
   "outputs": [
    {
     "name": "stdout",
     "output_type": "stream",
     "text": [
      "Type\n"
     ]
    }
   ],
   "source": [
    "categorical_column=['Type']\n",
    "# label_encoder object\n",
    "label_encoder =LabelEncoder()\n",
    "# Encode labels in column. \n",
    "\n",
    "for i in categorical_column:\n",
    "  print(i)\n",
    "  training_set[i]= label_encoder.fit_transform(training_set[i])\n"
   ]
  },
  {
   "cell_type": "code",
   "execution_count": 23,
   "id": "6ec90057",
   "metadata": {
    "execution": {
     "iopub.execute_input": "2023-07-22T18:23:55.094494Z",
     "iopub.status.busy": "2023-07-22T18:23:55.094090Z",
     "iopub.status.idle": "2023-07-22T18:23:55.112709Z",
     "shell.execute_reply": "2023-07-22T18:23:55.111601Z"
    },
    "papermill": {
     "duration": 0.040726,
     "end_time": "2023-07-22T18:23:55.115312",
     "exception": false,
     "start_time": "2023-07-22T18:23:55.074586",
     "status": "completed"
    },
    "tags": []
   },
   "outputs": [
    {
     "data": {
      "text/html": [
       "<div>\n",
       "<style scoped>\n",
       "    .dataframe tbody tr th:only-of-type {\n",
       "        vertical-align: middle;\n",
       "    }\n",
       "\n",
       "    .dataframe tbody tr th {\n",
       "        vertical-align: top;\n",
       "    }\n",
       "\n",
       "    .dataframe thead th {\n",
       "        text-align: right;\n",
       "    }\n",
       "</style>\n",
       "<table border=\"1\" class=\"dataframe\">\n",
       "  <thead>\n",
       "    <tr style=\"text-align: right;\">\n",
       "      <th></th>\n",
       "      <th>Product ID</th>\n",
       "      <th>Type</th>\n",
       "      <th>Air temperature [K]</th>\n",
       "      <th>Process temperature [K]</th>\n",
       "      <th>Rotational speed [rpm]</th>\n",
       "      <th>Torque [Nm]</th>\n",
       "      <th>Tool wear [min]</th>\n",
       "      <th>Machine failure</th>\n",
       "      <th>TWF</th>\n",
       "      <th>HDF</th>\n",
       "      <th>PWF</th>\n",
       "      <th>OSF</th>\n",
       "      <th>RNF</th>\n",
       "    </tr>\n",
       "  </thead>\n",
       "  <tbody>\n",
       "    <tr>\n",
       "      <th>0</th>\n",
       "      <td>L50096</td>\n",
       "      <td>1</td>\n",
       "      <td>300.6</td>\n",
       "      <td>309.6</td>\n",
       "      <td>1596</td>\n",
       "      <td>36.1</td>\n",
       "      <td>140</td>\n",
       "      <td>0</td>\n",
       "      <td>0</td>\n",
       "      <td>0</td>\n",
       "      <td>0</td>\n",
       "      <td>0</td>\n",
       "      <td>0</td>\n",
       "    </tr>\n",
       "    <tr>\n",
       "      <th>1</th>\n",
       "      <td>M20343</td>\n",
       "      <td>2</td>\n",
       "      <td>302.6</td>\n",
       "      <td>312.1</td>\n",
       "      <td>1759</td>\n",
       "      <td>29.1</td>\n",
       "      <td>200</td>\n",
       "      <td>0</td>\n",
       "      <td>0</td>\n",
       "      <td>0</td>\n",
       "      <td>0</td>\n",
       "      <td>0</td>\n",
       "      <td>0</td>\n",
       "    </tr>\n",
       "    <tr>\n",
       "      <th>3</th>\n",
       "      <td>L53355</td>\n",
       "      <td>1</td>\n",
       "      <td>301.0</td>\n",
       "      <td>310.9</td>\n",
       "      <td>1524</td>\n",
       "      <td>44.3</td>\n",
       "      <td>197</td>\n",
       "      <td>0</td>\n",
       "      <td>0</td>\n",
       "      <td>0</td>\n",
       "      <td>0</td>\n",
       "      <td>0</td>\n",
       "      <td>0</td>\n",
       "    </tr>\n",
       "    <tr>\n",
       "      <th>4</th>\n",
       "      <td>M24050</td>\n",
       "      <td>2</td>\n",
       "      <td>298.0</td>\n",
       "      <td>309.0</td>\n",
       "      <td>1641</td>\n",
       "      <td>35.4</td>\n",
       "      <td>34</td>\n",
       "      <td>0</td>\n",
       "      <td>0</td>\n",
       "      <td>0</td>\n",
       "      <td>0</td>\n",
       "      <td>0</td>\n",
       "      <td>0</td>\n",
       "    </tr>\n",
       "    <tr>\n",
       "      <th>5</th>\n",
       "      <td>M24300</td>\n",
       "      <td>2</td>\n",
       "      <td>298.4</td>\n",
       "      <td>308.9</td>\n",
       "      <td>1429</td>\n",
       "      <td>42.1</td>\n",
       "      <td>65</td>\n",
       "      <td>0</td>\n",
       "      <td>0</td>\n",
       "      <td>0</td>\n",
       "      <td>0</td>\n",
       "      <td>0</td>\n",
       "      <td>0</td>\n",
       "    </tr>\n",
       "  </tbody>\n",
       "</table>\n",
       "</div>"
      ],
      "text/plain": [
       "  Product ID  Type  Air temperature [K]  Process temperature [K]  \\\n",
       "0     L50096     1                300.6                    309.6   \n",
       "1     M20343     2                302.6                    312.1   \n",
       "3     L53355     1                301.0                    310.9   \n",
       "4     M24050     2                298.0                    309.0   \n",
       "5     M24300     2                298.4                    308.9   \n",
       "\n",
       "   Rotational speed [rpm]  Torque [Nm]  Tool wear [min]  Machine failure  TWF  \\\n",
       "0                    1596         36.1              140                0    0   \n",
       "1                    1759         29.1              200                0    0   \n",
       "3                    1524         44.3              197                0    0   \n",
       "4                    1641         35.4               34                0    0   \n",
       "5                    1429         42.1               65                0    0   \n",
       "\n",
       "   HDF  PWF  OSF  RNF  \n",
       "0    0    0    0    0  \n",
       "1    0    0    0    0  \n",
       "3    0    0    0    0  \n",
       "4    0    0    0    0  \n",
       "5    0    0    0    0  "
      ]
     },
     "execution_count": 23,
     "metadata": {},
     "output_type": "execute_result"
    }
   ],
   "source": [
    "training_set.head()"
   ]
  },
  {
   "cell_type": "code",
   "execution_count": 24,
   "id": "7eeffbb9",
   "metadata": {
    "execution": {
     "iopub.execute_input": "2023-07-22T18:23:55.154267Z",
     "iopub.status.busy": "2023-07-22T18:23:55.153869Z",
     "iopub.status.idle": "2023-07-22T18:23:55.164282Z",
     "shell.execute_reply": "2023-07-22T18:23:55.163447Z"
    },
    "papermill": {
     "duration": 0.032568,
     "end_time": "2023-07-22T18:23:55.166556",
     "exception": false,
     "start_time": "2023-07-22T18:23:55.133988",
     "status": "completed"
    },
    "tags": []
   },
   "outputs": [
    {
     "data": {
      "text/plain": [
       "array([0, 1])"
      ]
     },
     "execution_count": 24,
     "metadata": {},
     "output_type": "execute_result"
    }
   ],
   "source": [
    "training_set['Machine failure'].unique()\n"
   ]
  },
  {
   "cell_type": "markdown",
   "id": "5f956721",
   "metadata": {
    "papermill": {
     "duration": 0.018665,
     "end_time": "2023-07-22T18:23:55.204380",
     "exception": false,
     "start_time": "2023-07-22T18:23:55.185715",
     "status": "completed"
    },
    "tags": []
   },
   "source": [
    "# **Model Benchmarking**"
   ]
  },
  {
   "cell_type": "code",
   "execution_count": 25,
   "id": "a661c5db",
   "metadata": {
    "execution": {
     "iopub.execute_input": "2023-07-22T18:23:55.244412Z",
     "iopub.status.busy": "2023-07-22T18:23:55.243329Z",
     "iopub.status.idle": "2023-07-22T18:23:55.333607Z",
     "shell.execute_reply": "2023-07-22T18:23:55.332650Z"
    },
    "papermill": {
     "duration": 0.113096,
     "end_time": "2023-07-22T18:23:55.336321",
     "exception": false,
     "start_time": "2023-07-22T18:23:55.223225",
     "status": "completed"
    },
    "tags": []
   },
   "outputs": [],
   "source": [
    "########## Split Features and Target Varible ############\n",
    "X = training_set.drop(columns=['Machine failure','Product ID'])\n",
    "y = training_set['Machine failure']\n",
    "\n",
    "################# Splitting into Train -Test Data #######\n",
    "\n",
    "X_train,X_test,y_train,y_test = train_test_split(X,y,test_size=0.1,stratify =y,random_state =42)"
   ]
  },
  {
   "cell_type": "code",
   "execution_count": 26,
   "id": "544c64cd",
   "metadata": {
    "execution": {
     "iopub.execute_input": "2023-07-22T18:23:55.375620Z",
     "iopub.status.busy": "2023-07-22T18:23:55.375238Z",
     "iopub.status.idle": "2023-07-22T18:23:55.553415Z",
     "shell.execute_reply": "2023-07-22T18:23:55.552287Z"
    },
    "papermill": {
     "duration": 0.200807,
     "end_time": "2023-07-22T18:23:55.555861",
     "exception": false,
     "start_time": "2023-07-22T18:23:55.355054",
     "status": "completed"
    },
    "tags": []
   },
   "outputs": [
    {
     "data": {
      "text/html": [
       "<div>\n",
       "<style scoped>\n",
       "    .dataframe tbody tr th:only-of-type {\n",
       "        vertical-align: middle;\n",
       "    }\n",
       "\n",
       "    .dataframe tbody tr th {\n",
       "        vertical-align: top;\n",
       "    }\n",
       "\n",
       "    .dataframe thead th {\n",
       "        text-align: right;\n",
       "    }\n",
       "</style>\n",
       "<table border=\"1\" class=\"dataframe\">\n",
       "  <thead>\n",
       "    <tr style=\"text-align: right;\">\n",
       "      <th></th>\n",
       "      <th>Type</th>\n",
       "      <th>Air temperature [K]</th>\n",
       "      <th>Process temperature [K]</th>\n",
       "      <th>Rotational speed [rpm]</th>\n",
       "      <th>Torque [Nm]</th>\n",
       "      <th>Tool wear [min]</th>\n",
       "      <th>TWF</th>\n",
       "      <th>HDF</th>\n",
       "      <th>PWF</th>\n",
       "      <th>OSF</th>\n",
       "      <th>RNF</th>\n",
       "    </tr>\n",
       "  </thead>\n",
       "  <tbody>\n",
       "    <tr>\n",
       "      <th>68417</th>\n",
       "      <td>1</td>\n",
       "      <td>297.7</td>\n",
       "      <td>308.7</td>\n",
       "      <td>1479</td>\n",
       "      <td>40.6</td>\n",
       "      <td>118</td>\n",
       "      <td>0</td>\n",
       "      <td>0</td>\n",
       "      <td>0</td>\n",
       "      <td>0</td>\n",
       "      <td>0</td>\n",
       "    </tr>\n",
       "    <tr>\n",
       "      <th>36655</th>\n",
       "      <td>1</td>\n",
       "      <td>299.5</td>\n",
       "      <td>310.8</td>\n",
       "      <td>1571</td>\n",
       "      <td>38.4</td>\n",
       "      <td>74</td>\n",
       "      <td>0</td>\n",
       "      <td>0</td>\n",
       "      <td>0</td>\n",
       "      <td>0</td>\n",
       "      <td>0</td>\n",
       "    </tr>\n",
       "    <tr>\n",
       "      <th>51165</th>\n",
       "      <td>1</td>\n",
       "      <td>302.4</td>\n",
       "      <td>310.4</td>\n",
       "      <td>1272</td>\n",
       "      <td>54.6</td>\n",
       "      <td>68</td>\n",
       "      <td>0</td>\n",
       "      <td>1</td>\n",
       "      <td>0</td>\n",
       "      <td>1</td>\n",
       "      <td>0</td>\n",
       "    </tr>\n",
       "    <tr>\n",
       "      <th>82153</th>\n",
       "      <td>1</td>\n",
       "      <td>301.8</td>\n",
       "      <td>310.0</td>\n",
       "      <td>1742</td>\n",
       "      <td>30.3</td>\n",
       "      <td>185</td>\n",
       "      <td>0</td>\n",
       "      <td>0</td>\n",
       "      <td>0</td>\n",
       "      <td>0</td>\n",
       "      <td>0</td>\n",
       "    </tr>\n",
       "    <tr>\n",
       "      <th>53955</th>\n",
       "      <td>1</td>\n",
       "      <td>298.5</td>\n",
       "      <td>309.7</td>\n",
       "      <td>1634</td>\n",
       "      <td>41.1</td>\n",
       "      <td>78</td>\n",
       "      <td>0</td>\n",
       "      <td>0</td>\n",
       "      <td>0</td>\n",
       "      <td>0</td>\n",
       "      <td>0</td>\n",
       "    </tr>\n",
       "  </tbody>\n",
       "</table>\n",
       "</div>"
      ],
      "text/plain": [
       "       Type  Air temperature [K]  Process temperature [K]  \\\n",
       "68417     1                297.7                    308.7   \n",
       "36655     1                299.5                    310.8   \n",
       "51165     1                302.4                    310.4   \n",
       "82153     1                301.8                    310.0   \n",
       "53955     1                298.5                    309.7   \n",
       "\n",
       "       Rotational speed [rpm]  Torque [Nm]  Tool wear [min]  TWF  HDF  PWF  \\\n",
       "68417                    1479         40.6              118    0    0    0   \n",
       "36655                    1571         38.4               74    0    0    0   \n",
       "51165                    1272         54.6               68    0    1    0   \n",
       "82153                    1742         30.3              185    0    0    0   \n",
       "53955                    1634         41.1               78    0    0    0   \n",
       "\n",
       "       OSF  RNF  \n",
       "68417    0    0  \n",
       "36655    0    0  \n",
       "51165    1    0  \n",
       "82153    0    0  \n",
       "53955    0    0  "
      ]
     },
     "execution_count": 26,
     "metadata": {},
     "output_type": "execute_result"
    }
   ],
   "source": [
    "X_test.head()"
   ]
  },
  {
   "cell_type": "code",
   "execution_count": 27,
   "id": "7abc7e82",
   "metadata": {
    "execution": {
     "iopub.execute_input": "2023-07-22T18:23:55.595470Z",
     "iopub.status.busy": "2023-07-22T18:23:55.595040Z",
     "iopub.status.idle": "2023-07-22T18:23:55.600965Z",
     "shell.execute_reply": "2023-07-22T18:23:55.599897Z"
    },
    "papermill": {
     "duration": 0.028458,
     "end_time": "2023-07-22T18:23:55.603322",
     "exception": false,
     "start_time": "2023-07-22T18:23:55.574864",
     "status": "completed"
    },
    "tags": []
   },
   "outputs": [
    {
     "name": "stdout",
     "output_type": "stream",
     "text": [
      "(115796, 11)\n",
      "(12867, 11)\n",
      "(115796,)\n",
      "(12867,)\n"
     ]
    }
   ],
   "source": [
    "print(X_train.shape)\n",
    "print(X_test.shape)\n",
    "print(y_train.shape)\n",
    "print(y_test.shape)"
   ]
  },
  {
   "cell_type": "code",
   "execution_count": 28,
   "id": "1d42b4fa",
   "metadata": {
    "execution": {
     "iopub.execute_input": "2023-07-22T18:23:55.642811Z",
     "iopub.status.busy": "2023-07-22T18:23:55.642444Z",
     "iopub.status.idle": "2023-07-22T18:23:56.566165Z",
     "shell.execute_reply": "2023-07-22T18:23:56.565084Z"
    },
    "papermill": {
     "duration": 0.946604,
     "end_time": "2023-07-22T18:23:56.569011",
     "exception": false,
     "start_time": "2023-07-22T18:23:55.622407",
     "status": "completed"
    },
    "tags": []
   },
   "outputs": [
    {
     "name": "stdout",
     "output_type": "stream",
     "text": [
      "Training Data Set Accuracy:  0.9940934172689827\n",
      "Training Data F1 Score  0.776470588235294\n",
      "Test Accuracy:  0.9940934172689827\n",
      "Test F1 Score:  0.776470588235294\n",
      "Confusion Matrix on Test Data\n"
     ]
    },
    {
     "data": {
      "text/html": [
       "<div>\n",
       "<style scoped>\n",
       "    .dataframe tbody tr th:only-of-type {\n",
       "        vertical-align: middle;\n",
       "    }\n",
       "\n",
       "    .dataframe tbody tr th {\n",
       "        vertical-align: top;\n",
       "    }\n",
       "\n",
       "    .dataframe thead th {\n",
       "        text-align: right;\n",
       "    }\n",
       "</style>\n",
       "<table border=\"1\" class=\"dataframe\">\n",
       "  <thead>\n",
       "    <tr style=\"text-align: right;\">\n",
       "      <th>Predicted</th>\n",
       "      <th>0</th>\n",
       "      <th>1</th>\n",
       "      <th>All</th>\n",
       "    </tr>\n",
       "    <tr>\n",
       "      <th>Actual</th>\n",
       "      <th></th>\n",
       "      <th></th>\n",
       "      <th></th>\n",
       "    </tr>\n",
       "  </thead>\n",
       "  <tbody>\n",
       "    <tr>\n",
       "      <th>0</th>\n",
       "      <td>12659</td>\n",
       "      <td>45</td>\n",
       "      <td>12704</td>\n",
       "    </tr>\n",
       "    <tr>\n",
       "      <th>1</th>\n",
       "      <td>31</td>\n",
       "      <td>132</td>\n",
       "      <td>163</td>\n",
       "    </tr>\n",
       "    <tr>\n",
       "      <th>All</th>\n",
       "      <td>12690</td>\n",
       "      <td>177</td>\n",
       "      <td>12867</td>\n",
       "    </tr>\n",
       "  </tbody>\n",
       "</table>\n",
       "</div>"
      ],
      "text/plain": [
       "Predicted      0    1    All\n",
       "Actual                      \n",
       "0          12659   45  12704\n",
       "1             31  132    163\n",
       "All        12690  177  12867"
      ]
     },
     "execution_count": 28,
     "metadata": {},
     "output_type": "execute_result"
    }
   ],
   "source": [
    "tree_clf = DecisionTreeClassifier()\n",
    "tree_clf.fit(X_train,y_train)\n",
    "y_pred = tree_clf.predict(X_test)\n",
    "print(\"Training Data Set Accuracy: \", accuracy_score(y_test,y_pred))\n",
    "print(\"Training Data F1 Score \", f1_score(y_test,y_pred))\n",
    "\n",
    "print(\"Test Accuracy: \",accuracy_score(y_test,y_pred))\n",
    "print(\"Test F1 Score: \",f1_score(y_test,y_pred))\n",
    "print(\"Confusion Matrix on Test Data\")\n",
    "pd.crosstab(y_test, y_pred, rownames=['Actual'], colnames=['Predicted'], margins=True)"
   ]
  },
  {
   "cell_type": "code",
   "execution_count": 29,
   "id": "cb038cba",
   "metadata": {
    "execution": {
     "iopub.execute_input": "2023-07-22T18:23:56.622631Z",
     "iopub.status.busy": "2023-07-22T18:23:56.621587Z",
     "iopub.status.idle": "2023-07-22T18:28:03.136901Z",
     "shell.execute_reply": "2023-07-22T18:28:03.135300Z"
    },
    "papermill": {
     "duration": 246.571224,
     "end_time": "2023-07-22T18:28:03.165876",
     "exception": false,
     "start_time": "2023-07-22T18:23:56.594652",
     "status": "completed"
    },
    "tags": []
   },
   "outputs": [
    {
     "name": "stdout",
     "output_type": "stream",
     "text": [
      "Training Data Set Accuracy:  0.997357581409808\n",
      "Training Data F1 Score  0.8835616438356165\n",
      "Test Accuracy:  0.997357581409808\n",
      "Test F1 Score:  0.8835616438356165\n",
      "Confusion Matrix on Test Data\n"
     ]
    },
    {
     "data": {
      "text/html": [
       "<div>\n",
       "<style scoped>\n",
       "    .dataframe tbody tr th:only-of-type {\n",
       "        vertical-align: middle;\n",
       "    }\n",
       "\n",
       "    .dataframe tbody tr th {\n",
       "        vertical-align: top;\n",
       "    }\n",
       "\n",
       "    .dataframe thead th {\n",
       "        text-align: right;\n",
       "    }\n",
       "</style>\n",
       "<table border=\"1\" class=\"dataframe\">\n",
       "  <thead>\n",
       "    <tr style=\"text-align: right;\">\n",
       "      <th>Predicted</th>\n",
       "      <th>0</th>\n",
       "      <th>1</th>\n",
       "      <th>All</th>\n",
       "    </tr>\n",
       "    <tr>\n",
       "      <th>Actual</th>\n",
       "      <th></th>\n",
       "      <th></th>\n",
       "      <th></th>\n",
       "    </tr>\n",
       "  </thead>\n",
       "  <tbody>\n",
       "    <tr>\n",
       "      <th>0</th>\n",
       "      <td>12704</td>\n",
       "      <td>0</td>\n",
       "      <td>12704</td>\n",
       "    </tr>\n",
       "    <tr>\n",
       "      <th>1</th>\n",
       "      <td>34</td>\n",
       "      <td>129</td>\n",
       "      <td>163</td>\n",
       "    </tr>\n",
       "    <tr>\n",
       "      <th>All</th>\n",
       "      <td>12738</td>\n",
       "      <td>129</td>\n",
       "      <td>12867</td>\n",
       "    </tr>\n",
       "  </tbody>\n",
       "</table>\n",
       "</div>"
      ],
      "text/plain": [
       "Predicted      0    1    All\n",
       "Actual                      \n",
       "0          12704    0  12704\n",
       "1             34  129    163\n",
       "All        12738  129  12867"
      ]
     },
     "execution_count": 29,
     "metadata": {},
     "output_type": "execute_result"
    }
   ],
   "source": [
    "Ann_clf = MLPClassifier(hidden_layer_sizes=(256,128,64,32),activation=\"relu\",random_state=1)\n",
    "Ann_clf.fit(X_train, y_train)\n",
    "y_pred = Ann_clf.predict(X_test)\n",
    "print(\"Training Data Set Accuracy: \", accuracy_score(y_test,y_pred))\n",
    "print(\"Training Data F1 Score \", f1_score(y_test,y_pred))\n",
    "\n",
    "print(\"Test Accuracy: \",accuracy_score(y_test,y_pred))\n",
    "print(\"Test F1 Score: \",f1_score(y_test,y_pred))\n",
    "print(\"Confusion Matrix on Test Data\")\n",
    "pd.crosstab(y_test, y_pred, rownames=['Actual'], colnames=['Predicted'], margins=True)"
   ]
  },
  {
   "cell_type": "code",
   "execution_count": 30,
   "id": "8ec68454",
   "metadata": {
    "execution": {
     "iopub.execute_input": "2023-07-22T18:28:03.208259Z",
     "iopub.status.busy": "2023-07-22T18:28:03.207790Z",
     "iopub.status.idle": "2023-07-22T18:28:03.958649Z",
     "shell.execute_reply": "2023-07-22T18:28:03.957414Z"
    },
    "papermill": {
     "duration": 0.774684,
     "end_time": "2023-07-22T18:28:03.960982",
     "exception": false,
     "start_time": "2023-07-22T18:28:03.186298",
     "status": "completed"
    },
    "tags": []
   },
   "outputs": [
    {
     "name": "stdout",
     "output_type": "stream",
     "text": [
      "Training Data Set Accuracy:  0.9975130177974664\n",
      "Training Data F1 Score  0.891156462585034\n",
      "Test Accuracy:  0.9975130177974664\n",
      "Test F1 Score:  0.891156462585034\n",
      "Confusion Matrix on Test Data\n"
     ]
    },
    {
     "data": {
      "text/html": [
       "<div>\n",
       "<style scoped>\n",
       "    .dataframe tbody tr th:only-of-type {\n",
       "        vertical-align: middle;\n",
       "    }\n",
       "\n",
       "    .dataframe tbody tr th {\n",
       "        vertical-align: top;\n",
       "    }\n",
       "\n",
       "    .dataframe thead th {\n",
       "        text-align: right;\n",
       "    }\n",
       "</style>\n",
       "<table border=\"1\" class=\"dataframe\">\n",
       "  <thead>\n",
       "    <tr style=\"text-align: right;\">\n",
       "      <th>Predicted</th>\n",
       "      <th>0</th>\n",
       "      <th>1</th>\n",
       "      <th>All</th>\n",
       "    </tr>\n",
       "    <tr>\n",
       "      <th>Actual</th>\n",
       "      <th></th>\n",
       "      <th></th>\n",
       "      <th></th>\n",
       "    </tr>\n",
       "  </thead>\n",
       "  <tbody>\n",
       "    <tr>\n",
       "      <th>0</th>\n",
       "      <td>12704</td>\n",
       "      <td>0</td>\n",
       "      <td>12704</td>\n",
       "    </tr>\n",
       "    <tr>\n",
       "      <th>1</th>\n",
       "      <td>32</td>\n",
       "      <td>131</td>\n",
       "      <td>163</td>\n",
       "    </tr>\n",
       "    <tr>\n",
       "      <th>All</th>\n",
       "      <td>12736</td>\n",
       "      <td>131</td>\n",
       "      <td>12867</td>\n",
       "    </tr>\n",
       "  </tbody>\n",
       "</table>\n",
       "</div>"
      ],
      "text/plain": [
       "Predicted      0    1    All\n",
       "Actual                      \n",
       "0          12704    0  12704\n",
       "1             32  131    163\n",
       "All        12736  131  12867"
      ]
     },
     "execution_count": 30,
     "metadata": {},
     "output_type": "execute_result"
    }
   ],
   "source": [
    "XGBmodel = XGBClassifier(objective='binary:logistic',\n",
    "                          booster='gbtree',\n",
    "                          eval_metric='auc',\n",
    "                          tree_method='hist',\n",
    "                          grow_policy='lossguide')\n",
    "XGBmodel.fit(X_train.to_numpy(), y_train.to_numpy())\n",
    "y_pred = XGBmodel.predict(X_test)\n",
    "print(\"Training Data Set Accuracy: \", accuracy_score(y_test,y_pred))\n",
    "print(\"Training Data F1 Score \", f1_score(y_test,y_pred))\n",
    "\n",
    "print(\"Test Accuracy: \",accuracy_score(y_test,y_pred))\n",
    "print(\"Test F1 Score: \",f1_score(y_test,y_pred))\n",
    "print(\"Confusion Matrix on Test Data\")\n",
    "pd.crosstab(y_test, y_pred, rownames=['Actual'], colnames=['Predicted'], margins=True)"
   ]
  },
  {
   "cell_type": "markdown",
   "id": "b0337fbf",
   "metadata": {
    "papermill": {
     "duration": 0.01948,
     "end_time": "2023-07-22T18:28:03.999981",
     "exception": false,
     "start_time": "2023-07-22T18:28:03.980501",
     "status": "completed"
    },
    "tags": []
   },
   "source": [
    "Best Performing model is the XGBoost"
   ]
  },
  {
   "cell_type": "markdown",
   "id": "ef98b527",
   "metadata": {
    "papermill": {
     "duration": 0.019793,
     "end_time": "2023-07-22T18:28:04.039810",
     "exception": false,
     "start_time": "2023-07-22T18:28:04.020017",
     "status": "completed"
    },
    "tags": []
   },
   "source": [
    "# **Mini Pipeline Function**"
   ]
  },
  {
   "cell_type": "code",
   "execution_count": 31,
   "id": "2e3e96c8",
   "metadata": {
    "execution": {
     "iopub.execute_input": "2023-07-22T18:28:04.082403Z",
     "iopub.status.busy": "2023-07-22T18:28:04.081981Z",
     "iopub.status.idle": "2023-07-22T18:28:04.093542Z",
     "shell.execute_reply": "2023-07-22T18:28:04.092557Z"
    },
    "papermill": {
     "duration": 0.034733,
     "end_time": "2023-07-22T18:28:04.095571",
     "exception": false,
     "start_time": "2023-07-22T18:28:04.060838",
     "status": "completed"
    },
    "tags": []
   },
   "outputs": [],
   "source": [
    "def mini_pipeline(dataset, model):\n",
    "    #Data Prep\n",
    "        \n",
    "    #Outlier Removal\n",
    "    out_columns=[\"Torque [Nm]\",\"Rotational speed [rpm]\"] \n",
    "    for i in dataset.columns :\n",
    "        for j in out_columns:\n",
    "            if (i==j):\n",
    "                Q1 = dataset[f\"{i}\"].quantile(0.265)\n",
    "                Q3 = dataset[f\"{i}\"].quantile(0.73)\n",
    "                IQR = Q3 - Q1\n",
    "                whisker_width = 1.5\n",
    "                lower_whisker = Q1 - (whisker_width*IQR)\n",
    "                upper_whisker = Q3 + (whisker_width*IQR)\n",
    "                index=dataset[f\"{i}\"][(dataset[f\"{i}\"]>upper_whisker)|(dataset[f\"{i}\"]<lower_whisker)].index\n",
    "                dataset.drop(index,inplace=True)\n",
    "                print('Outlier treated',dataset[f\"{i}\"])\n",
    "                \n",
    " \n",
    "    # Encode labels in column.     \n",
    "    categorical_column=['Type']\n",
    "    \n",
    "    label_encoder = LabelEncoder()\n",
    "   \n",
    "\n",
    "    for k in categorical_column:\n",
    "        for l in (dataset.columns):\n",
    "            if k==l:\n",
    "                dataset[f\"{k}\"]= label_encoder.fit_transform(dataset[f\"{k}\"])\n",
    "            \n",
    "                  \n",
    "    id_list=list(dataset['Product ID'])        \n",
    "    X_pred=dataset.drop(columns=['id','Product ID'], axis=1)\n",
    "    \n",
    "       \n",
    "    #Model predictions\n",
    "    Machine_Fail = model.predict(X_pred)\n",
    "\n",
    "    #returns submission\n",
    "    submission=pd.DataFrame(list(zip(id_list,Machine_Fail)),columns=['id','Machine failure'])\n",
    "    print(submission.head())\n",
    "        \n",
    "    submission.to_csv(\"sams_submission.csv\", index=False) \n",
    "    "
   ]
  },
  {
   "cell_type": "code",
   "execution_count": 32,
   "id": "472cf3df",
   "metadata": {
    "execution": {
     "iopub.execute_input": "2023-07-22T18:28:04.137176Z",
     "iopub.status.busy": "2023-07-22T18:28:04.136471Z",
     "iopub.status.idle": "2023-07-22T18:28:04.980292Z",
     "shell.execute_reply": "2023-07-22T18:28:04.979317Z"
    },
    "papermill": {
     "duration": 0.867464,
     "end_time": "2023-07-22T18:28:04.982954",
     "exception": false,
     "start_time": "2023-07-22T18:28:04.115490",
     "status": "completed"
    },
    "tags": []
   },
   "outputs": [
    {
     "name": "stdout",
     "output_type": "stream",
     "text": [
      "Outlier treated 0        1499\n",
      "1        1713\n",
      "2        1525\n",
      "3        1479\n",
      "4        1515\n",
      "         ... \n",
      "90949    1484\n",
      "90950    1542\n",
      "90951    1501\n",
      "90952    1534\n",
      "90953    1534\n",
      "Name: Rotational speed [rpm], Length: 86476, dtype: int64\n",
      "Outlier treated 0        38.0\n",
      "1        28.8\n",
      "2        37.7\n",
      "3        47.6\n",
      "4        41.3\n",
      "         ... \n",
      "90949    40.4\n",
      "90950    33.8\n",
      "90951    41.4\n",
      "90952    40.3\n",
      "90953    36.1\n",
      "Name: Torque [Nm], Length: 85573, dtype: float64\n",
      "       id  Machine failure\n",
      "0  L50896                0\n",
      "1  L53866                0\n",
      "2  L50498                0\n",
      "3  M21232                0\n",
      "4  M19751                0\n"
     ]
    }
   ],
   "source": [
    "mini_pipeline(testing_set,XGBmodel)"
   ]
  }
 ],
 "metadata": {
  "kernelspec": {
   "display_name": "Python 3",
   "language": "python",
   "name": "python3"
  },
  "language_info": {
   "codemirror_mode": {
    "name": "ipython",
    "version": 3
   },
   "file_extension": ".py",
   "mimetype": "text/x-python",
   "name": "python",
   "nbconvert_exporter": "python",
   "pygments_lexer": "ipython3",
   "version": "3.10.12"
  },
  "papermill": {
   "default_parameters": {},
   "duration": 268.509916,
   "end_time": "2023-07-22T18:28:06.126644",
   "environment_variables": {},
   "exception": null,
   "input_path": "__notebook__.ipynb",
   "output_path": "__notebook__.ipynb",
   "parameters": {},
   "start_time": "2023-07-22T18:23:37.616728",
   "version": "2.4.0"
  }
 },
 "nbformat": 4,
 "nbformat_minor": 5
}
