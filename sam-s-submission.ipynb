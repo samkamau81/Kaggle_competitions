{
 "cells": [
  {
   "cell_type": "code",
   "execution_count": 1,
   "id": "4c91c1f5",
   "metadata": {
    "_cell_guid": "b1076dfc-b9ad-4769-8c92-a6c4dae69d19",
    "_uuid": "8f2839f25d086af736a60e9eeb907d3b93b6e0e5",
    "execution": {
     "iopub.execute_input": "2023-08-24T08:31:17.265544Z",
     "iopub.status.busy": "2023-08-24T08:31:17.264549Z",
     "iopub.status.idle": "2023-08-24T08:31:19.652081Z",
     "shell.execute_reply": "2023-08-24T08:31:19.650794Z"
    },
    "papermill": {
     "duration": 2.407829,
     "end_time": "2023-08-24T08:31:19.654592",
     "exception": false,
     "start_time": "2023-08-24T08:31:17.246763",
     "status": "completed"
    },
    "tags": []
   },
   "outputs": [
    {
     "name": "stderr",
     "output_type": "stream",
     "text": [
      "/opt/conda/lib/python3.10/site-packages/scipy/__init__.py:146: UserWarning: A NumPy version >=1.16.5 and <1.23.0 is required for this version of SciPy (detected version 1.23.5\n",
      "  warnings.warn(f\"A NumPy version >={np_minversion} and <{np_maxversion}\"\n"
     ]
    },
    {
     "name": "stdout",
     "output_type": "stream",
     "text": [
      "/kaggle/input/playground-series-s3e17/sample_submission.csv\n",
      "/kaggle/input/playground-series-s3e17/train.csv\n",
      "/kaggle/input/playground-series-s3e17/test.csv\n"
     ]
    }
   ],
   "source": [
    "# This Python 3 environment comes with many helpful analytics libraries installed\n",
    "# It is defined by the kaggle/python Docker image: https://github.com/kaggle/docker-python\n",
    "# For example, here's several helpful packages to load\n",
    "\n",
    "import numpy as np # linear algebra\n",
    "import math\n",
    "import pandas as pd # data processing, CSV file I/O (e.g. pd.read_csv)\n",
    "import matplotlib.pyplot as plt\n",
    "import seaborn as sns#plotting purposes\n",
    "from sklearn.preprocessing import LabelEncoder,OneHotEncoder# encoding purposes\n",
    "from imblearn.over_sampling import SMOTE\n",
    "from xgboost import XGBClassifier\n",
    "from sklearn.ensemble import RandomForestClassifier\n",
    "from sklearn.model_selection import GridSearchCV,RandomizedSearchCV\n",
    "from xgboost import plot_importance\n",
    "from sklearn.neural_network import MLPClassifier \n",
    "from sklearn.tree import DecisionTreeClassifier\n",
    "from sklearn.metrics import classification_report\n",
    "from sklearn.metrics import confusion_matrix\n",
    "from sklearn.metrics import accuracy_score,f1_score\n",
    "from sklearn.model_selection import train_test_split\n",
    "from sklearn.metrics import accuracy_score\n",
    "\n",
    "\n",
    "\n",
    "# Input data files are available in the read-only \"../input/\" directory\n",
    "# For example, running this (by clicking run or pressing Shift+Enter) will list all files under the input directory\n",
    "\n",
    "import os\n",
    "for dirname, _, filenames in os.walk('/kaggle/input'):\n",
    "    for filename in filenames:\n",
    "        print(os.path.join(dirname, filename))\n",
    "\n",
    "# You can write up to 20GB to the current directory (/kaggle/working/) that gets preserved as output when you create a version using \"Save & Run All\" \n",
    "# You can also write temporary files to /kaggle/temp/, but they won't be saved outside of the current session"
   ]
  },
  {
   "cell_type": "code",
   "execution_count": 2,
   "id": "311d7a15",
   "metadata": {
    "execution": {
     "iopub.execute_input": "2023-08-24T08:31:19.685724Z",
     "iopub.status.busy": "2023-08-24T08:31:19.685262Z",
     "iopub.status.idle": "2023-08-24T08:31:20.249417Z",
     "shell.execute_reply": "2023-08-24T08:31:20.248114Z"
    },
    "papermill": {
     "duration": 0.582911,
     "end_time": "2023-08-24T08:31:20.252369",
     "exception": false,
     "start_time": "2023-08-24T08:31:19.669458",
     "status": "completed"
    },
    "tags": []
   },
   "outputs": [],
   "source": [
    "sample_submission=pd.read_csv(\"/kaggle/input/playground-series-s3e17/sample_submission.csv\")\n",
    "training_set=pd.read_csv(\"/kaggle/input/playground-series-s3e17/train.csv\")\n",
    "testing_set=pd.read_csv(\"/kaggle/input/playground-series-s3e17/test.csv\")"
   ]
  },
  {
   "cell_type": "code",
   "execution_count": 3,
   "id": "21b55c1d",
   "metadata": {
    "execution": {
     "iopub.execute_input": "2023-08-24T08:31:20.283939Z",
     "iopub.status.busy": "2023-08-24T08:31:20.283492Z",
     "iopub.status.idle": "2023-08-24T08:31:20.289727Z",
     "shell.execute_reply": "2023-08-24T08:31:20.288863Z"
    },
    "papermill": {
     "duration": 0.025765,
     "end_time": "2023-08-24T08:31:20.292726",
     "exception": false,
     "start_time": "2023-08-24T08:31:20.266961",
     "status": "completed"
    },
    "tags": []
   },
   "outputs": [
    {
     "name": "stdout",
     "output_type": "stream",
     "text": [
      "sample_submission Index(['id', 'Machine failure'], dtype='object')\n",
      "training_set Index(['id', 'Product ID', 'Type', 'Air temperature [K]',\n",
      "       'Process temperature [K]', 'Rotational speed [rpm]', 'Torque [Nm]',\n",
      "       'Tool wear [min]', 'Machine failure', 'TWF', 'HDF', 'PWF', 'OSF',\n",
      "       'RNF'],\n",
      "      dtype='object')\n",
      "testing_set Index(['id', 'Product ID', 'Type', 'Air temperature [K]',\n",
      "       'Process temperature [K]', 'Rotational speed [rpm]', 'Torque [Nm]',\n",
      "       'Tool wear [min]', 'TWF', 'HDF', 'PWF', 'OSF', 'RNF'],\n",
      "      dtype='object')\n"
     ]
    }
   ],
   "source": [
    "print(\"sample_submission\", sample_submission.columns)\n",
    "print(\"training_set\", training_set.columns)\n",
    "print(\"testing_set\", testing_set.columns)"
   ]
  },
  {
   "cell_type": "code",
   "execution_count": 4,
   "id": "921f1891",
   "metadata": {
    "execution": {
     "iopub.execute_input": "2023-08-24T08:31:20.323869Z",
     "iopub.status.busy": "2023-08-24T08:31:20.323160Z",
     "iopub.status.idle": "2023-08-24T08:31:20.328750Z",
     "shell.execute_reply": "2023-08-24T08:31:20.327464Z"
    },
    "papermill": {
     "duration": 0.023678,
     "end_time": "2023-08-24T08:31:20.331009",
     "exception": false,
     "start_time": "2023-08-24T08:31:20.307331",
     "status": "completed"
    },
    "tags": []
   },
   "outputs": [
    {
     "name": "stdout",
     "output_type": "stream",
     "text": [
      "training_set shape (136429, 14)\n",
      "testing_set shape (90954, 13)\n"
     ]
    }
   ],
   "source": [
    "print(\"training_set shape\", training_set.shape)\n",
    "print(\"testing_set shape\", testing_set.shape)"
   ]
  },
  {
   "cell_type": "markdown",
   "id": "9e04d73e",
   "metadata": {
    "papermill": {
     "duration": 0.014063,
     "end_time": "2023-08-24T08:31:20.359532",
     "exception": false,
     "start_time": "2023-08-24T08:31:20.345469",
     "status": "completed"
    },
    "tags": []
   },
   "source": [
    "# **Data Prep**"
   ]
  },
  {
   "cell_type": "code",
   "execution_count": 5,
   "id": "dc710b98",
   "metadata": {
    "execution": {
     "iopub.execute_input": "2023-08-24T08:31:20.390751Z",
     "iopub.status.busy": "2023-08-24T08:31:20.389991Z",
     "iopub.status.idle": "2023-08-24T08:31:20.421508Z",
     "shell.execute_reply": "2023-08-24T08:31:20.420214Z"
    },
    "papermill": {
     "duration": 0.050081,
     "end_time": "2023-08-24T08:31:20.424134",
     "exception": false,
     "start_time": "2023-08-24T08:31:20.374053",
     "status": "completed"
    },
    "tags": []
   },
   "outputs": [
    {
     "data": {
      "text/html": [
       "<div>\n",
       "<style scoped>\n",
       "    .dataframe tbody tr th:only-of-type {\n",
       "        vertical-align: middle;\n",
       "    }\n",
       "\n",
       "    .dataframe tbody tr th {\n",
       "        vertical-align: top;\n",
       "    }\n",
       "\n",
       "    .dataframe thead th {\n",
       "        text-align: right;\n",
       "    }\n",
       "</style>\n",
       "<table border=\"1\" class=\"dataframe\">\n",
       "  <thead>\n",
       "    <tr style=\"text-align: right;\">\n",
       "      <th></th>\n",
       "      <th>id</th>\n",
       "      <th>Product ID</th>\n",
       "      <th>Type</th>\n",
       "      <th>Air temperature [K]</th>\n",
       "      <th>Process temperature [K]</th>\n",
       "      <th>Rotational speed [rpm]</th>\n",
       "      <th>Torque [Nm]</th>\n",
       "      <th>Tool wear [min]</th>\n",
       "      <th>Machine failure</th>\n",
       "      <th>TWF</th>\n",
       "      <th>HDF</th>\n",
       "      <th>PWF</th>\n",
       "      <th>OSF</th>\n",
       "      <th>RNF</th>\n",
       "    </tr>\n",
       "  </thead>\n",
       "  <tbody>\n",
       "    <tr>\n",
       "      <th>0</th>\n",
       "      <td>0</td>\n",
       "      <td>L50096</td>\n",
       "      <td>L</td>\n",
       "      <td>300.6</td>\n",
       "      <td>309.6</td>\n",
       "      <td>1596</td>\n",
       "      <td>36.1</td>\n",
       "      <td>140</td>\n",
       "      <td>0</td>\n",
       "      <td>0</td>\n",
       "      <td>0</td>\n",
       "      <td>0</td>\n",
       "      <td>0</td>\n",
       "      <td>0</td>\n",
       "    </tr>\n",
       "    <tr>\n",
       "      <th>1</th>\n",
       "      <td>1</td>\n",
       "      <td>M20343</td>\n",
       "      <td>M</td>\n",
       "      <td>302.6</td>\n",
       "      <td>312.1</td>\n",
       "      <td>1759</td>\n",
       "      <td>29.1</td>\n",
       "      <td>200</td>\n",
       "      <td>0</td>\n",
       "      <td>0</td>\n",
       "      <td>0</td>\n",
       "      <td>0</td>\n",
       "      <td>0</td>\n",
       "      <td>0</td>\n",
       "    </tr>\n",
       "    <tr>\n",
       "      <th>2</th>\n",
       "      <td>2</td>\n",
       "      <td>L49454</td>\n",
       "      <td>L</td>\n",
       "      <td>299.3</td>\n",
       "      <td>308.5</td>\n",
       "      <td>1805</td>\n",
       "      <td>26.5</td>\n",
       "      <td>25</td>\n",
       "      <td>0</td>\n",
       "      <td>0</td>\n",
       "      <td>0</td>\n",
       "      <td>0</td>\n",
       "      <td>0</td>\n",
       "      <td>0</td>\n",
       "    </tr>\n",
       "    <tr>\n",
       "      <th>3</th>\n",
       "      <td>3</td>\n",
       "      <td>L53355</td>\n",
       "      <td>L</td>\n",
       "      <td>301.0</td>\n",
       "      <td>310.9</td>\n",
       "      <td>1524</td>\n",
       "      <td>44.3</td>\n",
       "      <td>197</td>\n",
       "      <td>0</td>\n",
       "      <td>0</td>\n",
       "      <td>0</td>\n",
       "      <td>0</td>\n",
       "      <td>0</td>\n",
       "      <td>0</td>\n",
       "    </tr>\n",
       "    <tr>\n",
       "      <th>4</th>\n",
       "      <td>4</td>\n",
       "      <td>M24050</td>\n",
       "      <td>M</td>\n",
       "      <td>298.0</td>\n",
       "      <td>309.0</td>\n",
       "      <td>1641</td>\n",
       "      <td>35.4</td>\n",
       "      <td>34</td>\n",
       "      <td>0</td>\n",
       "      <td>0</td>\n",
       "      <td>0</td>\n",
       "      <td>0</td>\n",
       "      <td>0</td>\n",
       "      <td>0</td>\n",
       "    </tr>\n",
       "    <tr>\n",
       "      <th>5</th>\n",
       "      <td>5</td>\n",
       "      <td>M24300</td>\n",
       "      <td>M</td>\n",
       "      <td>298.4</td>\n",
       "      <td>308.9</td>\n",
       "      <td>1429</td>\n",
       "      <td>42.1</td>\n",
       "      <td>65</td>\n",
       "      <td>0</td>\n",
       "      <td>0</td>\n",
       "      <td>0</td>\n",
       "      <td>0</td>\n",
       "      <td>0</td>\n",
       "      <td>0</td>\n",
       "    </tr>\n",
       "    <tr>\n",
       "      <th>6</th>\n",
       "      <td>6</td>\n",
       "      <td>L56736</td>\n",
       "      <td>L</td>\n",
       "      <td>299.6</td>\n",
       "      <td>311.0</td>\n",
       "      <td>1413</td>\n",
       "      <td>42.9</td>\n",
       "      <td>156</td>\n",
       "      <td>0</td>\n",
       "      <td>0</td>\n",
       "      <td>0</td>\n",
       "      <td>0</td>\n",
       "      <td>0</td>\n",
       "      <td>0</td>\n",
       "    </tr>\n",
       "    <tr>\n",
       "      <th>7</th>\n",
       "      <td>7</td>\n",
       "      <td>L55488</td>\n",
       "      <td>L</td>\n",
       "      <td>298.7</td>\n",
       "      <td>310.1</td>\n",
       "      <td>1609</td>\n",
       "      <td>38.1</td>\n",
       "      <td>67</td>\n",
       "      <td>0</td>\n",
       "      <td>0</td>\n",
       "      <td>0</td>\n",
       "      <td>0</td>\n",
       "      <td>0</td>\n",
       "      <td>0</td>\n",
       "    </tr>\n",
       "    <tr>\n",
       "      <th>8</th>\n",
       "      <td>8</td>\n",
       "      <td>L56397</td>\n",
       "      <td>L</td>\n",
       "      <td>297.7</td>\n",
       "      <td>308.8</td>\n",
       "      <td>1578</td>\n",
       "      <td>35.2</td>\n",
       "      <td>13</td>\n",
       "      <td>0</td>\n",
       "      <td>0</td>\n",
       "      <td>0</td>\n",
       "      <td>0</td>\n",
       "      <td>0</td>\n",
       "      <td>0</td>\n",
       "    </tr>\n",
       "    <tr>\n",
       "      <th>9</th>\n",
       "      <td>9</td>\n",
       "      <td>L55067</td>\n",
       "      <td>L</td>\n",
       "      <td>300.5</td>\n",
       "      <td>312.3</td>\n",
       "      <td>1447</td>\n",
       "      <td>53.3</td>\n",
       "      <td>98</td>\n",
       "      <td>0</td>\n",
       "      <td>0</td>\n",
       "      <td>0</td>\n",
       "      <td>0</td>\n",
       "      <td>0</td>\n",
       "      <td>0</td>\n",
       "    </tr>\n",
       "  </tbody>\n",
       "</table>\n",
       "</div>"
      ],
      "text/plain": [
       "   id Product ID Type  Air temperature [K]  Process temperature [K]  \\\n",
       "0   0     L50096    L                300.6                    309.6   \n",
       "1   1     M20343    M                302.6                    312.1   \n",
       "2   2     L49454    L                299.3                    308.5   \n",
       "3   3     L53355    L                301.0                    310.9   \n",
       "4   4     M24050    M                298.0                    309.0   \n",
       "5   5     M24300    M                298.4                    308.9   \n",
       "6   6     L56736    L                299.6                    311.0   \n",
       "7   7     L55488    L                298.7                    310.1   \n",
       "8   8     L56397    L                297.7                    308.8   \n",
       "9   9     L55067    L                300.5                    312.3   \n",
       "\n",
       "   Rotational speed [rpm]  Torque [Nm]  Tool wear [min]  Machine failure  TWF  \\\n",
       "0                    1596         36.1              140                0    0   \n",
       "1                    1759         29.1              200                0    0   \n",
       "2                    1805         26.5               25                0    0   \n",
       "3                    1524         44.3              197                0    0   \n",
       "4                    1641         35.4               34                0    0   \n",
       "5                    1429         42.1               65                0    0   \n",
       "6                    1413         42.9              156                0    0   \n",
       "7                    1609         38.1               67                0    0   \n",
       "8                    1578         35.2               13                0    0   \n",
       "9                    1447         53.3               98                0    0   \n",
       "\n",
       "   HDF  PWF  OSF  RNF  \n",
       "0    0    0    0    0  \n",
       "1    0    0    0    0  \n",
       "2    0    0    0    0  \n",
       "3    0    0    0    0  \n",
       "4    0    0    0    0  \n",
       "5    0    0    0    0  \n",
       "6    0    0    0    0  \n",
       "7    0    0    0    0  \n",
       "8    0    0    0    0  \n",
       "9    0    0    0    0  "
      ]
     },
     "execution_count": 5,
     "metadata": {},
     "output_type": "execute_result"
    }
   ],
   "source": [
    "oversample = SMOTE()\n",
    "training_set.head(10)"
   ]
  },
  {
   "cell_type": "code",
   "execution_count": 6,
   "id": "8281c8e5",
   "metadata": {
    "execution": {
     "iopub.execute_input": "2023-08-24T08:31:20.455910Z",
     "iopub.status.busy": "2023-08-24T08:31:20.455494Z",
     "iopub.status.idle": "2023-08-24T08:31:20.461456Z",
     "shell.execute_reply": "2023-08-24T08:31:20.460279Z"
    },
    "papermill": {
     "duration": 0.024945,
     "end_time": "2023-08-24T08:31:20.463973",
     "exception": false,
     "start_time": "2023-08-24T08:31:20.439028",
     "status": "completed"
    },
    "tags": []
   },
   "outputs": [],
   "source": [
    "training_set.columns = ['id', 'Product ID', 'Type', 'Air temperature',\n",
    "       'Process temperature', 'Rotational speed', 'Torque',\n",
    "       'Tool wear', 'Machine failure', 'TWF', 'HDF', 'PWF', 'OSF',\n",
    "       'RNF']\n"
   ]
  },
  {
   "cell_type": "code",
   "execution_count": 7,
   "id": "9aaa6565",
   "metadata": {
    "execution": {
     "iopub.execute_input": "2023-08-24T08:31:20.497649Z",
     "iopub.status.busy": "2023-08-24T08:31:20.497234Z",
     "iopub.status.idle": "2023-08-24T08:31:20.518293Z",
     "shell.execute_reply": "2023-08-24T08:31:20.517473Z"
    },
    "papermill": {
     "duration": 0.040422,
     "end_time": "2023-08-24T08:31:20.520616",
     "exception": false,
     "start_time": "2023-08-24T08:31:20.480194",
     "status": "completed"
    },
    "tags": []
   },
   "outputs": [
    {
     "data": {
      "text/html": [
       "<div>\n",
       "<style scoped>\n",
       "    .dataframe tbody tr th:only-of-type {\n",
       "        vertical-align: middle;\n",
       "    }\n",
       "\n",
       "    .dataframe tbody tr th {\n",
       "        vertical-align: top;\n",
       "    }\n",
       "\n",
       "    .dataframe thead th {\n",
       "        text-align: right;\n",
       "    }\n",
       "</style>\n",
       "<table border=\"1\" class=\"dataframe\">\n",
       "  <thead>\n",
       "    <tr style=\"text-align: right;\">\n",
       "      <th></th>\n",
       "      <th>id</th>\n",
       "      <th>Product ID</th>\n",
       "      <th>Type</th>\n",
       "      <th>Air temperature</th>\n",
       "      <th>Process temperature</th>\n",
       "      <th>Rotational speed</th>\n",
       "      <th>Torque</th>\n",
       "      <th>Tool wear</th>\n",
       "      <th>Machine failure</th>\n",
       "      <th>TWF</th>\n",
       "      <th>HDF</th>\n",
       "      <th>PWF</th>\n",
       "      <th>OSF</th>\n",
       "      <th>RNF</th>\n",
       "    </tr>\n",
       "  </thead>\n",
       "  <tbody>\n",
       "    <tr>\n",
       "      <th>136419</th>\n",
       "      <td>136419</td>\n",
       "      <td>M21064</td>\n",
       "      <td>M</td>\n",
       "      <td>300.9</td>\n",
       "      <td>310.9</td>\n",
       "      <td>1523</td>\n",
       "      <td>41.4</td>\n",
       "      <td>111</td>\n",
       "      <td>0</td>\n",
       "      <td>0</td>\n",
       "      <td>0</td>\n",
       "      <td>0</td>\n",
       "      <td>0</td>\n",
       "      <td>0</td>\n",
       "    </tr>\n",
       "    <tr>\n",
       "      <th>136420</th>\n",
       "      <td>136420</td>\n",
       "      <td>L56888</td>\n",
       "      <td>L</td>\n",
       "      <td>299.0</td>\n",
       "      <td>310.1</td>\n",
       "      <td>1370</td>\n",
       "      <td>50.9</td>\n",
       "      <td>84</td>\n",
       "      <td>0</td>\n",
       "      <td>0</td>\n",
       "      <td>0</td>\n",
       "      <td>0</td>\n",
       "      <td>0</td>\n",
       "      <td>0</td>\n",
       "    </tr>\n",
       "    <tr>\n",
       "      <th>136421</th>\n",
       "      <td>136421</td>\n",
       "      <td>L56507</td>\n",
       "      <td>L</td>\n",
       "      <td>298.5</td>\n",
       "      <td>309.2</td>\n",
       "      <td>1504</td>\n",
       "      <td>33.7</td>\n",
       "      <td>18</td>\n",
       "      <td>0</td>\n",
       "      <td>0</td>\n",
       "      <td>0</td>\n",
       "      <td>0</td>\n",
       "      <td>0</td>\n",
       "      <td>0</td>\n",
       "    </tr>\n",
       "    <tr>\n",
       "      <th>136422</th>\n",
       "      <td>136422</td>\n",
       "      <td>L51411</td>\n",
       "      <td>L</td>\n",
       "      <td>302.2</td>\n",
       "      <td>310.8</td>\n",
       "      <td>1515</td>\n",
       "      <td>42.9</td>\n",
       "      <td>54</td>\n",
       "      <td>0</td>\n",
       "      <td>0</td>\n",
       "      <td>0</td>\n",
       "      <td>0</td>\n",
       "      <td>0</td>\n",
       "      <td>0</td>\n",
       "    </tr>\n",
       "    <tr>\n",
       "      <th>136423</th>\n",
       "      <td>136423</td>\n",
       "      <td>M17346</td>\n",
       "      <td>M</td>\n",
       "      <td>298.9</td>\n",
       "      <td>308.6</td>\n",
       "      <td>1375</td>\n",
       "      <td>57.5</td>\n",
       "      <td>177</td>\n",
       "      <td>0</td>\n",
       "      <td>0</td>\n",
       "      <td>0</td>\n",
       "      <td>0</td>\n",
       "      <td>0</td>\n",
       "      <td>0</td>\n",
       "    </tr>\n",
       "    <tr>\n",
       "      <th>136424</th>\n",
       "      <td>136424</td>\n",
       "      <td>M22284</td>\n",
       "      <td>M</td>\n",
       "      <td>300.1</td>\n",
       "      <td>311.4</td>\n",
       "      <td>1530</td>\n",
       "      <td>37.5</td>\n",
       "      <td>210</td>\n",
       "      <td>0</td>\n",
       "      <td>0</td>\n",
       "      <td>0</td>\n",
       "      <td>0</td>\n",
       "      <td>0</td>\n",
       "      <td>0</td>\n",
       "    </tr>\n",
       "    <tr>\n",
       "      <th>136425</th>\n",
       "      <td>136425</td>\n",
       "      <td>H38017</td>\n",
       "      <td>H</td>\n",
       "      <td>297.5</td>\n",
       "      <td>308.5</td>\n",
       "      <td>1447</td>\n",
       "      <td>49.1</td>\n",
       "      <td>2</td>\n",
       "      <td>0</td>\n",
       "      <td>0</td>\n",
       "      <td>0</td>\n",
       "      <td>0</td>\n",
       "      <td>0</td>\n",
       "      <td>0</td>\n",
       "    </tr>\n",
       "    <tr>\n",
       "      <th>136426</th>\n",
       "      <td>136426</td>\n",
       "      <td>L54690</td>\n",
       "      <td>L</td>\n",
       "      <td>300.5</td>\n",
       "      <td>311.8</td>\n",
       "      <td>1524</td>\n",
       "      <td>38.5</td>\n",
       "      <td>214</td>\n",
       "      <td>0</td>\n",
       "      <td>0</td>\n",
       "      <td>0</td>\n",
       "      <td>0</td>\n",
       "      <td>0</td>\n",
       "      <td>0</td>\n",
       "    </tr>\n",
       "    <tr>\n",
       "      <th>136427</th>\n",
       "      <td>136427</td>\n",
       "      <td>L53876</td>\n",
       "      <td>L</td>\n",
       "      <td>301.7</td>\n",
       "      <td>310.9</td>\n",
       "      <td>1447</td>\n",
       "      <td>46.3</td>\n",
       "      <td>42</td>\n",
       "      <td>0</td>\n",
       "      <td>0</td>\n",
       "      <td>0</td>\n",
       "      <td>0</td>\n",
       "      <td>0</td>\n",
       "      <td>0</td>\n",
       "    </tr>\n",
       "    <tr>\n",
       "      <th>136428</th>\n",
       "      <td>136428</td>\n",
       "      <td>L47937</td>\n",
       "      <td>L</td>\n",
       "      <td>296.9</td>\n",
       "      <td>308.1</td>\n",
       "      <td>1557</td>\n",
       "      <td>39.3</td>\n",
       "      <td>229</td>\n",
       "      <td>0</td>\n",
       "      <td>0</td>\n",
       "      <td>0</td>\n",
       "      <td>0</td>\n",
       "      <td>0</td>\n",
       "      <td>0</td>\n",
       "    </tr>\n",
       "  </tbody>\n",
       "</table>\n",
       "</div>"
      ],
      "text/plain": [
       "            id Product ID Type  Air temperature  Process temperature  \\\n",
       "136419  136419     M21064    M            300.9                310.9   \n",
       "136420  136420     L56888    L            299.0                310.1   \n",
       "136421  136421     L56507    L            298.5                309.2   \n",
       "136422  136422     L51411    L            302.2                310.8   \n",
       "136423  136423     M17346    M            298.9                308.6   \n",
       "136424  136424     M22284    M            300.1                311.4   \n",
       "136425  136425     H38017    H            297.5                308.5   \n",
       "136426  136426     L54690    L            300.5                311.8   \n",
       "136427  136427     L53876    L            301.7                310.9   \n",
       "136428  136428     L47937    L            296.9                308.1   \n",
       "\n",
       "        Rotational speed  Torque  Tool wear  Machine failure  TWF  HDF  PWF  \\\n",
       "136419              1523    41.4        111                0    0    0    0   \n",
       "136420              1370    50.9         84                0    0    0    0   \n",
       "136421              1504    33.7         18                0    0    0    0   \n",
       "136422              1515    42.9         54                0    0    0    0   \n",
       "136423              1375    57.5        177                0    0    0    0   \n",
       "136424              1530    37.5        210                0    0    0    0   \n",
       "136425              1447    49.1          2                0    0    0    0   \n",
       "136426              1524    38.5        214                0    0    0    0   \n",
       "136427              1447    46.3         42                0    0    0    0   \n",
       "136428              1557    39.3        229                0    0    0    0   \n",
       "\n",
       "        OSF  RNF  \n",
       "136419    0    0  \n",
       "136420    0    0  \n",
       "136421    0    0  \n",
       "136422    0    0  \n",
       "136423    0    0  \n",
       "136424    0    0  \n",
       "136425    0    0  \n",
       "136426    0    0  \n",
       "136427    0    0  \n",
       "136428    0    0  "
      ]
     },
     "execution_count": 7,
     "metadata": {},
     "output_type": "execute_result"
    }
   ],
   "source": [
    "training_set.tail(10)"
   ]
  },
  {
   "cell_type": "code",
   "execution_count": 8,
   "id": "785b2e93",
   "metadata": {
    "execution": {
     "iopub.execute_input": "2023-08-24T08:31:20.553578Z",
     "iopub.status.busy": "2023-08-24T08:31:20.552898Z",
     "iopub.status.idle": "2023-08-24T08:31:20.560015Z",
     "shell.execute_reply": "2023-08-24T08:31:20.559092Z"
    },
    "papermill": {
     "duration": 0.026031,
     "end_time": "2023-08-24T08:31:20.562216",
     "exception": false,
     "start_time": "2023-08-24T08:31:20.536185",
     "status": "completed"
    },
    "tags": []
   },
   "outputs": [
    {
     "data": {
      "text/plain": [
       "(136429, 14)"
      ]
     },
     "execution_count": 8,
     "metadata": {},
     "output_type": "execute_result"
    }
   ],
   "source": [
    "training_set.shape"
   ]
  },
  {
   "cell_type": "code",
   "execution_count": 9,
   "id": "85f85cc0",
   "metadata": {
    "execution": {
     "iopub.execute_input": "2023-08-24T08:31:20.596066Z",
     "iopub.status.busy": "2023-08-24T08:31:20.595368Z",
     "iopub.status.idle": "2023-08-24T08:31:20.790668Z",
     "shell.execute_reply": "2023-08-24T08:31:20.789536Z"
    },
    "papermill": {
     "duration": 0.215814,
     "end_time": "2023-08-24T08:31:20.793555",
     "exception": false,
     "start_time": "2023-08-24T08:31:20.577741",
     "status": "completed"
    },
    "tags": []
   },
   "outputs": [],
   "source": [
    "training_set.isna().sum()\n",
    "training_set = training_set.dropna()"
   ]
  },
  {
   "cell_type": "code",
   "execution_count": 10,
   "id": "ae8528f8",
   "metadata": {
    "execution": {
     "iopub.execute_input": "2023-08-24T08:31:20.827133Z",
     "iopub.status.busy": "2023-08-24T08:31:20.826700Z",
     "iopub.status.idle": "2023-08-24T08:31:20.833978Z",
     "shell.execute_reply": "2023-08-24T08:31:20.833011Z"
    },
    "papermill": {
     "duration": 0.026794,
     "end_time": "2023-08-24T08:31:20.836426",
     "exception": false,
     "start_time": "2023-08-24T08:31:20.809632",
     "status": "completed"
    },
    "tags": []
   },
   "outputs": [
    {
     "data": {
      "text/plain": [
       "Index(['id', 'Product ID', 'Type', 'Air temperature', 'Process temperature',\n",
       "       'Rotational speed', 'Torque', 'Tool wear', 'Machine failure', 'TWF',\n",
       "       'HDF', 'PWF', 'OSF', 'RNF'],\n",
       "      dtype='object')"
      ]
     },
     "execution_count": 10,
     "metadata": {},
     "output_type": "execute_result"
    }
   ],
   "source": [
    "training_set.columns"
   ]
  },
  {
   "cell_type": "code",
   "execution_count": 11,
   "id": "74cf539b",
   "metadata": {
    "execution": {
     "iopub.execute_input": "2023-08-24T08:31:20.870154Z",
     "iopub.status.busy": "2023-08-24T08:31:20.869457Z",
     "iopub.status.idle": "2023-08-24T08:31:20.980206Z",
     "shell.execute_reply": "2023-08-24T08:31:20.979004Z"
    },
    "papermill": {
     "duration": 0.130287,
     "end_time": "2023-08-24T08:31:20.982494",
     "exception": false,
     "start_time": "2023-08-24T08:31:20.852207",
     "status": "completed"
    },
    "tags": []
   },
   "outputs": [
    {
     "name": "stderr",
     "output_type": "stream",
     "text": [
      "/tmp/ipykernel_20/906436005.py:1: FutureWarning: The default value of numeric_only in DataFrame.skew is deprecated. In a future version, it will default to False. In addition, specifying 'numeric_only=None' is deprecated. Select only valid columns or specify the value of numeric_only to silence this warning.\n",
      "  training_set.skew()\n"
     ]
    },
    {
     "data": {
      "text/plain": [
       "id                      0.000000\n",
       "Air temperature         0.161175\n",
       "Process temperature     0.057088\n",
       "Rotational speed        1.888250\n",
       "Torque                 -0.028963\n",
       "Tool wear              -0.027310\n",
       "Machine failure         7.780216\n",
       "TWF                    25.309063\n",
       "HDF                    13.813058\n",
       "PWF                    20.352532\n",
       "OSF                    15.800499\n",
       "RNF                    20.975301\n",
       "dtype: float64"
      ]
     },
     "execution_count": 11,
     "metadata": {},
     "output_type": "execute_result"
    }
   ],
   "source": [
    "training_set.skew()"
   ]
  },
  {
   "cell_type": "code",
   "execution_count": 12,
   "id": "bb169804",
   "metadata": {
    "execution": {
     "iopub.execute_input": "2023-08-24T08:31:21.017783Z",
     "iopub.status.busy": "2023-08-24T08:31:21.017357Z",
     "iopub.status.idle": "2023-08-24T08:31:23.280865Z",
     "shell.execute_reply": "2023-08-24T08:31:23.279917Z"
    },
    "papermill": {
     "duration": 2.284524,
     "end_time": "2023-08-24T08:31:23.283256",
     "exception": false,
     "start_time": "2023-08-24T08:31:20.998732",
     "status": "completed"
    },
    "tags": []
   },
   "outputs": [
    {
     "name": "stderr",
     "output_type": "stream",
     "text": [
      "/opt/conda/lib/python3.10/site-packages/seaborn/axisgrid.py:118: UserWarning: The figure layout has changed to tight\n",
      "  self._figure.tight_layout(*args, **kwargs)\n"
     ]
    },
    {
     "name": "stdout",
     "output_type": "stream",
     "text": [
      "1.8882503109110036\n"
     ]
    },
    {
     "data": {
      "image/png": "[encoded data removed]",
      "text/plain": [
       "<Figure size 640x480 with 1 Axes>"
      ]
     },
     "metadata": {},
     "output_type": "display_data"
    },
    {
     "data": {
      "image/png": "[encoded data removed]",
      "text/plain": [
       "<Figure size 500x500 with 1 Axes>"
      ]
     },
     "metadata": {},
     "output_type": "display_data"
    }
   ],
   "source": [
    "training_set['Rotational speed'].hist()\n",
    "sns.displot(training_set, x=\"Rotational speed\", kde=True)\n",
    "print(training_set['Rotational speed'].skew()) #skewness value should be within the range of -1 to 1 for a normal distribution"
   ]
  },
  {
   "cell_type": "code",
   "execution_count": 13,
   "id": "c7506c17",
   "metadata": {
    "execution": {
     "iopub.execute_input": "2023-08-24T08:31:23.319090Z",
     "iopub.status.busy": "2023-08-24T08:31:23.318444Z",
     "iopub.status.idle": "2023-08-24T08:31:24.895613Z",
     "shell.execute_reply": "2023-08-24T08:31:24.894473Z"
    },
    "papermill": {
     "duration": 1.598399,
     "end_time": "2023-08-24T08:31:24.898583",
     "exception": false,
     "start_time": "2023-08-24T08:31:23.300184",
     "status": "completed"
    },
    "tags": []
   },
   "outputs": [
    {
     "name": "stderr",
     "output_type": "stream",
     "text": [
      "/opt/conda/lib/python3.10/site-packages/seaborn/axisgrid.py:118: UserWarning: The figure layout has changed to tight\n",
      "  self._figure.tight_layout(*args, **kwargs)\n"
     ]
    },
    {
     "name": "stdout",
     "output_type": "stream",
     "text": [
      "1.2461065682787877\n"
     ]
    },
    {
     "data": {
      "image/png": "[encoded data removed]",
      "text/plain": [
       "<Figure size 500x500 with 1 Axes>"
      ]
     },
     "metadata": {},
     "output_type": "display_data"
    }
   ],
   "source": [
    "training_set['Rotational speed']=np.log(training_set['Rotational speed'])\n",
    "sns.displot(training_set, x=\"Rotational speed\", kde=True)\n",
    "print(training_set['Rotational speed'].skew()) #skewness value should be within the range of -1 to 1 for a normal distribution"
   ]
  },
  {
   "cell_type": "code",
   "execution_count": 14,
   "id": "d19983d4",
   "metadata": {
    "execution": {
     "iopub.execute_input": "2023-08-24T08:31:24.939451Z",
     "iopub.status.busy": "2023-08-24T08:31:24.939060Z",
     "iopub.status.idle": "2023-08-24T08:31:26.812980Z",
     "shell.execute_reply": "2023-08-24T08:31:26.811857Z"
    },
    "papermill": {
     "duration": 1.89584,
     "end_time": "2023-08-24T08:31:26.815480",
     "exception": false,
     "start_time": "2023-08-24T08:31:24.919640",
     "status": "completed"
    },
    "tags": []
   },
   "outputs": [
    {
     "name": "stderr",
     "output_type": "stream",
     "text": [
      "/opt/conda/lib/python3.10/site-packages/seaborn/axisgrid.py:118: UserWarning: The figure layout has changed to tight\n",
      "  self._figure.tight_layout(*args, **kwargs)\n"
     ]
    },
    {
     "name": "stdout",
     "output_type": "stream",
     "text": [
      "-0.028963391079620402\n"
     ]
    },
    {
     "data": {
      "image/png": "[encoded data removed]",
      "text/plain": [
       "<Figure size 640x480 with 1 Axes>"
      ]
     },
     "metadata": {},
     "output_type": "display_data"
    },
    {
     "data": {
      "image/png": "[encoded data removed]",
      "text/plain": [
       "<Figure size 500x500 with 1 Axes>"
      ]
     },
     "metadata": {},
     "output_type": "display_data"
    }
   ],
   "source": [
    "training_set['Torque'].hist()\n",
    "sns.displot(training_set, x=\"Torque\", kde=True)\n",
    "print(training_set['Torque'].skew())"
   ]
  },
  {
   "cell_type": "code",
   "execution_count": 15,
   "id": "3bd120c2",
   "metadata": {
    "execution": {
     "iopub.execute_input": "2023-08-24T08:31:26.855498Z",
     "iopub.status.busy": "2023-08-24T08:31:26.855086Z",
     "iopub.status.idle": "2023-08-24T08:31:28.357059Z",
     "shell.execute_reply": "2023-08-24T08:31:28.355981Z"
    },
    "papermill": {
     "duration": 1.524947,
     "end_time": "2023-08-24T08:31:28.359554",
     "exception": false,
     "start_time": "2023-08-24T08:31:26.834607",
     "status": "completed"
    },
    "tags": []
   },
   "outputs": [
    {
     "name": "stderr",
     "output_type": "stream",
     "text": [
      "/opt/conda/lib/python3.10/site-packages/seaborn/axisgrid.py:118: UserWarning: The figure layout has changed to tight\n",
      "  self._figure.tight_layout(*args, **kwargs)\n"
     ]
    },
    {
     "name": "stdout",
     "output_type": "stream",
     "text": [
      "25.30906281340204\n"
     ]
    },
    {
     "data": {
      "image/png": "[encoded data removed]",
      "text/plain": [
       "<Figure size 640x480 with 1 Axes>"
      ]
     },
     "metadata": {},
     "output_type": "display_data"
    },
    {
     "data": {
      "image/png": "[encoded data removed]",
      "text/plain": [
       "<Figure size 500x500 with 1 Axes>"
      ]
     },
     "metadata": {},
     "output_type": "display_data"
    }
   ],
   "source": [
    "training_set['TWF'].hist()\n",
    "sns.displot(training_set, x=\"TWF\", kde=True)\n",
    "print(training_set['TWF'].skew())"
   ]
  },
  {
   "cell_type": "code",
   "execution_count": 16,
   "id": "5b645c07",
   "metadata": {
    "execution": {
     "iopub.execute_input": "2023-08-24T08:31:28.401708Z",
     "iopub.status.busy": "2023-08-24T08:31:28.401288Z",
     "iopub.status.idle": "2023-08-24T08:31:28.412179Z",
     "shell.execute_reply": "2023-08-24T08:31:28.410947Z"
    },
    "papermill": {
     "duration": 0.034597,
     "end_time": "2023-08-24T08:31:28.414592",
     "exception": false,
     "start_time": "2023-08-24T08:31:28.379995",
     "status": "completed"
    },
    "tags": []
   },
   "outputs": [
    {
     "data": {
      "text/plain": [
       "array([0, 1])"
      ]
     },
     "execution_count": 16,
     "metadata": {},
     "output_type": "execute_result"
    }
   ],
   "source": [
    "training_set['TWF'].unique()"
   ]
  },
  {
   "cell_type": "markdown",
   "id": "b8bfa7df",
   "metadata": {
    "papermill": {
     "duration": 0.019884,
     "end_time": "2023-08-24T08:31:28.454651",
     "exception": false,
     "start_time": "2023-08-24T08:31:28.434767",
     "status": "completed"
    },
    "tags": []
   },
   "source": [
    "## **Encoding Categorical Data**"
   ]
  },
  {
   "cell_type": "code",
   "execution_count": 17,
   "id": "c9cf4c8c",
   "metadata": {
    "execution": {
     "iopub.execute_input": "2023-08-24T08:31:28.497130Z",
     "iopub.status.busy": "2023-08-24T08:31:28.496709Z",
     "iopub.status.idle": "2023-08-24T08:31:28.505010Z",
     "shell.execute_reply": "2023-08-24T08:31:28.503888Z"
    },
    "papermill": {
     "duration": 0.032816,
     "end_time": "2023-08-24T08:31:28.507362",
     "exception": false,
     "start_time": "2023-08-24T08:31:28.474546",
     "status": "completed"
    },
    "tags": []
   },
   "outputs": [
    {
     "data": {
      "text/plain": [
       "id                       int64\n",
       "Product ID              object\n",
       "Type                    object\n",
       "Air temperature        float64\n",
       "Process temperature    float64\n",
       "Rotational speed       float64\n",
       "Torque                 float64\n",
       "Tool wear                int64\n",
       "Machine failure          int64\n",
       "TWF                      int64\n",
       "HDF                      int64\n",
       "PWF                      int64\n",
       "OSF                      int64\n",
       "RNF                      int64\n",
       "dtype: object"
      ]
     },
     "execution_count": 17,
     "metadata": {},
     "output_type": "execute_result"
    }
   ],
   "source": [
    "training_set.dtypes"
   ]
  },
  {
   "cell_type": "code",
   "execution_count": 18,
   "id": "35e175dd",
   "metadata": {
    "execution": {
     "iopub.execute_input": "2023-08-24T08:31:28.551058Z",
     "iopub.status.busy": "2023-08-24T08:31:28.550620Z",
     "iopub.status.idle": "2023-08-24T08:31:28.604876Z",
     "shell.execute_reply": "2023-08-24T08:31:28.603370Z"
    },
    "papermill": {
     "duration": 0.079824,
     "end_time": "2023-08-24T08:31:28.607381",
     "exception": false,
     "start_time": "2023-08-24T08:31:28.527557",
     "status": "completed"
    },
    "tags": []
   },
   "outputs": [
    {
     "name": "stdout",
     "output_type": "stream",
     "text": [
      "Type\n"
     ]
    }
   ],
   "source": [
    "categorical_column=['Type']\n",
    "# label_encoder object\n",
    "label_encoder =LabelEncoder()\n",
    "# Encode labels in column. \n",
    "\n",
    "for i in categorical_column:\n",
    "  print(i)\n",
    "  training_set[i]= label_encoder.fit_transform(training_set[i])\n"
   ]
  },
  {
   "cell_type": "code",
   "execution_count": 19,
   "id": "6476693d",
   "metadata": {
    "execution": {
     "iopub.execute_input": "2023-08-24T08:31:28.650639Z",
     "iopub.status.busy": "2023-08-24T08:31:28.649909Z",
     "iopub.status.idle": "2023-08-24T08:31:28.668213Z",
     "shell.execute_reply": "2023-08-24T08:31:28.666905Z"
    },
    "papermill": {
     "duration": 0.042792,
     "end_time": "2023-08-24T08:31:28.671027",
     "exception": false,
     "start_time": "2023-08-24T08:31:28.628235",
     "status": "completed"
    },
    "tags": []
   },
   "outputs": [
    {
     "data": {
      "text/html": [
       "<div>\n",
       "<style scoped>\n",
       "    .dataframe tbody tr th:only-of-type {\n",
       "        vertical-align: middle;\n",
       "    }\n",
       "\n",
       "    .dataframe tbody tr th {\n",
       "        vertical-align: top;\n",
       "    }\n",
       "\n",
       "    .dataframe thead th {\n",
       "        text-align: right;\n",
       "    }\n",
       "</style>\n",
       "<table border=\"1\" class=\"dataframe\">\n",
       "  <thead>\n",
       "    <tr style=\"text-align: right;\">\n",
       "      <th></th>\n",
       "      <th>id</th>\n",
       "      <th>Product ID</th>\n",
       "      <th>Type</th>\n",
       "      <th>Air temperature</th>\n",
       "      <th>Process temperature</th>\n",
       "      <th>Rotational speed</th>\n",
       "      <th>Torque</th>\n",
       "      <th>Tool wear</th>\n",
       "      <th>Machine failure</th>\n",
       "      <th>TWF</th>\n",
       "      <th>HDF</th>\n",
       "      <th>PWF</th>\n",
       "      <th>OSF</th>\n",
       "      <th>RNF</th>\n",
       "    </tr>\n",
       "  </thead>\n",
       "  <tbody>\n",
       "    <tr>\n",
       "      <th>0</th>\n",
       "      <td>0</td>\n",
       "      <td>L50096</td>\n",
       "      <td>1</td>\n",
       "      <td>300.6</td>\n",
       "      <td>309.6</td>\n",
       "      <td>7.375256</td>\n",
       "      <td>36.1</td>\n",
       "      <td>140</td>\n",
       "      <td>0</td>\n",
       "      <td>0</td>\n",
       "      <td>0</td>\n",
       "      <td>0</td>\n",
       "      <td>0</td>\n",
       "      <td>0</td>\n",
       "    </tr>\n",
       "    <tr>\n",
       "      <th>1</th>\n",
       "      <td>1</td>\n",
       "      <td>M20343</td>\n",
       "      <td>2</td>\n",
       "      <td>302.6</td>\n",
       "      <td>312.1</td>\n",
       "      <td>7.472501</td>\n",
       "      <td>29.1</td>\n",
       "      <td>200</td>\n",
       "      <td>0</td>\n",
       "      <td>0</td>\n",
       "      <td>0</td>\n",
       "      <td>0</td>\n",
       "      <td>0</td>\n",
       "      <td>0</td>\n",
       "    </tr>\n",
       "    <tr>\n",
       "      <th>2</th>\n",
       "      <td>2</td>\n",
       "      <td>L49454</td>\n",
       "      <td>1</td>\n",
       "      <td>299.3</td>\n",
       "      <td>308.5</td>\n",
       "      <td>7.498316</td>\n",
       "      <td>26.5</td>\n",
       "      <td>25</td>\n",
       "      <td>0</td>\n",
       "      <td>0</td>\n",
       "      <td>0</td>\n",
       "      <td>0</td>\n",
       "      <td>0</td>\n",
       "      <td>0</td>\n",
       "    </tr>\n",
       "    <tr>\n",
       "      <th>3</th>\n",
       "      <td>3</td>\n",
       "      <td>L53355</td>\n",
       "      <td>1</td>\n",
       "      <td>301.0</td>\n",
       "      <td>310.9</td>\n",
       "      <td>7.329094</td>\n",
       "      <td>44.3</td>\n",
       "      <td>197</td>\n",
       "      <td>0</td>\n",
       "      <td>0</td>\n",
       "      <td>0</td>\n",
       "      <td>0</td>\n",
       "      <td>0</td>\n",
       "      <td>0</td>\n",
       "    </tr>\n",
       "    <tr>\n",
       "      <th>4</th>\n",
       "      <td>4</td>\n",
       "      <td>M24050</td>\n",
       "      <td>2</td>\n",
       "      <td>298.0</td>\n",
       "      <td>309.0</td>\n",
       "      <td>7.403061</td>\n",
       "      <td>35.4</td>\n",
       "      <td>34</td>\n",
       "      <td>0</td>\n",
       "      <td>0</td>\n",
       "      <td>0</td>\n",
       "      <td>0</td>\n",
       "      <td>0</td>\n",
       "      <td>0</td>\n",
       "    </tr>\n",
       "  </tbody>\n",
       "</table>\n",
       "</div>"
      ],
      "text/plain": [
       "   id Product ID  Type  Air temperature  Process temperature  \\\n",
       "0   0     L50096     1            300.6                309.6   \n",
       "1   1     M20343     2            302.6                312.1   \n",
       "2   2     L49454     1            299.3                308.5   \n",
       "3   3     L53355     1            301.0                310.9   \n",
       "4   4     M24050     2            298.0                309.0   \n",
       "\n",
       "   Rotational speed  Torque  Tool wear  Machine failure  TWF  HDF  PWF  OSF  \\\n",
       "0          7.375256    36.1        140                0    0    0    0    0   \n",
       "1          7.472501    29.1        200                0    0    0    0    0   \n",
       "2          7.498316    26.5         25                0    0    0    0    0   \n",
       "3          7.329094    44.3        197                0    0    0    0    0   \n",
       "4          7.403061    35.4         34                0    0    0    0    0   \n",
       "\n",
       "   RNF  \n",
       "0    0  \n",
       "1    0  \n",
       "2    0  \n",
       "3    0  \n",
       "4    0  "
      ]
     },
     "execution_count": 19,
     "metadata": {},
     "output_type": "execute_result"
    }
   ],
   "source": [
    "training_set.head()"
   ]
  },
  {
   "cell_type": "code",
   "execution_count": 20,
   "id": "5322b97e",
   "metadata": {
    "execution": {
     "iopub.execute_input": "2023-08-24T08:31:28.714567Z",
     "iopub.status.busy": "2023-08-24T08:31:28.714060Z",
     "iopub.status.idle": "2023-08-24T08:31:28.954753Z",
     "shell.execute_reply": "2023-08-24T08:31:28.953846Z"
    },
    "papermill": {
     "duration": 0.265115,
     "end_time": "2023-08-24T08:31:28.957027",
     "exception": false,
     "start_time": "2023-08-24T08:31:28.691912",
     "status": "completed"
    },
    "tags": []
   },
   "outputs": [
    {
     "data": {
      "text/plain": [
       "<Axes: >"
      ]
     },
     "execution_count": 20,
     "metadata": {},
     "output_type": "execute_result"
    },
    {
     "data": {
      "image/png": "[encoded data removed]",
      "text/plain": [
       "<Figure size 640x480 with 1 Axes>"
      ]
     },
     "metadata": {},
     "output_type": "display_data"
    }
   ],
   "source": [
    "training_set['Type'].value_counts().plot(kind='bar')"
   ]
  },
  {
   "cell_type": "code",
   "execution_count": 21,
   "id": "c125271f",
   "metadata": {
    "execution": {
     "iopub.execute_input": "2023-08-24T08:31:29.001377Z",
     "iopub.status.busy": "2023-08-24T08:31:29.000495Z",
     "iopub.status.idle": "2023-08-24T08:31:29.253016Z",
     "shell.execute_reply": "2023-08-24T08:31:29.251795Z"
    },
    "papermill": {
     "duration": 0.277424,
     "end_time": "2023-08-24T08:31:29.255605",
     "exception": false,
     "start_time": "2023-08-24T08:31:28.978181",
     "status": "completed"
    },
    "tags": []
   },
   "outputs": [
    {
     "data": {
      "text/plain": [
       "<Axes: >"
      ]
     },
     "execution_count": 21,
     "metadata": {},
     "output_type": "execute_result"
    },
    {
     "data": {
      "image/png": "[encoded data removed]",
      "text/plain": [
       "<Figure size 640x480 with 1 Axes>"
      ]
     },
     "metadata": {},
     "output_type": "display_data"
    }
   ],
   "source": [
    "training_set['Machine failure'].value_counts().plot(kind='bar')"
   ]
  },
  {
   "cell_type": "code",
   "execution_count": 22,
   "id": "b1901641",
   "metadata": {
    "execution": {
     "iopub.execute_input": "2023-08-24T08:31:29.300865Z",
     "iopub.status.busy": "2023-08-24T08:31:29.299684Z",
     "iopub.status.idle": "2023-08-24T08:31:29.706214Z",
     "shell.execute_reply": "2023-08-24T08:31:29.705014Z"
    },
    "papermill": {
     "duration": 0.432143,
     "end_time": "2023-08-24T08:31:29.708891",
     "exception": false,
     "start_time": "2023-08-24T08:31:29.276748",
     "status": "completed"
    },
    "tags": []
   },
   "outputs": [
    {
     "data": {
      "text/plain": [
       "<Axes: >"
      ]
     },
     "execution_count": 22,
     "metadata": {},
     "output_type": "execute_result"
    },
    {
     "data": {
      "image/png": "[encoded data removed]",
      "text/plain": [
       "<Figure size 640x480 with 1 Axes>"
      ]
     },
     "metadata": {},
     "output_type": "display_data"
    }
   ],
   "source": [
    "X = training_set.drop(columns=['Machine failure','Product ID','id'])\n",
    "y = training_set['Machine failure']\n",
    "X, y = oversample.fit_resample(X, y)\n",
    "y.value_counts().plot(kind='bar')"
   ]
  },
  {
   "cell_type": "code",
   "execution_count": 23,
   "id": "1f61cb34",
   "metadata": {
    "execution": {
     "iopub.execute_input": "2023-08-24T08:31:29.754424Z",
     "iopub.status.busy": "2023-08-24T08:31:29.754022Z",
     "iopub.status.idle": "2023-08-24T08:31:29.761934Z",
     "shell.execute_reply": "2023-08-24T08:31:29.760678Z"
    },
    "papermill": {
     "duration": 0.033562,
     "end_time": "2023-08-24T08:31:29.764414",
     "exception": false,
     "start_time": "2023-08-24T08:31:29.730852",
     "status": "completed"
    },
    "tags": []
   },
   "outputs": [
    {
     "data": {
      "text/plain": [
       "dtype('int64')"
      ]
     },
     "execution_count": 23,
     "metadata": {},
     "output_type": "execute_result"
    }
   ],
   "source": [
    "X.dtypes\n",
    "y.dtypes"
   ]
  },
  {
   "cell_type": "code",
   "execution_count": 24,
   "id": "4179d218",
   "metadata": {
    "execution": {
     "iopub.execute_input": "2023-08-24T08:31:29.812547Z",
     "iopub.status.busy": "2023-08-24T08:31:29.812124Z",
     "iopub.status.idle": "2023-08-24T08:31:45.449186Z",
     "shell.execute_reply": "2023-08-24T08:31:45.447897Z"
    },
    "papermill": {
     "duration": 15.664791,
     "end_time": "2023-08-24T08:31:45.451964",
     "exception": false,
     "start_time": "2023-08-24T08:31:29.787173",
     "status": "completed"
    },
    "tags": []
   },
   "outputs": [
    {
     "name": "stdout",
     "output_type": "stream",
     "text": [
      "Feature Importances :  [0.04799345 0.05305423 0.06981633 0.14559057 0.05057284 0.04931768\n",
      " 0.11010493 0.14296594 0.19323866 0.12158034 0.01576494]\n"
     ]
    },
    {
     "data": {
      "image/png": "[encoded data removed]",
      "text/plain": [
       "<Figure size 640x480 with 1 Axes>"
      ]
     },
     "metadata": {},
     "output_type": "display_data"
    }
   ],
   "source": [
    "# fit model to training data\n",
    "xgb_model = XGBClassifier(random_state = 0 )\n",
    "xgb_model.fit(X, y)\n",
    "\n",
    "print(\"Feature Importances : \", xgb_model.feature_importances_)\n",
    "\n",
    "# plot feature importance\n",
    "plot_importance(xgb_model)\n",
    "plt.show()"
   ]
  },
  {
   "cell_type": "markdown",
   "id": "0ec29507",
   "metadata": {
    "papermill": {
     "duration": 0.022547,
     "end_time": "2023-08-24T08:31:45.497271",
     "exception": false,
     "start_time": "2023-08-24T08:31:45.474724",
     "status": "completed"
    },
    "tags": []
   },
   "source": [
    "# **Model Benchmarking**"
   ]
  },
  {
   "cell_type": "code",
   "execution_count": 25,
   "id": "1831e6e6",
   "metadata": {
    "execution": {
     "iopub.execute_input": "2023-08-24T08:31:45.550946Z",
     "iopub.status.busy": "2023-08-24T08:31:45.550245Z",
     "iopub.status.idle": "2023-08-24T08:31:45.718104Z",
     "shell.execute_reply": "2023-08-24T08:31:45.716819Z"
    },
    "papermill": {
     "duration": 0.199109,
     "end_time": "2023-08-24T08:31:45.721056",
     "exception": false,
     "start_time": "2023-08-24T08:31:45.521947",
     "status": "completed"
    },
    "tags": []
   },
   "outputs": [],
   "source": [
    "################# Splitting into Train -Test Data #######\n",
    "\n",
    "X_train,X_test,y_train,y_test = train_test_split(X,y,test_size=0.1,stratify =y,random_state =42)"
   ]
  },
  {
   "cell_type": "code",
   "execution_count": 26,
   "id": "e84c92ff",
   "metadata": {
    "execution": {
     "iopub.execute_input": "2023-08-24T08:31:45.769588Z",
     "iopub.status.busy": "2023-08-24T08:31:45.768919Z",
     "iopub.status.idle": "2023-08-24T08:31:45.786533Z",
     "shell.execute_reply": "2023-08-24T08:31:45.785669Z"
    },
    "papermill": {
     "duration": 0.04483,
     "end_time": "2023-08-24T08:31:45.788871",
     "exception": false,
     "start_time": "2023-08-24T08:31:45.744041",
     "status": "completed"
    },
    "tags": []
   },
   "outputs": [
    {
     "data": {
      "text/html": [
       "<div>\n",
       "<style scoped>\n",
       "    .dataframe tbody tr th:only-of-type {\n",
       "        vertical-align: middle;\n",
       "    }\n",
       "\n",
       "    .dataframe tbody tr th {\n",
       "        vertical-align: top;\n",
       "    }\n",
       "\n",
       "    .dataframe thead th {\n",
       "        text-align: right;\n",
       "    }\n",
       "</style>\n",
       "<table border=\"1\" class=\"dataframe\">\n",
       "  <thead>\n",
       "    <tr style=\"text-align: right;\">\n",
       "      <th></th>\n",
       "      <th>Type</th>\n",
       "      <th>Air temperature</th>\n",
       "      <th>Process temperature</th>\n",
       "      <th>Rotational speed</th>\n",
       "      <th>Torque</th>\n",
       "      <th>Tool wear</th>\n",
       "      <th>TWF</th>\n",
       "      <th>HDF</th>\n",
       "      <th>PWF</th>\n",
       "      <th>OSF</th>\n",
       "      <th>RNF</th>\n",
       "    </tr>\n",
       "  </thead>\n",
       "  <tbody>\n",
       "    <tr>\n",
       "      <th>2617</th>\n",
       "      <td>1</td>\n",
       "      <td>297.5</td>\n",
       "      <td>308.4</td>\n",
       "      <td>7.395722</td>\n",
       "      <td>31.0</td>\n",
       "      <td>45</td>\n",
       "      <td>0</td>\n",
       "      <td>0</td>\n",
       "      <td>0</td>\n",
       "      <td>0</td>\n",
       "      <td>0</td>\n",
       "    </tr>\n",
       "    <tr>\n",
       "      <th>65312</th>\n",
       "      <td>2</td>\n",
       "      <td>301.5</td>\n",
       "      <td>311.0</td>\n",
       "      <td>7.341484</td>\n",
       "      <td>37.2</td>\n",
       "      <td>59</td>\n",
       "      <td>0</td>\n",
       "      <td>0</td>\n",
       "      <td>0</td>\n",
       "      <td>0</td>\n",
       "      <td>0</td>\n",
       "    </tr>\n",
       "    <tr>\n",
       "      <th>213927</th>\n",
       "      <td>1</td>\n",
       "      <td>297.2</td>\n",
       "      <td>307.9</td>\n",
       "      <td>7.191384</td>\n",
       "      <td>75.4</td>\n",
       "      <td>172</td>\n",
       "      <td>0</td>\n",
       "      <td>0</td>\n",
       "      <td>1</td>\n",
       "      <td>0</td>\n",
       "      <td>0</td>\n",
       "    </tr>\n",
       "    <tr>\n",
       "      <th>216183</th>\n",
       "      <td>1</td>\n",
       "      <td>298.6</td>\n",
       "      <td>309.8</td>\n",
       "      <td>7.727976</td>\n",
       "      <td>16.2</td>\n",
       "      <td>218</td>\n",
       "      <td>0</td>\n",
       "      <td>0</td>\n",
       "      <td>0</td>\n",
       "      <td>0</td>\n",
       "      <td>0</td>\n",
       "    </tr>\n",
       "    <tr>\n",
       "      <th>101301</th>\n",
       "      <td>1</td>\n",
       "      <td>297.1</td>\n",
       "      <td>308.3</td>\n",
       "      <td>7.305188</td>\n",
       "      <td>41.5</td>\n",
       "      <td>139</td>\n",
       "      <td>0</td>\n",
       "      <td>0</td>\n",
       "      <td>0</td>\n",
       "      <td>0</td>\n",
       "      <td>0</td>\n",
       "    </tr>\n",
       "  </tbody>\n",
       "</table>\n",
       "</div>"
      ],
      "text/plain": [
       "        Type  Air temperature  Process temperature  Rotational speed  Torque  \\\n",
       "2617       1            297.5                308.4          7.395722    31.0   \n",
       "65312      2            301.5                311.0          7.341484    37.2   \n",
       "213927     1            297.2                307.9          7.191384    75.4   \n",
       "216183     1            298.6                309.8          7.727976    16.2   \n",
       "101301     1            297.1                308.3          7.305188    41.5   \n",
       "\n",
       "        Tool wear  TWF  HDF  PWF  OSF  RNF  \n",
       "2617           45    0    0    0    0    0  \n",
       "65312          59    0    0    0    0    0  \n",
       "213927        172    0    0    1    0    0  \n",
       "216183        218    0    0    0    0    0  \n",
       "101301        139    0    0    0    0    0  "
      ]
     },
     "execution_count": 26,
     "metadata": {},
     "output_type": "execute_result"
    }
   ],
   "source": [
    "X_test.head()"
   ]
  },
  {
   "cell_type": "code",
   "execution_count": 27,
   "id": "cb181d9a",
   "metadata": {
    "execution": {
     "iopub.execute_input": "2023-08-24T08:31:45.838847Z",
     "iopub.status.busy": "2023-08-24T08:31:45.837489Z",
     "iopub.status.idle": "2023-08-24T08:31:45.844682Z",
     "shell.execute_reply": "2023-08-24T08:31:45.843407Z"
    },
    "papermill": {
     "duration": 0.034589,
     "end_time": "2023-08-24T08:31:45.847318",
     "exception": false,
     "start_time": "2023-08-24T08:31:45.812729",
     "status": "completed"
    },
    "tags": []
   },
   "outputs": [
    {
     "name": "stdout",
     "output_type": "stream",
     "text": [
      "(241705, 11)\n",
      "(26857, 11)\n",
      "(241705,)\n",
      "(26857,)\n"
     ]
    }
   ],
   "source": [
    "print(X_train.shape)\n",
    "print(X_test.shape)\n",
    "print(y_train.shape)\n",
    "print(y_test.shape)"
   ]
  },
  {
   "cell_type": "code",
   "execution_count": 28,
   "id": "4f00335f",
   "metadata": {
    "execution": {
     "iopub.execute_input": "2023-08-24T08:31:45.896521Z",
     "iopub.status.busy": "2023-08-24T08:31:45.896121Z",
     "iopub.status.idle": "2023-08-24T08:31:48.615843Z",
     "shell.execute_reply": "2023-08-24T08:31:48.614719Z"
    },
    "papermill": {
     "duration": 2.748081,
     "end_time": "2023-08-24T08:31:48.618568",
     "exception": false,
     "start_time": "2023-08-24T08:31:45.870487",
     "status": "completed"
    },
    "tags": []
   },
   "outputs": [
    {
     "name": "stdout",
     "output_type": "stream",
     "text": [
      "Training Data Set Accuracy:  0.9733402837249134\n",
      "Training Data F1 Score  0.973469690232696\n",
      "Test Accuracy:  0.9733402837249134\n",
      "Test F1 Score:  0.973469690232696\n",
      "Confusion Matrix on Test Data\n"
     ]
    },
    {
     "data": {
      "text/html": [
       "<div>\n",
       "<style scoped>\n",
       "    .dataframe tbody tr th:only-of-type {\n",
       "        vertical-align: middle;\n",
       "    }\n",
       "\n",
       "    .dataframe tbody tr th {\n",
       "        vertical-align: top;\n",
       "    }\n",
       "\n",
       "    .dataframe thead th {\n",
       "        text-align: right;\n",
       "    }\n",
       "</style>\n",
       "<table border=\"1\" class=\"dataframe\">\n",
       "  <thead>\n",
       "    <tr style=\"text-align: right;\">\n",
       "      <th>Predicted</th>\n",
       "      <th>0</th>\n",
       "      <th>1</th>\n",
       "      <th>All</th>\n",
       "    </tr>\n",
       "    <tr>\n",
       "      <th>Actual</th>\n",
       "      <th></th>\n",
       "      <th></th>\n",
       "      <th></th>\n",
       "    </tr>\n",
       "  </thead>\n",
       "  <tbody>\n",
       "    <tr>\n",
       "      <th>0</th>\n",
       "      <td>13005</td>\n",
       "      <td>424</td>\n",
       "      <td>13429</td>\n",
       "    </tr>\n",
       "    <tr>\n",
       "      <th>1</th>\n",
       "      <td>292</td>\n",
       "      <td>13136</td>\n",
       "      <td>13428</td>\n",
       "    </tr>\n",
       "    <tr>\n",
       "      <th>All</th>\n",
       "      <td>13297</td>\n",
       "      <td>13560</td>\n",
       "      <td>26857</td>\n",
       "    </tr>\n",
       "  </tbody>\n",
       "</table>\n",
       "</div>"
      ],
      "text/plain": [
       "Predicted      0      1    All\n",
       "Actual                        \n",
       "0          13005    424  13429\n",
       "1            292  13136  13428\n",
       "All        13297  13560  26857"
      ]
     },
     "execution_count": 28,
     "metadata": {},
     "output_type": "execute_result"
    }
   ],
   "source": [
    "tree_clf = DecisionTreeClassifier()\n",
    "tree_clf.fit(X_train,y_train)\n",
    "y_pred = tree_clf.predict(X_test)\n",
    "print(\"Training Data Set Accuracy: \", accuracy_score(y_test,y_pred))\n",
    "print(\"Training Data F1 Score \", f1_score(y_test,y_pred))\n",
    "\n",
    "print(\"Test Accuracy: \",accuracy_score(y_test,y_pred))\n",
    "print(\"Test F1 Score: \",f1_score(y_test,y_pred))\n",
    "print(\"Confusion Matrix on Test Data\")\n",
    "pd.crosstab(y_test, y_pred, rownames=['Actual'], colnames=['Predicted'], margins=True)"
   ]
  },
  {
   "cell_type": "code",
   "execution_count": 29,
   "id": "dc594855",
   "metadata": {
    "execution": {
     "iopub.execute_input": "2023-08-24T08:31:48.670374Z",
     "iopub.status.busy": "2023-08-24T08:31:48.669720Z",
     "iopub.status.idle": "2023-08-24T08:31:48.674050Z",
     "shell.execute_reply": "2023-08-24T08:31:48.673158Z"
    },
    "papermill": {
     "duration": 0.034211,
     "end_time": "2023-08-24T08:31:48.676405",
     "exception": false,
     "start_time": "2023-08-24T08:31:48.642194",
     "status": "completed"
    },
    "tags": []
   },
   "outputs": [],
   "source": [
    "#Ann_clf = MLPClassifier(hidden_layer_sizes=(256,128,64,32),activation=\"relu\",random_state=1)\n",
    "#Ann_clf.fit(X_train, y_train)\n",
    "#y_pred = Ann_clf.predict(X_test)\n",
    "#print(\"Training Data Set Accuracy: \", accuracy_score(y_test,y_pred))\n",
    "#print(\"Training Data F1 Score \", f1_score(y_test,y_pred))\n",
    "\n",
    "#print(\"Test Accuracy: \",accuracy_score(y_test,y_pred))\n",
    "#print(\"Test F1 Score: \",f1_score(y_test,y_pred))\n",
    "#print(\"Confusion Matrix on Test Data\")\n",
    "#pd.crosstab(y_test, y_pred, rownames=['Actual'], colnames=['Predicted'], margins=True)"
   ]
  },
  {
   "attachments": {
    "c026181e-a311-4033-a3cd-84f0192d8f0c.png": {
     "image/png": "[encoded data removed]"
    }
   },
   "cell_type": "markdown",
   "id": "c1033b60",
   "metadata": {
    "papermill": {
     "duration": 0.023883,
     "end_time": "2023-08-24T08:31:48.724148",
     "exception": false,
     "start_time": "2023-08-24T08:31:48.700265",
     "status": "completed"
    },
    "tags": []
   },
   "source": [
    "![image.png](attachment:c026181e-a311-4033-a3cd-84f0192d8f0c.png)"
   ]
  },
  {
   "cell_type": "code",
   "execution_count": 30,
   "id": "50362630",
   "metadata": {
    "execution": {
     "iopub.execute_input": "2023-08-24T08:31:48.773957Z",
     "iopub.status.busy": "2023-08-24T08:31:48.773486Z",
     "iopub.status.idle": "2023-08-24T08:32:51.555086Z",
     "shell.execute_reply": "2023-08-24T08:32:51.553867Z"
    },
    "papermill": {
     "duration": 62.836549,
     "end_time": "2023-08-24T08:32:51.584770",
     "exception": false,
     "start_time": "2023-08-24T08:31:48.748221",
     "status": "completed"
    },
    "tags": []
   },
   "outputs": [
    {
     "name": "stdout",
     "output_type": "stream",
     "text": [
      "Training Data Set Accuracy:  0.9862233309751648\n",
      "Training Data F1 Score  0.9862504645113341\n",
      "Test Accuracy:  0.9862233309751648\n",
      "Test F1 Score:  0.9862504645113341\n",
      "Confusion Matrix on Test Data\n",
      "              precision    recall  f1-score   support\n",
      "\n",
      "           0       0.98      0.99      0.99     13375\n",
      "           1       0.99      0.98      0.99     13482\n",
      "\n",
      "    accuracy                           0.99     26857\n",
      "   macro avg       0.99      0.99      0.99     26857\n",
      "weighted avg       0.99      0.99      0.99     26857\n",
      "\n"
     ]
    }
   ],
   "source": [
    "RFmodel = RandomForestClassifier()\n",
    "RFmodel.fit(X_train, y_train)\n",
    "  \n",
    "# predict the mode\n",
    "y_pred = RFmodel.predict(X_test)\n",
    "  \n",
    "# performance evaluatio metrics\n",
    "print(\"Training Data Set Accuracy: \", accuracy_score(y_test,y_pred))\n",
    "print(\"Training Data F1 Score \", f1_score(y_test,y_pred))\n",
    "\n",
    "print(\"Test Accuracy: \",accuracy_score(y_test,y_pred))\n",
    "print(\"Test F1 Score: \",f1_score(y_test,y_pred))\n",
    "print(\"Confusion Matrix on Test Data\")\n",
    "pd.crosstab(y_test, y_pred, rownames=['Actual'], colnames=['Predicted'], margins=True)\n",
    "print(classification_report(y_pred, y_test))"
   ]
  },
  {
   "cell_type": "code",
   "execution_count": 31,
   "id": "74074436",
   "metadata": {
    "execution": {
     "iopub.execute_input": "2023-08-24T08:32:51.634363Z",
     "iopub.status.busy": "2023-08-24T08:32:51.633731Z",
     "iopub.status.idle": "2023-08-24T08:32:53.224409Z",
     "shell.execute_reply": "2023-08-24T08:32:53.223101Z"
    },
    "papermill": {
     "duration": 1.61866,
     "end_time": "2023-08-24T08:32:53.227460",
     "exception": false,
     "start_time": "2023-08-24T08:32:51.608800",
     "status": "completed"
    },
    "tags": []
   },
   "outputs": [
    {
     "name": "stdout",
     "output_type": "stream",
     "text": [
      "Training Data Set Accuracy:  0.9689094090926016\n",
      "Training Data F1 Score  0.9686196399714383\n",
      "Test Accuracy:  0.9689094090926016\n",
      "Test F1 Score:  0.9686196399714383\n",
      "Confusion Matrix on Test Data\n",
      "              precision    recall  f1-score   support\n",
      "\n",
      "           0       0.98      0.96      0.97     13676\n",
      "           1       0.96      0.98      0.97     13181\n",
      "\n",
      "    accuracy                           0.97     26857\n",
      "   macro avg       0.97      0.97      0.97     26857\n",
      "weighted avg       0.97      0.97      0.97     26857\n",
      "\n"
     ]
    }
   ],
   "source": [
    "XGBmodel = XGBClassifier(objective='binary:logistic',\n",
    "                          booster='gbtree',\n",
    "                          eval_metric='auc',\n",
    "                          tree_method='hist',\n",
    "                          grow_policy='lossguide')\n",
    "XGBmodel.fit(X_train.to_numpy(), y_train.to_numpy())\n",
    "y_pred = XGBmodel.predict(X_test)\n",
    "print(\"Training Data Set Accuracy: \", accuracy_score(y_test,y_pred))\n",
    "print(\"Training Data F1 Score \", f1_score(y_test,y_pred))\n",
    "\n",
    "print(\"Test Accuracy: \",accuracy_score(y_test,y_pred))\n",
    "print(\"Test F1 Score: \",f1_score(y_test,y_pred))\n",
    "print(\"Confusion Matrix on Test Data\")\n",
    "pd.crosstab(y_test, y_pred, rownames=['Actual'], colnames=['Predicted'], margins=True)\n",
    "print(classification_report(y_pred, y_test))\n"
   ]
  },
  {
   "cell_type": "markdown",
   "id": "7b2748f8",
   "metadata": {
    "papermill": {
     "duration": 0.02419,
     "end_time": "2023-08-24T08:32:53.276219",
     "exception": false,
     "start_time": "2023-08-24T08:32:53.252029",
     "status": "completed"
    },
    "tags": []
   },
   "source": [
    "# **Hyperparameter Tuning**"
   ]
  },
  {
   "cell_type": "code",
   "execution_count": 32,
   "id": "218ee3f7",
   "metadata": {
    "execution": {
     "iopub.execute_input": "2023-08-24T08:32:53.327622Z",
     "iopub.status.busy": "2023-08-24T08:32:53.327226Z",
     "iopub.status.idle": "2023-08-24T08:32:53.332997Z",
     "shell.execute_reply": "2023-08-24T08:32:53.332080Z"
    },
    "papermill": {
     "duration": 0.034606,
     "end_time": "2023-08-24T08:32:53.335306",
     "exception": false,
     "start_time": "2023-08-24T08:32:53.300700",
     "status": "completed"
    },
    "tags": []
   },
   "outputs": [],
   "source": [
    "hyperparameter_grid = {\n",
    "    'n_estimators': [25, 50],\n",
    "    'max_features': ['sqrt', 'log2', None],\n",
    "    'max_depth': [3, 6, 9],\n",
    "    'max_leaf_nodes': [3, 6, 9],\n",
    "}"
   ]
  },
  {
   "cell_type": "code",
   "execution_count": 33,
   "id": "d9d5b393",
   "metadata": {
    "_kg_hide-input": true,
    "collapsed": true,
    "execution": {
     "iopub.execute_input": "2023-08-24T08:32:53.385780Z",
     "iopub.status.busy": "2023-08-24T08:32:53.384711Z",
     "iopub.status.idle": "2023-08-24T08:32:53.389801Z",
     "shell.execute_reply": "2023-08-24T08:32:53.388902Z"
    },
    "jupyter": {
     "outputs_hidden": true
    },
    "papermill": {
     "duration": 0.032543,
     "end_time": "2023-08-24T08:32:53.392193",
     "exception": false,
     "start_time": "2023-08-24T08:32:53.359650",
     "status": "completed"
    },
    "tags": []
   },
   "outputs": [],
   "source": [
    "#grid_search = GridSearchCV(RFmodel,param_grid=hyperparameter_grid)\n",
    "#grid_search.fit(X_train, y_train)\n",
    "#print(grid_search.best_estimator_)"
   ]
  },
  {
   "cell_type": "markdown",
   "id": "a0350b0f",
   "metadata": {
    "papermill": {
     "duration": 0.024047,
     "end_time": "2023-08-24T08:32:53.440683",
     "exception": false,
     "start_time": "2023-08-24T08:32:53.416636",
     "status": "completed"
    },
    "tags": []
   },
   "source": [
    "# **Mini Pipeline Function**"
   ]
  },
  {
   "cell_type": "code",
   "execution_count": 34,
   "id": "46f7cb0c",
   "metadata": {
    "execution": {
     "iopub.execute_input": "2023-08-24T08:32:53.491636Z",
     "iopub.status.busy": "2023-08-24T08:32:53.490423Z",
     "iopub.status.idle": "2023-08-24T08:32:53.500161Z",
     "shell.execute_reply": "2023-08-24T08:32:53.499291Z"
    },
    "papermill": {
     "duration": 0.037506,
     "end_time": "2023-08-24T08:32:53.502541",
     "exception": false,
     "start_time": "2023-08-24T08:32:53.465035",
     "status": "completed"
    },
    "tags": []
   },
   "outputs": [],
   "source": [
    "def mini_pipeline(dataset, model):  \n",
    "    dataset.columns = ['id', 'Product ID', 'Type', 'Air temperature',\n",
    "       'Process temperature', 'Rotational speed', 'Torque',\n",
    "       'Tool wear', 'TWF', 'HDF', 'PWF', 'OSF',\n",
    "       'RNF']\n",
    "    dataset['Product ID'].drop_duplicates()\n",
    "    dataset.dropna()\n",
    "    # Encode labels in column.     \n",
    "    categorical_column=['Type']\n",
    "    \n",
    "    label_encoder = LabelEncoder()\n",
    "   \n",
    "\n",
    "    for k in categorical_column:\n",
    "        for l in (dataset.columns):\n",
    "            if k==l:\n",
    "                dataset[f\"{k}\"]= label_encoder.fit_transform(dataset[f\"{k}\"])\n",
    "            \n",
    "                  \n",
    "    id_list=list(dataset['id'])        \n",
    "    X_pred=dataset.drop(columns=['id','Product ID'], axis=1)\n",
    "    \n",
    "    print(len(id_list))  \n",
    "    #Model predictions\n",
    "    Machine_Fail = model.predict(X_pred)\n",
    "    print(len(Machine_Fail))\n",
    "\n",
    "    #returns submission\n",
    "    submission=pd.DataFrame(list(zip(id_list,Machine_Fail)),columns=['id','Machine failure'])\n",
    "       \n",
    "\n",
    "    print(submission.head())\n",
    "    \n",
    "    submission.to_csv(\"submission.csv\", index=False) \n",
    "    "
   ]
  },
  {
   "cell_type": "code",
   "execution_count": 35,
   "id": "254dd2d8",
   "metadata": {
    "execution": {
     "iopub.execute_input": "2023-08-24T08:32:53.551447Z",
     "iopub.status.busy": "2023-08-24T08:32:53.551035Z",
     "iopub.status.idle": "2023-08-24T08:32:55.552736Z",
     "shell.execute_reply": "2023-08-24T08:32:55.551588Z"
    },
    "papermill": {
     "duration": 2.029851,
     "end_time": "2023-08-24T08:32:55.556062",
     "exception": false,
     "start_time": "2023-08-24T08:32:53.526211",
     "status": "completed"
    },
    "tags": []
   },
   "outputs": [
    {
     "name": "stdout",
     "output_type": "stream",
     "text": [
      "90954\n",
      "90954\n",
      "       id  Machine failure\n",
      "0  136429                1\n",
      "1  136430                0\n",
      "2  136431                0\n",
      "3  136432                0\n",
      "4  136433                1\n"
     ]
    }
   ],
   "source": [
    "mini_pipeline(testing_set,RFmodel)"
   ]
  },
  {
   "cell_type": "code",
   "execution_count": null,
   "id": "7ec0659c",
   "metadata": {
    "papermill": {
     "duration": 0.031378,
     "end_time": "2023-08-24T08:32:55.623414",
     "exception": false,
     "start_time": "2023-08-24T08:32:55.592036",
     "status": "completed"
    },
    "tags": []
   },
   "outputs": [],
   "source": []
  }
 ],
 "metadata": {
  "kernelspec": {
   "display_name": "Python 3",
   "language": "python",
   "name": "python3"
  },
  "language_info": {
   "codemirror_mode": {
    "name": "ipython",
    "version": 3
   },
   "file_extension": ".py",
   "mimetype": "text/x-python",
   "name": "python",
   "nbconvert_exporter": "python",
   "pygments_lexer": "ipython3",
   "version": "3.10.12"
  },
  "papermill": {
   "default_parameters": {},
   "duration": 111.027862,
   "end_time": "2023-08-24T08:32:56.771067",
   "environment_variables": {},
   "exception": null,
   "input_path": "__notebook__.ipynb",
   "output_path": "__notebook__.ipynb",
   "parameters": {},
   "start_time": "2023-08-24T08:31:05.743205",
   "version": "2.4.0"
  }
 },
 "nbformat": 4,
 "nbformat_minor": 5
}
