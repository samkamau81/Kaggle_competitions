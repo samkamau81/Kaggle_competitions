{
 "cells": [
  {
   "cell_type": "markdown",
   "id": "49f470f6",
   "metadata": {
    "papermill": {
     "duration": 0.008885,
     "end_time": "2024-10-10T17:48:28.770913",
     "exception": false,
     "start_time": "2024-10-10T17:48:28.762028",
     "status": "completed"
    },
    "tags": []
   },
   "source": [
    "# Team Ya Julia\n",
    "---\n",
    "## Exploratory Data Analysis\n"
   ]
  },
  {
   "cell_type": "code",
   "execution_count": 1,
   "id": "8f57a7f0",
   "metadata": {
    "execution": {
     "iopub.execute_input": "2024-10-10T17:48:28.788270Z",
     "iopub.status.busy": "2024-10-10T17:48:28.787849Z",
     "iopub.status.idle": "2024-10-10T17:48:41.383903Z",
     "shell.execute_reply": "2024-10-10T17:48:41.382717Z"
    },
    "papermill": {
     "duration": 12.607794,
     "end_time": "2024-10-10T17:48:41.386549",
     "exception": false,
     "start_time": "2024-10-10T17:48:28.778755",
     "status": "completed"
    },
    "tags": []
   },
   "outputs": [
    {
     "name": "stdout",
     "output_type": "stream",
     "text": [
      "Requirement already satisfied: pandas in /opt/conda/lib/python3.10/site-packages (2.2.3)\r\n",
      "Requirement already satisfied: numpy>=1.22.4 in /opt/conda/lib/python3.10/site-packages (from pandas) (1.26.4)\r\n",
      "Requirement already satisfied: python-dateutil>=2.8.2 in /opt/conda/lib/python3.10/site-packages (from pandas) (2.9.0.post0)\r\n",
      "Requirement already satisfied: pytz>=2020.1 in /opt/conda/lib/python3.10/site-packages (from pandas) (2024.1)\r\n",
      "Requirement already satisfied: tzdata>=2022.7 in /opt/conda/lib/python3.10/site-packages (from pandas) (2024.1)\r\n",
      "Requirement already satisfied: six>=1.5 in /opt/conda/lib/python3.10/site-packages (from python-dateutil>=2.8.2->pandas) (1.16.0)\r\n"
     ]
    }
   ],
   "source": [
    "#installing libraries\n",
    "! pip install pandas"
   ]
  },
  {
   "cell_type": "code",
   "execution_count": 2,
   "id": "141ed507",
   "metadata": {
    "execution": {
     "iopub.execute_input": "2024-10-10T17:48:41.404812Z",
     "iopub.status.busy": "2024-10-10T17:48:41.404339Z",
     "iopub.status.idle": "2024-10-10T17:48:52.409892Z",
     "shell.execute_reply": "2024-10-10T17:48:52.408578Z"
    },
    "papermill": {
     "duration": 11.017851,
     "end_time": "2024-10-10T17:48:52.412597",
     "exception": false,
     "start_time": "2024-10-10T17:48:41.394746",
     "status": "completed"
    },
    "tags": []
   },
   "outputs": [
    {
     "name": "stdout",
     "output_type": "stream",
     "text": [
      "Requirement already satisfied: matplotlib in /opt/conda/lib/python3.10/site-packages (3.7.5)\r\n",
      "Requirement already satisfied: contourpy>=1.0.1 in /opt/conda/lib/python3.10/site-packages (from matplotlib) (1.2.1)\r\n",
      "Requirement already satisfied: cycler>=0.10 in /opt/conda/lib/python3.10/site-packages (from matplotlib) (0.12.1)\r\n",
      "Requirement already satisfied: fonttools>=4.22.0 in /opt/conda/lib/python3.10/site-packages (from matplotlib) (4.53.0)\r\n",
      "Requirement already satisfied: kiwisolver>=1.0.1 in /opt/conda/lib/python3.10/site-packages (from matplotlib) (1.4.5)\r\n",
      "Requirement already satisfied: numpy<2,>=1.20 in /opt/conda/lib/python3.10/site-packages (from matplotlib) (1.26.4)\r\n",
      "Requirement already satisfied: packaging>=20.0 in /opt/conda/lib/python3.10/site-packages (from matplotlib) (21.3)\r\n",
      "Requirement already satisfied: pillow>=6.2.0 in /opt/conda/lib/python3.10/site-packages (from matplotlib) (10.3.0)\r\n",
      "Requirement already satisfied: pyparsing>=2.3.1 in /opt/conda/lib/python3.10/site-packages (from matplotlib) (3.1.2)\r\n",
      "Requirement already satisfied: python-dateutil>=2.7 in /opt/conda/lib/python3.10/site-packages (from matplotlib) (2.9.0.post0)\r\n",
      "Requirement already satisfied: six>=1.5 in /opt/conda/lib/python3.10/site-packages (from python-dateutil>=2.7->matplotlib) (1.16.0)\r\n"
     ]
    }
   ],
   "source": [
    "! pip install matplotlib"
   ]
  },
  {
   "cell_type": "code",
   "execution_count": 3,
   "id": "2fc19a3b",
   "metadata": {
    "execution": {
     "iopub.execute_input": "2024-10-10T17:48:52.431361Z",
     "iopub.status.busy": "2024-10-10T17:48:52.430923Z",
     "iopub.status.idle": "2024-10-10T17:48:53.281738Z",
     "shell.execute_reply": "2024-10-10T17:48:53.280498Z"
    },
    "papermill": {
     "duration": 0.863011,
     "end_time": "2024-10-10T17:48:53.284160",
     "exception": false,
     "start_time": "2024-10-10T17:48:52.421149",
     "status": "completed"
    },
    "tags": []
   },
   "outputs": [],
   "source": [
    "##Libraries\n",
    "import pandas as pd\n",
    "import matplotlib.pyplot as plt\n"
   ]
  },
  {
   "cell_type": "code",
   "execution_count": 4,
   "id": "9c2c7573",
   "metadata": {
    "execution": {
     "iopub.execute_input": "2024-10-10T17:48:53.304295Z",
     "iopub.status.busy": "2024-10-10T17:48:53.303068Z",
     "iopub.status.idle": "2024-10-10T17:48:53.487852Z",
     "shell.execute_reply": "2024-10-10T17:48:53.486700Z"
    },
    "papermill": {
     "duration": 0.196898,
     "end_time": "2024-10-10T17:48:53.490530",
     "exception": false,
     "start_time": "2024-10-10T17:48:53.293632",
     "status": "completed"
    },
    "tags": []
   },
   "outputs": [],
   "source": [
    "# using plant 1\n",
    "\n",
    "generation_data=pd.read_csv(\"/kaggle/input/solar-data/Plant_1_Generation_Data.csv\")\n",
    "weather_data=pd.read_csv(\"/kaggle/input/solar-data/Plant_1_Weather_Sensor_Data.csv\")"
   ]
  },
  {
   "cell_type": "code",
   "execution_count": 5,
   "id": "85dba8cb",
   "metadata": {
    "execution": {
     "iopub.execute_input": "2024-10-10T17:48:53.509887Z",
     "iopub.status.busy": "2024-10-10T17:48:53.509454Z",
     "iopub.status.idle": "2024-10-10T17:48:53.640859Z",
     "shell.execute_reply": "2024-10-10T17:48:53.639682Z"
    },
    "papermill": {
     "duration": 0.144817,
     "end_time": "2024-10-10T17:48:53.643809",
     "exception": false,
     "start_time": "2024-10-10T17:48:53.498992",
     "status": "completed"
    },
    "tags": []
   },
   "outputs": [
    {
     "data": {
      "text/html": [
       "<style type=\"text/css\">\n",
       "#T_2b8f2_row0_col0, #T_2b8f2_row0_col1, #T_2b8f2_row0_col2, #T_2b8f2_row0_col3, #T_2b8f2_row0_col4, #T_2b8f2_row0_col5, #T_2b8f2_row0_col6, #T_2b8f2_row1_col0, #T_2b8f2_row1_col1, #T_2b8f2_row1_col2, #T_2b8f2_row1_col3, #T_2b8f2_row1_col4, #T_2b8f2_row1_col5, #T_2b8f2_row1_col6, #T_2b8f2_row2_col0, #T_2b8f2_row2_col1, #T_2b8f2_row2_col2, #T_2b8f2_row2_col3, #T_2b8f2_row2_col4, #T_2b8f2_row2_col5, #T_2b8f2_row2_col6, #T_2b8f2_row3_col0, #T_2b8f2_row3_col1, #T_2b8f2_row3_col2, #T_2b8f2_row3_col3, #T_2b8f2_row3_col4, #T_2b8f2_row3_col5, #T_2b8f2_row3_col6, #T_2b8f2_row4_col0, #T_2b8f2_row4_col1, #T_2b8f2_row4_col2, #T_2b8f2_row4_col3, #T_2b8f2_row4_col4, #T_2b8f2_row4_col5, #T_2b8f2_row4_col6 {\n",
       "  background-color: OliveDrab;\n",
       "  color: white;\n",
       "  border-color: darkblack;\n",
       "}\n",
       "</style>\n",
       "<table id=\"T_2b8f2\">\n",
       "  <thead>\n",
       "    <tr>\n",
       "      <th class=\"blank level0\" >&nbsp;</th>\n",
       "      <th id=\"T_2b8f2_level0_col0\" class=\"col_heading level0 col0\" >DATE_TIME</th>\n",
       "      <th id=\"T_2b8f2_level0_col1\" class=\"col_heading level0 col1\" >PLANT_ID</th>\n",
       "      <th id=\"T_2b8f2_level0_col2\" class=\"col_heading level0 col2\" >SOURCE_KEY</th>\n",
       "      <th id=\"T_2b8f2_level0_col3\" class=\"col_heading level0 col3\" >DC_POWER</th>\n",
       "      <th id=\"T_2b8f2_level0_col4\" class=\"col_heading level0 col4\" >AC_POWER</th>\n",
       "      <th id=\"T_2b8f2_level0_col5\" class=\"col_heading level0 col5\" >DAILY_YIELD</th>\n",
       "      <th id=\"T_2b8f2_level0_col6\" class=\"col_heading level0 col6\" >TOTAL_YIELD</th>\n",
       "    </tr>\n",
       "  </thead>\n",
       "  <tbody>\n",
       "    <tr>\n",
       "      <th id=\"T_2b8f2_level0_row0\" class=\"row_heading level0 row0\" >27715</th>\n",
       "      <td id=\"T_2b8f2_row0_col0\" class=\"data row0 col0\" >29-05-2020 09:45</td>\n",
       "      <td id=\"T_2b8f2_row0_col1\" class=\"data row0 col1\" >4135001</td>\n",
       "      <td id=\"T_2b8f2_row0_col2\" class=\"data row0 col2\" >7JYdWkrLSPkdwr4</td>\n",
       "      <td id=\"T_2b8f2_row0_col3\" class=\"data row0 col3\" >8444.428571</td>\n",
       "      <td id=\"T_2b8f2_row0_col4\" class=\"data row0 col4\" >825.857143</td>\n",
       "      <td id=\"T_2b8f2_row0_col5\" class=\"data row0 col5\" >1370.714286</td>\n",
       "      <td id=\"T_2b8f2_row0_col6\" class=\"data row0 col6\" >7708198.714000</td>\n",
       "    </tr>\n",
       "    <tr>\n",
       "      <th id=\"T_2b8f2_level0_row1\" class=\"row_heading level0 row1\" >22942</th>\n",
       "      <td id=\"T_2b8f2_row1_col0\" class=\"data row1 col0\" >26-05-2020 18:30</td>\n",
       "      <td id=\"T_2b8f2_row1_col1\" class=\"data row1 col1\" >4135001</td>\n",
       "      <td id=\"T_2b8f2_row1_col2\" class=\"data row1 col2\" >uHbuxQJl8lW7ozc</td>\n",
       "      <td id=\"T_2b8f2_row1_col3\" class=\"data row1 col3\" >0.000000</td>\n",
       "      <td id=\"T_2b8f2_row1_col4\" class=\"data row1 col4\" >0.000000</td>\n",
       "      <td id=\"T_2b8f2_row1_col5\" class=\"data row1 col5\" >0.000000</td>\n",
       "      <td id=\"T_2b8f2_row1_col6\" class=\"data row1 col6\" >7128538.000000</td>\n",
       "    </tr>\n",
       "    <tr>\n",
       "      <th id=\"T_2b8f2_level0_row2\" class=\"row_heading level0 row2\" >38664</th>\n",
       "      <td id=\"T_2b8f2_row2_col0\" class=\"data row2 col0\" >03-06-2020 15:30</td>\n",
       "      <td id=\"T_2b8f2_row2_col1\" class=\"data row2 col1\" >4135001</td>\n",
       "      <td id=\"T_2b8f2_row2_col2\" class=\"data row2 col2\" >WRmjgnKYAwPKWDb</td>\n",
       "      <td id=\"T_2b8f2_row2_col3\" class=\"data row2 col3\" >5883.428571</td>\n",
       "      <td id=\"T_2b8f2_row2_col4\" class=\"data row2 col4\" >576.500000</td>\n",
       "      <td id=\"T_2b8f2_row2_col5\" class=\"data row2 col5\" >6863.285714</td>\n",
       "      <td id=\"T_2b8f2_row2_col6\" class=\"data row2 col6\" >7173780.286000</td>\n",
       "    </tr>\n",
       "    <tr>\n",
       "      <th id=\"T_2b8f2_level0_row3\" class=\"row_heading level0 row3\" >14746</th>\n",
       "      <td id=\"T_2b8f2_row3_col0\" class=\"data row3 col0\" >22-05-2020 18:00</td>\n",
       "      <td id=\"T_2b8f2_row3_col1\" class=\"data row3 col1\" >4135001</td>\n",
       "      <td id=\"T_2b8f2_row3_col2\" class=\"data row3 col2\" >zBIq5rxdHJRwDNY</td>\n",
       "      <td id=\"T_2b8f2_row3_col3\" class=\"data row3 col3\" >286.142857</td>\n",
       "      <td id=\"T_2b8f2_row3_col4\" class=\"data row3 col4\" >27.657143</td>\n",
       "      <td id=\"T_2b8f2_row3_col5\" class=\"data row3 col5\" >7202.000000</td>\n",
       "      <td id=\"T_2b8f2_row3_col6\" class=\"data row3 col6\" >6395801.000000</td>\n",
       "    </tr>\n",
       "    <tr>\n",
       "      <th id=\"T_2b8f2_level0_row4\" class=\"row_heading level0 row4\" >53152</th>\n",
       "      <td id=\"T_2b8f2_row4_col0\" class=\"data row4 col0\" >10-06-2020 13:45</td>\n",
       "      <td id=\"T_2b8f2_row4_col1\" class=\"data row4 col1\" >4135001</td>\n",
       "      <td id=\"T_2b8f2_row4_col2\" class=\"data row4 col2\" >sjndEbLyjtCKgGv</td>\n",
       "      <td id=\"T_2b8f2_row4_col3\" class=\"data row4 col3\" >9324.250000</td>\n",
       "      <td id=\"T_2b8f2_row4_col4\" class=\"data row4 col4\" >911.937500</td>\n",
       "      <td id=\"T_2b8f2_row4_col5\" class=\"data row4 col5\" >4867.750000</td>\n",
       "      <td id=\"T_2b8f2_row4_col6\" class=\"data row4 col6\" >7213962.750000</td>\n",
       "    </tr>\n",
       "  </tbody>\n",
       "</table>\n"
      ],
      "text/plain": [
       "<pandas.io.formats.style.Styler at 0x7f88f8077820>"
      ]
     },
     "execution_count": 5,
     "metadata": {},
     "output_type": "execute_result"
    }
   ],
   "source": [
    "generation_data.sample(5).style.set_properties(\n",
    "    **{\n",
    "        'background-color': 'OliveDrab',\n",
    "        'color': 'white',\n",
    "        'border-color': 'darkblack'\n",
    "    })"
   ]
  },
  {
   "cell_type": "code",
   "execution_count": 6,
   "id": "96a89a57",
   "metadata": {
    "execution": {
     "iopub.execute_input": "2024-10-10T17:48:53.669154Z",
     "iopub.status.busy": "2024-10-10T17:48:53.668585Z",
     "iopub.status.idle": "2024-10-10T17:48:53.681351Z",
     "shell.execute_reply": "2024-10-10T17:48:53.680313Z"
    },
    "papermill": {
     "duration": 0.025042,
     "end_time": "2024-10-10T17:48:53.683660",
     "exception": false,
     "start_time": "2024-10-10T17:48:53.658618",
     "status": "completed"
    },
    "tags": []
   },
   "outputs": [
    {
     "data": {
      "text/html": [
       "<style type=\"text/css\">\n",
       "#T_8b549_row0_col0, #T_8b549_row0_col1, #T_8b549_row0_col2, #T_8b549_row0_col3, #T_8b549_row0_col4, #T_8b549_row0_col5, #T_8b549_row1_col0, #T_8b549_row1_col1, #T_8b549_row1_col2, #T_8b549_row1_col3, #T_8b549_row1_col4, #T_8b549_row1_col5, #T_8b549_row2_col0, #T_8b549_row2_col1, #T_8b549_row2_col2, #T_8b549_row2_col3, #T_8b549_row2_col4, #T_8b549_row2_col5, #T_8b549_row3_col0, #T_8b549_row3_col1, #T_8b549_row3_col2, #T_8b549_row3_col3, #T_8b549_row3_col4, #T_8b549_row3_col5, #T_8b549_row4_col0, #T_8b549_row4_col1, #T_8b549_row4_col2, #T_8b549_row4_col3, #T_8b549_row4_col4, #T_8b549_row4_col5 {\n",
       "  background-color: pink;\n",
       "  color: Black;\n",
       "  border-color: darkblack;\n",
       "}\n",
       "</style>\n",
       "<table id=\"T_8b549\">\n",
       "  <thead>\n",
       "    <tr>\n",
       "      <th class=\"blank level0\" >&nbsp;</th>\n",
       "      <th id=\"T_8b549_level0_col0\" class=\"col_heading level0 col0\" >DATE_TIME</th>\n",
       "      <th id=\"T_8b549_level0_col1\" class=\"col_heading level0 col1\" >PLANT_ID</th>\n",
       "      <th id=\"T_8b549_level0_col2\" class=\"col_heading level0 col2\" >SOURCE_KEY</th>\n",
       "      <th id=\"T_8b549_level0_col3\" class=\"col_heading level0 col3\" >AMBIENT_TEMPERATURE</th>\n",
       "      <th id=\"T_8b549_level0_col4\" class=\"col_heading level0 col4\" >MODULE_TEMPERATURE</th>\n",
       "      <th id=\"T_8b549_level0_col5\" class=\"col_heading level0 col5\" >IRRADIATION</th>\n",
       "    </tr>\n",
       "  </thead>\n",
       "  <tbody>\n",
       "    <tr>\n",
       "      <th id=\"T_8b549_level0_row0\" class=\"row_heading level0 row0\" >307</th>\n",
       "      <td id=\"T_8b549_row0_col0\" class=\"data row0 col0\" >2020-05-18 07:30:00</td>\n",
       "      <td id=\"T_8b549_row0_col1\" class=\"data row0 col1\" >4135001</td>\n",
       "      <td id=\"T_8b549_row0_col2\" class=\"data row0 col2\" >HmiyD2TTLFNqkNe</td>\n",
       "      <td id=\"T_8b549_row0_col3\" class=\"data row0 col3\" >22.696124</td>\n",
       "      <td id=\"T_8b549_row0_col4\" class=\"data row0 col4\" >28.360956</td>\n",
       "      <td id=\"T_8b549_row0_col5\" class=\"data row0 col5\" >0.244623</td>\n",
       "    </tr>\n",
       "    <tr>\n",
       "      <th id=\"T_8b549_level0_row1\" class=\"row_heading level0 row1\" >1118</th>\n",
       "      <td id=\"T_8b549_row1_col0\" class=\"data row1 col0\" >2020-05-27 07:30:00</td>\n",
       "      <td id=\"T_8b549_row1_col1\" class=\"data row1 col1\" >4135001</td>\n",
       "      <td id=\"T_8b549_row1_col2\" class=\"data row1 col2\" >HmiyD2TTLFNqkNe</td>\n",
       "      <td id=\"T_8b549_row1_col3\" class=\"data row1 col3\" >25.215722</td>\n",
       "      <td id=\"T_8b549_row1_col4\" class=\"data row1 col4\" >29.431407</td>\n",
       "      <td id=\"T_8b549_row1_col5\" class=\"data row1 col5\" >0.254300</td>\n",
       "    </tr>\n",
       "    <tr>\n",
       "      <th id=\"T_8b549_level0_row2\" class=\"row_heading level0 row2\" >1452</th>\n",
       "      <td id=\"T_8b549_row2_col0\" class=\"data row2 col0\" >2020-05-30 23:15:00</td>\n",
       "      <td id=\"T_8b549_row2_col1\" class=\"data row2 col1\" >4135001</td>\n",
       "      <td id=\"T_8b549_row2_col2\" class=\"data row2 col2\" >HmiyD2TTLFNqkNe</td>\n",
       "      <td id=\"T_8b549_row2_col3\" class=\"data row2 col3\" >23.267813</td>\n",
       "      <td id=\"T_8b549_row2_col4\" class=\"data row2 col4\" >21.473875</td>\n",
       "      <td id=\"T_8b549_row2_col5\" class=\"data row2 col5\" >0.000000</td>\n",
       "    </tr>\n",
       "    <tr>\n",
       "      <th id=\"T_8b549_level0_row3\" class=\"row_heading level0 row3\" >1551</th>\n",
       "      <td id=\"T_8b549_row3_col0\" class=\"data row3 col0\" >2020-06-01 00:00:00</td>\n",
       "      <td id=\"T_8b549_row3_col1\" class=\"data row3 col1\" >4135001</td>\n",
       "      <td id=\"T_8b549_row3_col2\" class=\"data row3 col2\" >HmiyD2TTLFNqkNe</td>\n",
       "      <td id=\"T_8b549_row3_col3\" class=\"data row3 col3\" >23.128673</td>\n",
       "      <td id=\"T_8b549_row3_col4\" class=\"data row3 col4\" >20.464305</td>\n",
       "      <td id=\"T_8b549_row3_col5\" class=\"data row3 col5\" >0.000000</td>\n",
       "    </tr>\n",
       "    <tr>\n",
       "      <th id=\"T_8b549_level0_row4\" class=\"row_heading level0 row4\" >2884</th>\n",
       "      <td id=\"T_8b549_row4_col0\" class=\"data row4 col0\" >2020-06-14 21:30:00</td>\n",
       "      <td id=\"T_8b549_row4_col1\" class=\"data row4 col1\" >4135001</td>\n",
       "      <td id=\"T_8b549_row4_col2\" class=\"data row4 col2\" >HmiyD2TTLFNqkNe</td>\n",
       "      <td id=\"T_8b549_row4_col3\" class=\"data row4 col3\" >23.862891</td>\n",
       "      <td id=\"T_8b549_row4_col4\" class=\"data row4 col4\" >22.984143</td>\n",
       "      <td id=\"T_8b549_row4_col5\" class=\"data row4 col5\" >0.000000</td>\n",
       "    </tr>\n",
       "  </tbody>\n",
       "</table>\n"
      ],
      "text/plain": [
       "<pandas.io.formats.style.Styler at 0x7f88dd137970>"
      ]
     },
     "execution_count": 6,
     "metadata": {},
     "output_type": "execute_result"
    }
   ],
   "source": [
    "weather_data.sample(5).style.set_properties(\n",
    "    **{\n",
    "        'background-color': 'pink',\n",
    "        'color': 'Black',\n",
    "        'border-color': 'darkblack'\n",
    "    })"
   ]
  },
  {
   "cell_type": "code",
   "execution_count": 7,
   "id": "f33362c6",
   "metadata": {
    "execution": {
     "iopub.execute_input": "2024-10-10T17:48:53.702884Z",
     "iopub.status.busy": "2024-10-10T17:48:53.702329Z",
     "iopub.status.idle": "2024-10-10T17:48:53.734947Z",
     "shell.execute_reply": "2024-10-10T17:48:53.733927Z"
    },
    "papermill": {
     "duration": 0.044982,
     "end_time": "2024-10-10T17:48:53.737384",
     "exception": false,
     "start_time": "2024-10-10T17:48:53.692402",
     "status": "completed"
    },
    "tags": []
   },
   "outputs": [
    {
     "name": "stderr",
     "output_type": "stream",
     "text": [
      "/tmp/ipykernel_17/1148446762.py:1: UserWarning: Parsing dates in %d-%m-%Y %H:%M format when dayfirst=False (the default) was specified. Pass `dayfirst=True` or specify a format to silence this warning.\n",
      "  generation_data['DATE_TIME'] = pd.to_datetime(generation_data['DATE_TIME'])\n"
     ]
    }
   ],
   "source": [
    "generation_data['DATE_TIME'] = pd.to_datetime(generation_data['DATE_TIME'])\n",
    "weather_data['DATE_TIME'] = pd.to_datetime(weather_data['DATE_TIME'])"
   ]
  },
  {
   "cell_type": "code",
   "execution_count": 8,
   "id": "8fa247aa",
   "metadata": {
    "execution": {
     "iopub.execute_input": "2024-10-10T17:48:53.757070Z",
     "iopub.status.busy": "2024-10-10T17:48:53.756251Z",
     "iopub.status.idle": "2024-10-10T17:48:53.808234Z",
     "shell.execute_reply": "2024-10-10T17:48:53.807103Z"
    },
    "papermill": {
     "duration": 0.06442,
     "end_time": "2024-10-10T17:48:53.810650",
     "exception": false,
     "start_time": "2024-10-10T17:48:53.746230",
     "status": "completed"
    },
    "tags": []
   },
   "outputs": [
    {
     "data": {
      "text/html": [
       "<style type=\"text/css\">\n",
       "#T_1f3c1_row0_col2 {\n",
       "  background-color: #48b7ff;\n",
       "  color: #000000;\n",
       "}\n",
       "#T_1f3c1_row0_col3 {\n",
       "  background-color: #49b6ff;\n",
       "  color: #000000;\n",
       "}\n",
       "#T_1f3c1_row0_col4 {\n",
       "  background-color: #a758ff;\n",
       "  color: #f1f1f1;\n",
       "}\n",
       "#T_1f3c1_row0_col5 {\n",
       "  background-color: #cb34ff;\n",
       "  color: #f1f1f1;\n",
       "}\n",
       "#T_1f3c1_row0_col6 {\n",
       "  background-color: #c13eff;\n",
       "  color: #f1f1f1;\n",
       "}\n",
       "#T_1f3c1_row0_col7 {\n",
       "  background-color: #639cff;\n",
       "  color: #f1f1f1;\n",
       "}\n",
       "#T_1f3c1_row0_col8 {\n",
       "  background-color: #41beff;\n",
       "  color: #000000;\n",
       "}\n",
       "#T_1f3c1_row1_col2, #T_1f3c1_row1_col3, #T_1f3c1_row1_col8, #T_1f3c1_row2_col5, #T_1f3c1_row3_col2, #T_1f3c1_row3_col3, #T_1f3c1_row3_col4, #T_1f3c1_row3_col6, #T_1f3c1_row3_col7, #T_1f3c1_row3_col8, #T_1f3c1_row4_col2, #T_1f3c1_row4_col3, #T_1f3c1_row4_col8 {\n",
       "  background-color: #00ffff;\n",
       "  color: #000000;\n",
       "}\n",
       "#T_1f3c1_row1_col4 {\n",
       "  background-color: #e01fff;\n",
       "  color: #f1f1f1;\n",
       "}\n",
       "#T_1f3c1_row1_col5 {\n",
       "  background-color: #ed12ff;\n",
       "  color: #f1f1f1;\n",
       "}\n",
       "#T_1f3c1_row1_col6 {\n",
       "  background-color: #44bbff;\n",
       "  color: #000000;\n",
       "}\n",
       "#T_1f3c1_row1_col7 {\n",
       "  background-color: #1ce3ff;\n",
       "  color: #000000;\n",
       "}\n",
       "#T_1f3c1_row2_col2, #T_1f3c1_row2_col3, #T_1f3c1_row2_col6, #T_1f3c1_row2_col7, #T_1f3c1_row2_col8, #T_1f3c1_row4_col4, #T_1f3c1_row4_col5 {\n",
       "  background-color: #ff00ff;\n",
       "  color: #f1f1f1;\n",
       "}\n",
       "#T_1f3c1_row2_col4 {\n",
       "  background-color: #5ba4ff;\n",
       "  color: #f1f1f1;\n",
       "}\n",
       "#T_1f3c1_row3_col5 {\n",
       "  background-color: #6996ff;\n",
       "  color: #f1f1f1;\n",
       "}\n",
       "#T_1f3c1_row4_col6 {\n",
       "  background-color: #758aff;\n",
       "  color: #f1f1f1;\n",
       "}\n",
       "#T_1f3c1_row4_col7 {\n",
       "  background-color: #17e8ff;\n",
       "  color: #000000;\n",
       "}\n",
       "</style>\n",
       "<table id=\"T_1f3c1\">\n",
       "  <thead>\n",
       "    <tr>\n",
       "      <th class=\"blank level0\" >&nbsp;</th>\n",
       "      <th id=\"T_1f3c1_level0_col0\" class=\"col_heading level0 col0\" >DATE_TIME</th>\n",
       "      <th id=\"T_1f3c1_level0_col1\" class=\"col_heading level0 col1\" >SOURCE_KEY</th>\n",
       "      <th id=\"T_1f3c1_level0_col2\" class=\"col_heading level0 col2\" >DC_POWER</th>\n",
       "      <th id=\"T_1f3c1_level0_col3\" class=\"col_heading level0 col3\" >AC_POWER</th>\n",
       "      <th id=\"T_1f3c1_level0_col4\" class=\"col_heading level0 col4\" >DAILY_YIELD</th>\n",
       "      <th id=\"T_1f3c1_level0_col5\" class=\"col_heading level0 col5\" >TOTAL_YIELD</th>\n",
       "      <th id=\"T_1f3c1_level0_col6\" class=\"col_heading level0 col6\" >AMBIENT_TEMPERATURE</th>\n",
       "      <th id=\"T_1f3c1_level0_col7\" class=\"col_heading level0 col7\" >MODULE_TEMPERATURE</th>\n",
       "      <th id=\"T_1f3c1_level0_col8\" class=\"col_heading level0 col8\" >IRRADIATION</th>\n",
       "    </tr>\n",
       "  </thead>\n",
       "  <tbody>\n",
       "    <tr>\n",
       "      <th id=\"T_1f3c1_level0_row0\" class=\"row_heading level0 row0\" >32377</th>\n",
       "      <td id=\"T_1f3c1_row0_col0\" class=\"data row0 col0\" >2020-05-31 15:30:00</td>\n",
       "      <td id=\"T_1f3c1_row0_col1\" class=\"data row0 col1\" >YxYtjZvoooNbGkE</td>\n",
       "      <td id=\"T_1f3c1_row0_col2\" class=\"data row0 col2\" >3299.428571</td>\n",
       "      <td id=\"T_1f3c1_row0_col3\" class=\"data row0 col3\" >324.157143</td>\n",
       "      <td id=\"T_1f3c1_row0_col4\" class=\"data row0 col4\" >5466.857143</td>\n",
       "      <td id=\"T_1f3c1_row0_col5\" class=\"data row0 col5\" >7305235.857000</td>\n",
       "      <td id=\"T_1f3c1_row0_col6\" class=\"data row0 col6\" >27.533612</td>\n",
       "      <td id=\"T_1f3c1_row0_col7\" class=\"data row0 col7\" >32.339262</td>\n",
       "      <td id=\"T_1f3c1_row0_col8\" class=\"data row0 col8\" >0.216161</td>\n",
       "    </tr>\n",
       "    <tr>\n",
       "      <th id=\"T_1f3c1_level0_row1\" class=\"row_heading level0 row1\" >62261</th>\n",
       "      <td id=\"T_1f3c1_row1_col0\" class=\"data row1 col0\" >2020-06-14 21:15:00</td>\n",
       "      <td id=\"T_1f3c1_row1_col1\" class=\"data row1 col1\" >zVJPv84UY57bAof</td>\n",
       "      <td id=\"T_1f3c1_row1_col2\" class=\"data row1 col2\" >0.000000</td>\n",
       "      <td id=\"T_1f3c1_row1_col3\" class=\"data row1 col3\" >0.000000</td>\n",
       "      <td id=\"T_1f3c1_row1_col4\" class=\"data row1 col4\" >7320.000000</td>\n",
       "      <td id=\"T_1f3c1_row1_col5\" class=\"data row1 col5\" >7344280.000000</td>\n",
       "      <td id=\"T_1f3c1_row1_col6\" class=\"data row1 col6\" >23.920254</td>\n",
       "      <td id=\"T_1f3c1_row1_col7\" class=\"data row1 col7\" >23.285942</td>\n",
       "      <td id=\"T_1f3c1_row1_col8\" class=\"data row1 col8\" >0.000000</td>\n",
       "    </tr>\n",
       "    <tr>\n",
       "      <th id=\"T_1f3c1_level0_row2\" class=\"row_heading level0 row2\" >11087</th>\n",
       "      <td id=\"T_1f3c1_row2_col0\" class=\"data row2 col0\" >2020-05-20 11:00:00</td>\n",
       "      <td id=\"T_1f3c1_row2_col1\" class=\"data row2 col1\" >uHbuxQJl8lW7ozc</td>\n",
       "      <td id=\"T_1f3c1_row2_col2\" class=\"data row2 col2\" >11592.375000</td>\n",
       "      <td id=\"T_1f3c1_row2_col3\" class=\"data row2 col3\" >1130.837500</td>\n",
       "      <td id=\"T_1f3c1_row2_col4\" class=\"data row2 col4\" >2985.500000</td>\n",
       "      <td id=\"T_1f3c1_row2_col5\" class=\"data row2 col5\" >7074183.500000</td>\n",
       "      <td id=\"T_1f3c1_row2_col6\" class=\"data row2 col6\" >29.315938</td>\n",
       "      <td id=\"T_1f3c1_row2_col7\" class=\"data row2 col7\" >52.126074</td>\n",
       "      <td id=\"T_1f3c1_row2_col8\" class=\"data row2 col8\" >0.848851</td>\n",
       "    </tr>\n",
       "    <tr>\n",
       "      <th id=\"T_1f3c1_level0_row3\" class=\"row_heading level0 row3\" >41735</th>\n",
       "      <td id=\"T_1f3c1_row3_col0\" class=\"data row3 col0\" >2020-06-05 03:00:00</td>\n",
       "      <td id=\"T_1f3c1_row3_col1\" class=\"data row3 col1\" >uHbuxQJl8lW7ozc</td>\n",
       "      <td id=\"T_1f3c1_row3_col2\" class=\"data row3 col2\" >0.000000</td>\n",
       "      <td id=\"T_1f3c1_row3_col3\" class=\"data row3 col3\" >0.000000</td>\n",
       "      <td id=\"T_1f3c1_row3_col4\" class=\"data row3 col4\" >0.000000</td>\n",
       "      <td id=\"T_1f3c1_row3_col5\" class=\"data row3 col5\" >7194535.000000</td>\n",
       "      <td id=\"T_1f3c1_row3_col6\" class=\"data row3 col6\" >21.960252</td>\n",
       "      <td id=\"T_1f3c1_row3_col7\" class=\"data row3 col7\" >19.703837</td>\n",
       "      <td id=\"T_1f3c1_row3_col8\" class=\"data row3 col8\" >0.000000</td>\n",
       "    </tr>\n",
       "    <tr>\n",
       "      <th id=\"T_1f3c1_level0_row4\" class=\"row_heading level0 row4\" >49421</th>\n",
       "      <td id=\"T_1f3c1_row4_col0\" class=\"data row4 col0\" >2020-06-08 19:30:00</td>\n",
       "      <td id=\"T_1f3c1_row4_col1\" class=\"data row4 col1\" >YxYtjZvoooNbGkE</td>\n",
       "      <td id=\"T_1f3c1_row4_col2\" class=\"data row4 col2\" >0.000000</td>\n",
       "      <td id=\"T_1f3c1_row4_col3\" class=\"data row4 col3\" >0.000000</td>\n",
       "      <td id=\"T_1f3c1_row4_col4\" class=\"data row4 col4\" >8343.000000</td>\n",
       "      <td id=\"T_1f3c1_row4_col5\" class=\"data row4 col5\" >7365310.000000</td>\n",
       "      <td id=\"T_1f3c1_row4_col6\" class=\"data row4 col6\" >25.331020</td>\n",
       "      <td id=\"T_1f3c1_row4_col7\" class=\"data row4 col7\" >22.709330</td>\n",
       "      <td id=\"T_1f3c1_row4_col8\" class=\"data row4 col8\" >0.000000</td>\n",
       "    </tr>\n",
       "  </tbody>\n",
       "</table>\n"
      ],
      "text/plain": [
       "<pandas.io.formats.style.Styler at 0x7f88dd137940>"
      ]
     },
     "execution_count": 8,
     "metadata": {},
     "output_type": "execute_result"
    }
   ],
   "source": [
    "df_solar = pd.merge(generation_data.drop(columns = ['PLANT_ID']), weather_data.drop(columns = ['PLANT_ID', 'SOURCE_KEY']), on='DATE_TIME')\n",
    "df_solar.sample(5).style.background_gradient(cmap='cool')"
   ]
  },
  {
   "cell_type": "code",
   "execution_count": 9,
   "id": "80455eea",
   "metadata": {
    "execution": {
     "iopub.execute_input": "2024-10-10T17:48:53.831119Z",
     "iopub.status.busy": "2024-10-10T17:48:53.830053Z",
     "iopub.status.idle": "2024-10-10T17:48:54.138961Z",
     "shell.execute_reply": "2024-10-10T17:48:54.137878Z"
    },
    "papermill": {
     "duration": 0.321344,
     "end_time": "2024-10-10T17:48:54.141135",
     "exception": false,
     "start_time": "2024-10-10T17:48:53.819791",
     "status": "completed"
    },
    "tags": []
   },
   "outputs": [
    {
     "data": {
      "text/html": [
       "<div>\n",
       "<style scoped>\n",
       "    .dataframe tbody tr th:only-of-type {\n",
       "        vertical-align: middle;\n",
       "    }\n",
       "\n",
       "    .dataframe tbody tr th {\n",
       "        vertical-align: top;\n",
       "    }\n",
       "\n",
       "    .dataframe thead th {\n",
       "        text-align: right;\n",
       "    }\n",
       "</style>\n",
       "<table border=\"1\" class=\"dataframe\">\n",
       "  <thead>\n",
       "    <tr style=\"text-align: right;\">\n",
       "      <th></th>\n",
       "      <th>DATE_TIME</th>\n",
       "      <th>SOURCE_KEY</th>\n",
       "      <th>DC_POWER</th>\n",
       "      <th>AC_POWER</th>\n",
       "      <th>DAILY_YIELD</th>\n",
       "      <th>TOTAL_YIELD</th>\n",
       "      <th>AMBIENT_TEMPERATURE</th>\n",
       "      <th>MODULE_TEMPERATURE</th>\n",
       "      <th>IRRADIATION</th>\n",
       "      <th>DATE</th>\n",
       "      <th>TIME</th>\n",
       "      <th>DAY</th>\n",
       "      <th>MONTH</th>\n",
       "      <th>HOURS</th>\n",
       "      <th>MINUTES</th>\n",
       "      <th>TOTAL MINUTES PASS</th>\n",
       "      <th>DATE_STRING</th>\n",
       "    </tr>\n",
       "  </thead>\n",
       "  <tbody>\n",
       "    <tr>\n",
       "      <th>0</th>\n",
       "      <td>2020-05-15</td>\n",
       "      <td>1BY6WEcLGh8j5v7</td>\n",
       "      <td>0.0</td>\n",
       "      <td>0.0</td>\n",
       "      <td>0.0</td>\n",
       "      <td>6259559.0</td>\n",
       "      <td>25.184316</td>\n",
       "      <td>22.857507</td>\n",
       "      <td>0.0</td>\n",
       "      <td>2020-05-15</td>\n",
       "      <td>00:00:00</td>\n",
       "      <td>15</td>\n",
       "      <td>5</td>\n",
       "      <td>0</td>\n",
       "      <td>0</td>\n",
       "      <td>0</td>\n",
       "      <td>2020-05-15</td>\n",
       "    </tr>\n",
       "    <tr>\n",
       "      <th>1</th>\n",
       "      <td>2020-05-15</td>\n",
       "      <td>1IF53ai7Xc0U56Y</td>\n",
       "      <td>0.0</td>\n",
       "      <td>0.0</td>\n",
       "      <td>0.0</td>\n",
       "      <td>6183645.0</td>\n",
       "      <td>25.184316</td>\n",
       "      <td>22.857507</td>\n",
       "      <td>0.0</td>\n",
       "      <td>2020-05-15</td>\n",
       "      <td>00:00:00</td>\n",
       "      <td>15</td>\n",
       "      <td>5</td>\n",
       "      <td>0</td>\n",
       "      <td>0</td>\n",
       "      <td>0</td>\n",
       "      <td>2020-05-15</td>\n",
       "    </tr>\n",
       "  </tbody>\n",
       "</table>\n",
       "</div>"
      ],
      "text/plain": [
       "   DATE_TIME       SOURCE_KEY  DC_POWER  AC_POWER  DAILY_YIELD  TOTAL_YIELD  \\\n",
       "0 2020-05-15  1BY6WEcLGh8j5v7       0.0       0.0          0.0    6259559.0   \n",
       "1 2020-05-15  1IF53ai7Xc0U56Y       0.0       0.0          0.0    6183645.0   \n",
       "\n",
       "   AMBIENT_TEMPERATURE  MODULE_TEMPERATURE  IRRADIATION        DATE      TIME  \\\n",
       "0            25.184316           22.857507          0.0  2020-05-15  00:00:00   \n",
       "1            25.184316           22.857507          0.0  2020-05-15  00:00:00   \n",
       "\n",
       "   DAY  MONTH HOURS  MINUTES  TOTAL MINUTES PASS DATE_STRING  \n",
       "0   15      5     0        0                   0  2020-05-15  \n",
       "1   15      5     0        0                   0  2020-05-15  "
      ]
     },
     "execution_count": 9,
     "metadata": {},
     "output_type": "execute_result"
    }
   ],
   "source": [
    "# adding separate time and date columns\n",
    "df_solar[\"DATE\"] = pd.to_datetime(df_solar[\"DATE_TIME\"]).dt.date\n",
    "df_solar[\"TIME\"] = pd.to_datetime(df_solar[\"DATE_TIME\"]).dt.time\n",
    "df_solar['DAY'] = pd.to_datetime(df_solar['DATE_TIME']).dt.day\n",
    "df_solar['MONTH'] = pd.to_datetime(df_solar['DATE_TIME']).dt.month\n",
    "\n",
    "\n",
    "# add hours and minutes for ml models\n",
    "df_solar['HOURS'] = pd.to_datetime(df_solar['TIME'],format='%H:%M:%S').dt.hour\n",
    "df_solar['MINUTES'] = pd.to_datetime(df_solar['TIME'],format='%H:%M:%S').dt.minute\n",
    "df_solar['TOTAL MINUTES PASS'] = df_solar['MINUTES'] + df_solar['HOURS']*60\n",
    "\n",
    "# add date as string column\n",
    "df_solar[\"DATE_STRING\"] = df_solar[\"DATE\"].astype(str) # add column with date as string\n",
    "df_solar[\"HOURS\"] = df_solar[\"HOURS\"].astype(str)\n",
    "df_solar[\"TIME\"] = df_solar[\"TIME\"].astype(str)\n",
    "\n",
    "df_solar.head(2)"
   ]
  },
  {
   "cell_type": "code",
   "execution_count": 10,
   "id": "92683031",
   "metadata": {
    "execution": {
     "iopub.execute_input": "2024-10-10T17:48:54.161892Z",
     "iopub.status.busy": "2024-10-10T17:48:54.160915Z",
     "iopub.status.idle": "2024-10-10T17:48:54.197141Z",
     "shell.execute_reply": "2024-10-10T17:48:54.195570Z"
    },
    "papermill": {
     "duration": 0.048998,
     "end_time": "2024-10-10T17:48:54.199532",
     "exception": false,
     "start_time": "2024-10-10T17:48:54.150534",
     "status": "completed"
    },
    "tags": []
   },
   "outputs": [
    {
     "name": "stdout",
     "output_type": "stream",
     "text": [
      "<class 'pandas.core.frame.DataFrame'>\n",
      "RangeIndex: 68774 entries, 0 to 68773\n",
      "Data columns (total 17 columns):\n",
      " #   Column               Non-Null Count  Dtype         \n",
      "---  ------               --------------  -----         \n",
      " 0   DATE_TIME            68774 non-null  datetime64[ns]\n",
      " 1   SOURCE_KEY           68774 non-null  object        \n",
      " 2   DC_POWER             68774 non-null  float64       \n",
      " 3   AC_POWER             68774 non-null  float64       \n",
      " 4   DAILY_YIELD          68774 non-null  float64       \n",
      " 5   TOTAL_YIELD          68774 non-null  float64       \n",
      " 6   AMBIENT_TEMPERATURE  68774 non-null  float64       \n",
      " 7   MODULE_TEMPERATURE   68774 non-null  float64       \n",
      " 8   IRRADIATION          68774 non-null  float64       \n",
      " 9   DATE                 68774 non-null  object        \n",
      " 10  TIME                 68774 non-null  object        \n",
      " 11  DAY                  68774 non-null  int32         \n",
      " 12  MONTH                68774 non-null  int32         \n",
      " 13  HOURS                68774 non-null  object        \n",
      " 14  MINUTES              68774 non-null  int32         \n",
      " 15  TOTAL MINUTES PASS   68774 non-null  int32         \n",
      " 16  DATE_STRING          68774 non-null  object        \n",
      "dtypes: datetime64[ns](1), float64(7), int32(4), object(5)\n",
      "memory usage: 7.9+ MB\n"
     ]
    }
   ],
   "source": [
    "df_solar.info()"
   ]
  },
  {
   "cell_type": "code",
   "execution_count": 11,
   "id": "af0b060a",
   "metadata": {
    "execution": {
     "iopub.execute_input": "2024-10-10T17:48:54.220261Z",
     "iopub.status.busy": "2024-10-10T17:48:54.219416Z",
     "iopub.status.idle": "2024-10-10T17:48:54.246471Z",
     "shell.execute_reply": "2024-10-10T17:48:54.245372Z"
    },
    "papermill": {
     "duration": 0.03997,
     "end_time": "2024-10-10T17:48:54.248910",
     "exception": false,
     "start_time": "2024-10-10T17:48:54.208940",
     "status": "completed"
    },
    "tags": []
   },
   "outputs": [
    {
     "data": {
      "text/plain": [
       "DATE_TIME              0\n",
       "SOURCE_KEY             0\n",
       "DC_POWER               0\n",
       "AC_POWER               0\n",
       "DAILY_YIELD            0\n",
       "TOTAL_YIELD            0\n",
       "AMBIENT_TEMPERATURE    0\n",
       "MODULE_TEMPERATURE     0\n",
       "IRRADIATION            0\n",
       "DATE                   0\n",
       "TIME                   0\n",
       "DAY                    0\n",
       "MONTH                  0\n",
       "HOURS                  0\n",
       "MINUTES                0\n",
       "TOTAL MINUTES PASS     0\n",
       "DATE_STRING            0\n",
       "dtype: int64"
      ]
     },
     "execution_count": 11,
     "metadata": {},
     "output_type": "execute_result"
    }
   ],
   "source": [
    "df_solar.isnull().sum()"
   ]
  },
  {
   "cell_type": "code",
   "execution_count": 12,
   "id": "5ecfdd0d",
   "metadata": {
    "execution": {
     "iopub.execute_input": "2024-10-10T17:48:54.269959Z",
     "iopub.status.busy": "2024-10-10T17:48:54.268954Z",
     "iopub.status.idle": "2024-10-10T17:48:55.517879Z",
     "shell.execute_reply": "2024-10-10T17:48:55.516678Z"
    },
    "papermill": {
     "duration": 1.262075,
     "end_time": "2024-10-10T17:48:55.520306",
     "exception": false,
     "start_time": "2024-10-10T17:48:54.258231",
     "status": "completed"
    },
    "tags": []
   },
   "outputs": [
    {
     "data": {
      "text/html": [
       "<div>\n",
       "<style scoped>\n",
       "    .dataframe tbody tr th:only-of-type {\n",
       "        vertical-align: middle;\n",
       "    }\n",
       "\n",
       "    .dataframe tbody tr th {\n",
       "        vertical-align: top;\n",
       "    }\n",
       "\n",
       "    .dataframe thead th {\n",
       "        text-align: right;\n",
       "    }\n",
       "</style>\n",
       "<table border=\"1\" class=\"dataframe\">\n",
       "  <thead>\n",
       "    <tr style=\"text-align: right;\">\n",
       "      <th></th>\n",
       "      <th>DATE_TIME</th>\n",
       "      <th>SOURCE_KEY</th>\n",
       "      <th>DC_POWER</th>\n",
       "      <th>AC_POWER</th>\n",
       "      <th>DAILY_YIELD</th>\n",
       "      <th>TOTAL_YIELD</th>\n",
       "      <th>AMBIENT_TEMPERATURE</th>\n",
       "      <th>MODULE_TEMPERATURE</th>\n",
       "      <th>IRRADIATION</th>\n",
       "      <th>DATE</th>\n",
       "      <th>TIME</th>\n",
       "      <th>DAY</th>\n",
       "      <th>MONTH</th>\n",
       "      <th>HOURS</th>\n",
       "      <th>MINUTES</th>\n",
       "      <th>TOTAL MINUTES PASS</th>\n",
       "      <th>DATE_STRING</th>\n",
       "      <th>SOURCE_KEY_NUMBER</th>\n",
       "    </tr>\n",
       "  </thead>\n",
       "  <tbody>\n",
       "    <tr>\n",
       "      <th>0</th>\n",
       "      <td>2020-05-15</td>\n",
       "      <td>1BY6WEcLGh8j5v7</td>\n",
       "      <td>0.0</td>\n",
       "      <td>0.0</td>\n",
       "      <td>0.0</td>\n",
       "      <td>6259559.0</td>\n",
       "      <td>25.184316</td>\n",
       "      <td>22.857507</td>\n",
       "      <td>0.0</td>\n",
       "      <td>2020-05-15</td>\n",
       "      <td>00:00:00</td>\n",
       "      <td>15</td>\n",
       "      <td>5</td>\n",
       "      <td>0</td>\n",
       "      <td>0</td>\n",
       "      <td>0</td>\n",
       "      <td>2020-05-15</td>\n",
       "      <td>0</td>\n",
       "    </tr>\n",
       "    <tr>\n",
       "      <th>1</th>\n",
       "      <td>2020-05-15</td>\n",
       "      <td>1IF53ai7Xc0U56Y</td>\n",
       "      <td>0.0</td>\n",
       "      <td>0.0</td>\n",
       "      <td>0.0</td>\n",
       "      <td>6183645.0</td>\n",
       "      <td>25.184316</td>\n",
       "      <td>22.857507</td>\n",
       "      <td>0.0</td>\n",
       "      <td>2020-05-15</td>\n",
       "      <td>00:00:00</td>\n",
       "      <td>15</td>\n",
       "      <td>5</td>\n",
       "      <td>0</td>\n",
       "      <td>0</td>\n",
       "      <td>0</td>\n",
       "      <td>2020-05-15</td>\n",
       "      <td>1</td>\n",
       "    </tr>\n",
       "    <tr>\n",
       "      <th>2</th>\n",
       "      <td>2020-05-15</td>\n",
       "      <td>3PZuoBAID5Wc2HD</td>\n",
       "      <td>0.0</td>\n",
       "      <td>0.0</td>\n",
       "      <td>0.0</td>\n",
       "      <td>6987759.0</td>\n",
       "      <td>25.184316</td>\n",
       "      <td>22.857507</td>\n",
       "      <td>0.0</td>\n",
       "      <td>2020-05-15</td>\n",
       "      <td>00:00:00</td>\n",
       "      <td>15</td>\n",
       "      <td>5</td>\n",
       "      <td>0</td>\n",
       "      <td>0</td>\n",
       "      <td>0</td>\n",
       "      <td>2020-05-15</td>\n",
       "      <td>2</td>\n",
       "    </tr>\n",
       "    <tr>\n",
       "      <th>3</th>\n",
       "      <td>2020-05-15</td>\n",
       "      <td>7JYdWkrLSPkdwr4</td>\n",
       "      <td>0.0</td>\n",
       "      <td>0.0</td>\n",
       "      <td>0.0</td>\n",
       "      <td>7602960.0</td>\n",
       "      <td>25.184316</td>\n",
       "      <td>22.857507</td>\n",
       "      <td>0.0</td>\n",
       "      <td>2020-05-15</td>\n",
       "      <td>00:00:00</td>\n",
       "      <td>15</td>\n",
       "      <td>5</td>\n",
       "      <td>0</td>\n",
       "      <td>0</td>\n",
       "      <td>0</td>\n",
       "      <td>2020-05-15</td>\n",
       "      <td>3</td>\n",
       "    </tr>\n",
       "    <tr>\n",
       "      <th>4</th>\n",
       "      <td>2020-05-15</td>\n",
       "      <td>McdE0feGgRqW7Ca</td>\n",
       "      <td>0.0</td>\n",
       "      <td>0.0</td>\n",
       "      <td>0.0</td>\n",
       "      <td>7158964.0</td>\n",
       "      <td>25.184316</td>\n",
       "      <td>22.857507</td>\n",
       "      <td>0.0</td>\n",
       "      <td>2020-05-15</td>\n",
       "      <td>00:00:00</td>\n",
       "      <td>15</td>\n",
       "      <td>5</td>\n",
       "      <td>0</td>\n",
       "      <td>0</td>\n",
       "      <td>0</td>\n",
       "      <td>2020-05-15</td>\n",
       "      <td>4</td>\n",
       "    </tr>\n",
       "  </tbody>\n",
       "</table>\n",
       "</div>"
      ],
      "text/plain": [
       "   DATE_TIME       SOURCE_KEY  DC_POWER  AC_POWER  DAILY_YIELD  TOTAL_YIELD  \\\n",
       "0 2020-05-15  1BY6WEcLGh8j5v7       0.0       0.0          0.0    6259559.0   \n",
       "1 2020-05-15  1IF53ai7Xc0U56Y       0.0       0.0          0.0    6183645.0   \n",
       "2 2020-05-15  3PZuoBAID5Wc2HD       0.0       0.0          0.0    6987759.0   \n",
       "3 2020-05-15  7JYdWkrLSPkdwr4       0.0       0.0          0.0    7602960.0   \n",
       "4 2020-05-15  McdE0feGgRqW7Ca       0.0       0.0          0.0    7158964.0   \n",
       "\n",
       "   AMBIENT_TEMPERATURE  MODULE_TEMPERATURE  IRRADIATION        DATE      TIME  \\\n",
       "0            25.184316           22.857507          0.0  2020-05-15  00:00:00   \n",
       "1            25.184316           22.857507          0.0  2020-05-15  00:00:00   \n",
       "2            25.184316           22.857507          0.0  2020-05-15  00:00:00   \n",
       "3            25.184316           22.857507          0.0  2020-05-15  00:00:00   \n",
       "4            25.184316           22.857507          0.0  2020-05-15  00:00:00   \n",
       "\n",
       "   DAY  MONTH HOURS  MINUTES  TOTAL MINUTES PASS DATE_STRING  \\\n",
       "0   15      5     0        0                   0  2020-05-15   \n",
       "1   15      5     0        0                   0  2020-05-15   \n",
       "2   15      5     0        0                   0  2020-05-15   \n",
       "3   15      5     0        0                   0  2020-05-15   \n",
       "4   15      5     0        0                   0  2020-05-15   \n",
       "\n",
       "   SOURCE_KEY_NUMBER  \n",
       "0                  0  \n",
       "1                  1  \n",
       "2                  2  \n",
       "3                  3  \n",
       "4                  4  "
      ]
     },
     "execution_count": 12,
     "metadata": {},
     "output_type": "execute_result"
    }
   ],
   "source": [
    "from sklearn.preprocessing import LabelEncoder\n",
    "encoder = LabelEncoder()\n",
    "df_solar['SOURCE_KEY_NUMBER'] = encoder.fit_transform(df_solar['SOURCE_KEY'])\n",
    "df_solar.head()"
   ]
  },
  {
   "cell_type": "code",
   "execution_count": 13,
   "id": "4c4c9015",
   "metadata": {
    "execution": {
     "iopub.execute_input": "2024-10-10T17:48:55.542810Z",
     "iopub.status.busy": "2024-10-10T17:48:55.541587Z",
     "iopub.status.idle": "2024-10-10T17:48:57.088247Z",
     "shell.execute_reply": "2024-10-10T17:48:57.087050Z"
    },
    "papermill": {
     "duration": 1.560672,
     "end_time": "2024-10-10T17:48:57.090747",
     "exception": false,
     "start_time": "2024-10-10T17:48:55.530075",
     "status": "completed"
    },
    "tags": []
   },
   "outputs": [
    {
     "name": "stderr",
     "output_type": "stream",
     "text": [
      "/opt/conda/lib/python3.10/site-packages/seaborn/_oldcore.py:1119: FutureWarning: use_inf_as_na option is deprecated and will be removed in a future version. Convert inf values to NaN before operating instead.\n",
      "  with pd.option_context('mode.use_inf_as_na', True):\n"
     ]
    },
    {
     "data": {
      "image/png": "[encoded data removed]",
      "text/plain": [
       "<Figure size 1750x500 with 1 Axes>"
      ]
     },
     "metadata": {},
     "output_type": "display_data"
    }
   ],
   "source": [
    "import seaborn as sns\n",
    "sns.displot(data=df_solar, x=\"AMBIENT_TEMPERATURE\", kde=True, bins = 100,color = \"red\", facecolor = \"#3F7F7F\",height = 5, aspect = 3.5);"
   ]
  },
  {
   "cell_type": "code",
   "execution_count": 14,
   "id": "50d405ca",
   "metadata": {
    "execution": {
     "iopub.execute_input": "2024-10-10T17:48:57.114803Z",
     "iopub.status.busy": "2024-10-10T17:48:57.113644Z",
     "iopub.status.idle": "2024-10-10T17:48:57.135724Z",
     "shell.execute_reply": "2024-10-10T17:48:57.134663Z"
    },
    "papermill": {
     "duration": 0.037064,
     "end_time": "2024-10-10T17:48:57.138344",
     "exception": false,
     "start_time": "2024-10-10T17:48:57.101280",
     "status": "completed"
    },
    "tags": []
   },
   "outputs": [
    {
     "name": "stdout",
     "output_type": "stream",
     "text": [
      "\n",
      "Filtered DataFrame (DC_POWER != 0):\n",
      "                DATE_TIME       SOURCE_KEY   DC_POWER  AC_POWER  DAILY_YIELD  \\\n",
      "510   2020-05-15 06:00:00  1BY6WEcLGh8j5v7  37.142857  3.585714     0.000000   \n",
      "511   2020-05-15 06:00:00  1IF53ai7Xc0U56Y  53.500000  5.162500     0.000000   \n",
      "512   2020-05-15 06:00:00  3PZuoBAID5Wc2HD  58.000000  5.585714     0.000000   \n",
      "513   2020-05-15 06:00:00  7JYdWkrLSPkdwr4  58.428571  5.628571     0.000000   \n",
      "514   2020-05-15 06:00:00  McdE0feGgRqW7Ca  54.375000  5.250000     0.000000   \n",
      "...                   ...              ...        ...       ...          ...   \n",
      "68307 2020-06-17 18:30:00  uHbuxQJl8lW7ozc  79.000000  7.614286  5966.142857   \n",
      "68308 2020-06-17 18:30:00  wCURE6d3bPkepu2  75.714286  7.300000  5882.714286   \n",
      "68309 2020-06-17 18:30:00  z9Y9gH1T5YWrNuG  77.428571  7.471429  5818.428571   \n",
      "68310 2020-06-17 18:30:00  zBIq5rxdHJRwDNY  74.857143  7.228571  5816.142857   \n",
      "68311 2020-06-17 18:30:00  zVJPv84UY57bAof  77.714286  7.485714  5909.142857   \n",
      "\n",
      "       TOTAL_YIELD  AMBIENT_TEMPERATURE  MODULE_TEMPERATURE  IRRADIATION  \\\n",
      "510    6259559.000            24.088446           22.206757     0.005887   \n",
      "511    6183645.000            24.088446           22.206757     0.005887   \n",
      "512    6987759.000            24.088446           22.206757     0.005887   \n",
      "513    7602960.000            24.088446           22.206757     0.005887   \n",
      "514    7158964.000            24.088446           22.206757     0.005887   \n",
      "...            ...                  ...                 ...          ...   \n",
      "68307  7287001.143            23.840239           22.968658     0.007007   \n",
      "68308  7028600.714            23.840239           22.968658     0.007007   \n",
      "68309  7251203.429            23.840239           22.968658     0.007007   \n",
      "68310  6583368.143            23.840239           22.968658     0.007007   \n",
      "68311  7363271.143            23.840239           22.968658     0.007007   \n",
      "\n",
      "             DATE      TIME  DAY  MONTH HOURS  MINUTES  TOTAL MINUTES PASS  \\\n",
      "510    2020-05-15  06:00:00   15      5     6        0                 360   \n",
      "511    2020-05-15  06:00:00   15      5     6        0                 360   \n",
      "512    2020-05-15  06:00:00   15      5     6        0                 360   \n",
      "513    2020-05-15  06:00:00   15      5     6        0                 360   \n",
      "514    2020-05-15  06:00:00   15      5     6        0                 360   \n",
      "...           ...       ...  ...    ...   ...      ...                 ...   \n",
      "68307  2020-06-17  18:30:00   17      6    18       30                1110   \n",
      "68308  2020-06-17  18:30:00   17      6    18       30                1110   \n",
      "68309  2020-06-17  18:30:00   17      6    18       30                1110   \n",
      "68310  2020-06-17  18:30:00   17      6    18       30                1110   \n",
      "68311  2020-06-17  18:30:00   17      6    18       30                1110   \n",
      "\n",
      "      DATE_STRING  SOURCE_KEY_NUMBER  \n",
      "510    2020-05-15                  0  \n",
      "511    2020-05-15                  1  \n",
      "512    2020-05-15                  2  \n",
      "513    2020-05-15                  3  \n",
      "514    2020-05-15                  4  \n",
      "...           ...                ...  \n",
      "68307  2020-06-17                 17  \n",
      "68308  2020-06-17                 18  \n",
      "68309  2020-06-17                 19  \n",
      "68310  2020-06-17                 20  \n",
      "68311  2020-06-17                 21  \n",
      "\n",
      "[36823 rows x 18 columns]\n"
     ]
    }
   ],
   "source": [
    "# Remove rows where DC_POWER is 0\n",
    "df_solar = df_solar[df_solar['DC_POWER'] != 0]\n",
    "\n",
    "# Display the filtered DataFrame\n",
    "print(\"\\nFiltered DataFrame (DC_POWER != 0):\")\n",
    "print(df_solar)"
   ]
  },
  {
   "cell_type": "code",
   "execution_count": 15,
   "id": "78ae5f1a",
   "metadata": {
    "execution": {
     "iopub.execute_input": "2024-10-10T17:48:57.161756Z",
     "iopub.status.busy": "2024-10-10T17:48:57.161053Z",
     "iopub.status.idle": "2024-10-10T17:48:57.169229Z",
     "shell.execute_reply": "2024-10-10T17:48:57.168221Z"
    },
    "papermill": {
     "duration": 0.022436,
     "end_time": "2024-10-10T17:48:57.171522",
     "exception": false,
     "start_time": "2024-10-10T17:48:57.149086",
     "status": "completed"
    },
    "tags": []
   },
   "outputs": [],
   "source": [
    "# Scaling\n",
    "# Set the target min and max values for scaling\n",
    "target_min = 0\n",
    "target_max = 12.06\n",
    "\n",
    "# Calculate the original min and max of the DC_POWER column\n",
    "dc_power_min = df_solar['DC_POWER'].min()\n",
    "dc_power_max = df_solar['DC_POWER'].max()\n",
    "\n",
    "# Apply the min-max scaling formula to scale DC_POWER between 0 and 12.06\n",
    "df_solar['DC_POWER'] = target_min + (df_solar['DC_POWER'] - dc_power_min) * (target_max - target_min) / (dc_power_max - dc_power_min)"
   ]
  },
  {
   "cell_type": "code",
   "execution_count": 16,
   "id": "c15bce0b",
   "metadata": {
    "execution": {
     "iopub.execute_input": "2024-10-10T17:48:57.194779Z",
     "iopub.status.busy": "2024-10-10T17:48:57.194333Z",
     "iopub.status.idle": "2024-10-10T17:48:57.242710Z",
     "shell.execute_reply": "2024-10-10T17:48:57.241647Z"
    },
    "papermill": {
     "duration": 0.062468,
     "end_time": "2024-10-10T17:48:57.244809",
     "exception": false,
     "start_time": "2024-10-10T17:48:57.182341",
     "status": "completed"
    },
    "tags": []
   },
   "outputs": [
    {
     "name": "stdout",
     "output_type": "stream",
     "text": [
      "Updated DataFrame with Anomaly Column:\n",
      "                DATE_TIME       SOURCE_KEY  DC_POWER  AC_POWER  DAILY_YIELD  \\\n",
      "510   2020-05-15 06:00:00  1BY6WEcLGh8j5v7  0.023676  3.585714     0.000000   \n",
      "511   2020-05-15 06:00:00  1IF53ai7Xc0U56Y  0.037316  5.162500     0.000000   \n",
      "512   2020-05-15 06:00:00  3PZuoBAID5Wc2HD  0.041069  5.585714     0.000000   \n",
      "513   2020-05-15 06:00:00  7JYdWkrLSPkdwr4  0.041426  5.628571     0.000000   \n",
      "514   2020-05-15 06:00:00  McdE0feGgRqW7Ca  0.038046  5.250000     0.000000   \n",
      "...                   ...              ...       ...       ...          ...   \n",
      "68307 2020-06-17 18:30:00  uHbuxQJl8lW7ozc  0.058581  7.614286  5966.142857   \n",
      "68308 2020-06-17 18:30:00  wCURE6d3bPkepu2  0.055841  7.300000  5882.714286   \n",
      "68309 2020-06-17 18:30:00  z9Y9gH1T5YWrNuG  0.057270  7.471429  5818.428571   \n",
      "68310 2020-06-17 18:30:00  zBIq5rxdHJRwDNY  0.055126  7.228571  5816.142857   \n",
      "68311 2020-06-17 18:30:00  zVJPv84UY57bAof  0.057508  7.485714  5909.142857   \n",
      "\n",
      "       TOTAL_YIELD  AMBIENT_TEMPERATURE  MODULE_TEMPERATURE  IRRADIATION  \\\n",
      "510    6259559.000            24.088446           22.206757     0.005887   \n",
      "511    6183645.000            24.088446           22.206757     0.005887   \n",
      "512    6987759.000            24.088446           22.206757     0.005887   \n",
      "513    7602960.000            24.088446           22.206757     0.005887   \n",
      "514    7158964.000            24.088446           22.206757     0.005887   \n",
      "...            ...                  ...                 ...          ...   \n",
      "68307  7287001.143            23.840239           22.968658     0.007007   \n",
      "68308  7028600.714            23.840239           22.968658     0.007007   \n",
      "68309  7251203.429            23.840239           22.968658     0.007007   \n",
      "68310  6583368.143            23.840239           22.968658     0.007007   \n",
      "68311  7363271.143            23.840239           22.968658     0.007007   \n",
      "\n",
      "             DATE      TIME  DAY  MONTH HOURS  MINUTES  TOTAL MINUTES PASS  \\\n",
      "510    2020-05-15  06:00:00   15      5     6        0                 360   \n",
      "511    2020-05-15  06:00:00   15      5     6        0                 360   \n",
      "512    2020-05-15  06:00:00   15      5     6        0                 360   \n",
      "513    2020-05-15  06:00:00   15      5     6        0                 360   \n",
      "514    2020-05-15  06:00:00   15      5     6        0                 360   \n",
      "...           ...       ...  ...    ...   ...      ...                 ...   \n",
      "68307  2020-06-17  18:30:00   17      6    18       30                1110   \n",
      "68308  2020-06-17  18:30:00   17      6    18       30                1110   \n",
      "68309  2020-06-17  18:30:00   17      6    18       30                1110   \n",
      "68310  2020-06-17  18:30:00   17      6    18       30                1110   \n",
      "68311  2020-06-17  18:30:00   17      6    18       30                1110   \n",
      "\n",
      "      DATE_STRING  SOURCE_KEY_NUMBER  anomaly  \n",
      "510    2020-05-15                  0        1  \n",
      "511    2020-05-15                  1        1  \n",
      "512    2020-05-15                  2        1  \n",
      "513    2020-05-15                  3        1  \n",
      "514    2020-05-15                  4        1  \n",
      "...           ...                ...      ...  \n",
      "68307  2020-06-17                 17        1  \n",
      "68308  2020-06-17                 18        1  \n",
      "68309  2020-06-17                 19        1  \n",
      "68310  2020-06-17                 20        1  \n",
      "68311  2020-06-17                 21        1  \n",
      "\n",
      "[36823 rows x 19 columns]\n"
     ]
    },
    {
     "data": {
      "text/html": [
       "<style type=\"text/css\">\n",
       "#T_ba62a_row0_col2, #T_ba62a_row0_col3 {\n",
       "  background-color: #926dff;\n",
       "  color: #f1f1f1;\n",
       "}\n",
       "#T_ba62a_row0_col4, #T_ba62a_row0_col6, #T_ba62a_row0_col11, #T_ba62a_row0_col14, #T_ba62a_row0_col15, #T_ba62a_row0_col18, #T_ba62a_row1_col2, #T_ba62a_row1_col3, #T_ba62a_row1_col7, #T_ba62a_row1_col8, #T_ba62a_row1_col12, #T_ba62a_row1_col17, #T_ba62a_row1_col18, #T_ba62a_row2_col12, #T_ba62a_row2_col18, #T_ba62a_row3_col5, #T_ba62a_row3_col11, #T_ba62a_row3_col14, #T_ba62a_row3_col18, #T_ba62a_row4_col18 {\n",
       "  background-color: #00ffff;\n",
       "  color: #000000;\n",
       "}\n",
       "#T_ba62a_row0_col5, #T_ba62a_row0_col12, #T_ba62a_row1_col4, #T_ba62a_row1_col6, #T_ba62a_row1_col11, #T_ba62a_row1_col15, #T_ba62a_row2_col7, #T_ba62a_row2_col11, #T_ba62a_row3_col2, #T_ba62a_row3_col3, #T_ba62a_row3_col8, #T_ba62a_row3_col12, #T_ba62a_row3_col17, #T_ba62a_row4_col12, #T_ba62a_row4_col14 {\n",
       "  background-color: #ff00ff;\n",
       "  color: #f1f1f1;\n",
       "}\n",
       "#T_ba62a_row0_col7 {\n",
       "  background-color: #629dff;\n",
       "  color: #f1f1f1;\n",
       "}\n",
       "#T_ba62a_row0_col8 {\n",
       "  background-color: #8778ff;\n",
       "  color: #f1f1f1;\n",
       "}\n",
       "#T_ba62a_row0_col17 {\n",
       "  background-color: #c03fff;\n",
       "  color: #f1f1f1;\n",
       "}\n",
       "#T_ba62a_row1_col5 {\n",
       "  background-color: #da25ff;\n",
       "  color: #f1f1f1;\n",
       "}\n",
       "#T_ba62a_row1_col14, #T_ba62a_row2_col14, #T_ba62a_row2_col17, #T_ba62a_row4_col17 {\n",
       "  background-color: #807fff;\n",
       "  color: #f1f1f1;\n",
       "}\n",
       "#T_ba62a_row2_col2, #T_ba62a_row2_col3 {\n",
       "  background-color: #e916ff;\n",
       "  color: #f1f1f1;\n",
       "}\n",
       "#T_ba62a_row2_col4 {\n",
       "  background-color: #8b74ff;\n",
       "  color: #f1f1f1;\n",
       "}\n",
       "#T_ba62a_row2_col5 {\n",
       "  background-color: #7f80ff;\n",
       "  color: #f1f1f1;\n",
       "}\n",
       "#T_ba62a_row2_col6 {\n",
       "  background-color: #cf30ff;\n",
       "  color: #f1f1f1;\n",
       "}\n",
       "#T_ba62a_row2_col8 {\n",
       "  background-color: #e31cff;\n",
       "  color: #f1f1f1;\n",
       "}\n",
       "#T_ba62a_row2_col15 {\n",
       "  background-color: #916eff;\n",
       "  color: #f1f1f1;\n",
       "}\n",
       "#T_ba62a_row3_col4 {\n",
       "  background-color: #3fc0ff;\n",
       "  color: #000000;\n",
       "}\n",
       "#T_ba62a_row3_col6, #T_ba62a_row4_col3 {\n",
       "  background-color: #7b84ff;\n",
       "  color: #f1f1f1;\n",
       "}\n",
       "#T_ba62a_row3_col7 {\n",
       "  background-color: #c43bff;\n",
       "  color: #f1f1f1;\n",
       "}\n",
       "#T_ba62a_row3_col15 {\n",
       "  background-color: #37c8ff;\n",
       "  color: #000000;\n",
       "}\n",
       "#T_ba62a_row4_col2 {\n",
       "  background-color: #7a85ff;\n",
       "  color: #f1f1f1;\n",
       "}\n",
       "#T_ba62a_row4_col4 {\n",
       "  background-color: #2fd0ff;\n",
       "  color: #000000;\n",
       "}\n",
       "#T_ba62a_row4_col5 {\n",
       "  background-color: #af50ff;\n",
       "  color: #f1f1f1;\n",
       "}\n",
       "#T_ba62a_row4_col6 {\n",
       "  background-color: #40bfff;\n",
       "  color: #000000;\n",
       "}\n",
       "#T_ba62a_row4_col7 {\n",
       "  background-color: #6897ff;\n",
       "  color: #f1f1f1;\n",
       "}\n",
       "#T_ba62a_row4_col8 {\n",
       "  background-color: #6e91ff;\n",
       "  color: #f1f1f1;\n",
       "}\n",
       "#T_ba62a_row4_col11 {\n",
       "  background-color: #22ddff;\n",
       "  color: #000000;\n",
       "}\n",
       "#T_ba62a_row4_col15 {\n",
       "  background-color: #45baff;\n",
       "  color: #000000;\n",
       "}\n",
       "</style>\n",
       "<table id=\"T_ba62a\">\n",
       "  <thead>\n",
       "    <tr>\n",
       "      <th class=\"blank level0\" >&nbsp;</th>\n",
       "      <th id=\"T_ba62a_level0_col0\" class=\"col_heading level0 col0\" >DATE_TIME</th>\n",
       "      <th id=\"T_ba62a_level0_col1\" class=\"col_heading level0 col1\" >SOURCE_KEY</th>\n",
       "      <th id=\"T_ba62a_level0_col2\" class=\"col_heading level0 col2\" >DC_POWER</th>\n",
       "      <th id=\"T_ba62a_level0_col3\" class=\"col_heading level0 col3\" >AC_POWER</th>\n",
       "      <th id=\"T_ba62a_level0_col4\" class=\"col_heading level0 col4\" >DAILY_YIELD</th>\n",
       "      <th id=\"T_ba62a_level0_col5\" class=\"col_heading level0 col5\" >TOTAL_YIELD</th>\n",
       "      <th id=\"T_ba62a_level0_col6\" class=\"col_heading level0 col6\" >AMBIENT_TEMPERATURE</th>\n",
       "      <th id=\"T_ba62a_level0_col7\" class=\"col_heading level0 col7\" >MODULE_TEMPERATURE</th>\n",
       "      <th id=\"T_ba62a_level0_col8\" class=\"col_heading level0 col8\" >IRRADIATION</th>\n",
       "      <th id=\"T_ba62a_level0_col9\" class=\"col_heading level0 col9\" >DATE</th>\n",
       "      <th id=\"T_ba62a_level0_col10\" class=\"col_heading level0 col10\" >TIME</th>\n",
       "      <th id=\"T_ba62a_level0_col11\" class=\"col_heading level0 col11\" >DAY</th>\n",
       "      <th id=\"T_ba62a_level0_col12\" class=\"col_heading level0 col12\" >MONTH</th>\n",
       "      <th id=\"T_ba62a_level0_col13\" class=\"col_heading level0 col13\" >HOURS</th>\n",
       "      <th id=\"T_ba62a_level0_col14\" class=\"col_heading level0 col14\" >MINUTES</th>\n",
       "      <th id=\"T_ba62a_level0_col15\" class=\"col_heading level0 col15\" >TOTAL MINUTES PASS</th>\n",
       "      <th id=\"T_ba62a_level0_col16\" class=\"col_heading level0 col16\" >DATE_STRING</th>\n",
       "      <th id=\"T_ba62a_level0_col17\" class=\"col_heading level0 col17\" >SOURCE_KEY_NUMBER</th>\n",
       "      <th id=\"T_ba62a_level0_col18\" class=\"col_heading level0 col18\" >anomaly</th>\n",
       "    </tr>\n",
       "  </thead>\n",
       "  <tbody>\n",
       "    <tr>\n",
       "      <th id=\"T_ba62a_level0_row0\" class=\"row_heading level0 row0\" >63227</th>\n",
       "      <td id=\"T_ba62a_row0_col0\" class=\"data row0 col0\" >2020-06-15 08:15:00</td>\n",
       "      <td id=\"T_ba62a_row0_col1\" class=\"data row0 col1\" >z9Y9gH1T5YWrNuG</td>\n",
       "      <td id=\"T_ba62a_row0_col2\" class=\"data row0 col2\" >6.408995</td>\n",
       "      <td id=\"T_ba62a_row0_col3\" class=\"data row0 col3\" >753.257143</td>\n",
       "      <td id=\"T_ba62a_row0_col4\" class=\"data row0 col4\" >557.857143</td>\n",
       "      <td id=\"T_ba62a_row0_col5\" class=\"data row0 col5\" >7233025.857000</td>\n",
       "      <td id=\"T_ba62a_row0_col6\" class=\"data row0 col6\" >25.257212</td>\n",
       "      <td id=\"T_ba62a_row0_col7\" class=\"data row0 col7\" >40.661761</td>\n",
       "      <td id=\"T_ba62a_row0_col8\" class=\"data row0 col8\" >0.536358</td>\n",
       "      <td id=\"T_ba62a_row0_col9\" class=\"data row0 col9\" >2020-06-15</td>\n",
       "      <td id=\"T_ba62a_row0_col10\" class=\"data row0 col10\" >08:15:00</td>\n",
       "      <td id=\"T_ba62a_row0_col11\" class=\"data row0 col11\" >15</td>\n",
       "      <td id=\"T_ba62a_row0_col12\" class=\"data row0 col12\" >6</td>\n",
       "      <td id=\"T_ba62a_row0_col13\" class=\"data row0 col13\" >8</td>\n",
       "      <td id=\"T_ba62a_row0_col14\" class=\"data row0 col14\" >15</td>\n",
       "      <td id=\"T_ba62a_row0_col15\" class=\"data row0 col15\" >495</td>\n",
       "      <td id=\"T_ba62a_row0_col16\" class=\"data row0 col16\" >2020-06-15</td>\n",
       "      <td id=\"T_ba62a_row0_col17\" class=\"data row0 col17\" >19</td>\n",
       "      <td id=\"T_ba62a_row0_col18\" class=\"data row0 col18\" >0</td>\n",
       "    </tr>\n",
       "    <tr>\n",
       "      <th id=\"T_ba62a_level0_row1\" class=\"row_heading level0 row1\" >30450</th>\n",
       "      <td id=\"T_ba62a_row1_col0\" class=\"data row1 col0\" >2020-05-30 17:30:00</td>\n",
       "      <td id=\"T_ba62a_row1_col1\" class=\"data row1 col1\" >sjndEbLyjtCKgGv</td>\n",
       "      <td id=\"T_ba62a_row1_col2\" class=\"data row1 col2\" >1.547904</td>\n",
       "      <td id=\"T_ba62a_row1_col3\" class=\"data row1 col3\" >182.825000</td>\n",
       "      <td id=\"T_ba62a_row1_col4\" class=\"data row1 col4\" >7151.375000</td>\n",
       "      <td id=\"T_ba62a_row1_col5\" class=\"data row1 col5\" >7136180.375000</td>\n",
       "      <td id=\"T_ba62a_row1_col6\" class=\"data row1 col6\" >30.037693</td>\n",
       "      <td id=\"T_ba62a_row1_col7\" class=\"data row1 col7\" >32.640356</td>\n",
       "      <td id=\"T_ba62a_row1_col8\" class=\"data row1 col8\" >0.141014</td>\n",
       "      <td id=\"T_ba62a_row1_col9\" class=\"data row1 col9\" >2020-05-30</td>\n",
       "      <td id=\"T_ba62a_row1_col10\" class=\"data row1 col10\" >17:30:00</td>\n",
       "      <td id=\"T_ba62a_row1_col11\" class=\"data row1 col11\" >30</td>\n",
       "      <td id=\"T_ba62a_row1_col12\" class=\"data row1 col12\" >5</td>\n",
       "      <td id=\"T_ba62a_row1_col13\" class=\"data row1 col13\" >17</td>\n",
       "      <td id=\"T_ba62a_row1_col14\" class=\"data row1 col14\" >30</td>\n",
       "      <td id=\"T_ba62a_row1_col15\" class=\"data row1 col15\" >1050</td>\n",
       "      <td id=\"T_ba62a_row1_col16\" class=\"data row1 col16\" >2020-05-30</td>\n",
       "      <td id=\"T_ba62a_row1_col17\" class=\"data row1 col17\" >16</td>\n",
       "      <td id=\"T_ba62a_row1_col18\" class=\"data row1 col18\" >0</td>\n",
       "    </tr>\n",
       "    <tr>\n",
       "      <th id=\"T_ba62a_level0_row2\" class=\"row_heading level0 row2\" >30100</th>\n",
       "      <td id=\"T_ba62a_row2_col0\" class=\"data row2 col0\" >2020-05-30 13:30:00</td>\n",
       "      <td id=\"T_ba62a_row2_col1\" class=\"data row2 col1\" >wCURE6d3bPkepu2</td>\n",
       "      <td id=\"T_ba62a_row2_col2\" class=\"data row2 col2\" >9.295870</td>\n",
       "      <td id=\"T_ba62a_row2_col3\" class=\"data row2 col3\" >1089.137500</td>\n",
       "      <td id=\"T_ba62a_row2_col4\" class=\"data row2 col4\" >4162.875000</td>\n",
       "      <td id=\"T_ba62a_row2_col5\" class=\"data row2 col5\" >6900042.875000</td>\n",
       "      <td id=\"T_ba62a_row2_col6\" class=\"data row2 col6\" >29.138918</td>\n",
       "      <td id=\"T_ba62a_row2_col7\" class=\"data row2 col7\" >53.387913</td>\n",
       "      <td id=\"T_ba62a_row2_col8\" class=\"data row2 col8\" >0.805624</td>\n",
       "      <td id=\"T_ba62a_row2_col9\" class=\"data row2 col9\" >2020-05-30</td>\n",
       "      <td id=\"T_ba62a_row2_col10\" class=\"data row2 col10\" >13:30:00</td>\n",
       "      <td id=\"T_ba62a_row2_col11\" class=\"data row2 col11\" >30</td>\n",
       "      <td id=\"T_ba62a_row2_col12\" class=\"data row2 col12\" >5</td>\n",
       "      <td id=\"T_ba62a_row2_col13\" class=\"data row2 col13\" >13</td>\n",
       "      <td id=\"T_ba62a_row2_col14\" class=\"data row2 col14\" >30</td>\n",
       "      <td id=\"T_ba62a_row2_col15\" class=\"data row2 col15\" >810</td>\n",
       "      <td id=\"T_ba62a_row2_col16\" class=\"data row2 col16\" >2020-05-30</td>\n",
       "      <td id=\"T_ba62a_row2_col17\" class=\"data row2 col17\" >18</td>\n",
       "      <td id=\"T_ba62a_row2_col18\" class=\"data row2 col18\" >0</td>\n",
       "    </tr>\n",
       "    <tr>\n",
       "      <th id=\"T_ba62a_level0_row3\" class=\"row_heading level0 row3\" >63404</th>\n",
       "      <td id=\"T_ba62a_row3_col0\" class=\"data row3 col0\" >2020-06-15 10:15:00</td>\n",
       "      <td id=\"T_ba62a_row3_col1\" class=\"data row3 col1\" >zBIq5rxdHJRwDNY</td>\n",
       "      <td id=\"T_ba62a_row3_col2\" class=\"data row3 col2\" >10.057493</td>\n",
       "      <td id=\"T_ba62a_row3_col3\" class=\"data row3 col3\" >1177.114286</td>\n",
       "      <td id=\"T_ba62a_row3_col4\" class=\"data row3 col4\" >2181.571429</td>\n",
       "      <td id=\"T_ba62a_row3_col5\" class=\"data row3 col5\" >6567318.571000</td>\n",
       "      <td id=\"T_ba62a_row3_col6\" class=\"data row3 col6\" >27.559886</td>\n",
       "      <td id=\"T_ba62a_row3_col7\" class=\"data row3 col7\" >48.580129</td>\n",
       "      <td id=\"T_ba62a_row3_col8\" class=\"data row3 col8\" >0.888736</td>\n",
       "      <td id=\"T_ba62a_row3_col9\" class=\"data row3 col9\" >2020-06-15</td>\n",
       "      <td id=\"T_ba62a_row3_col10\" class=\"data row3 col10\" >10:15:00</td>\n",
       "      <td id=\"T_ba62a_row3_col11\" class=\"data row3 col11\" >15</td>\n",
       "      <td id=\"T_ba62a_row3_col12\" class=\"data row3 col12\" >6</td>\n",
       "      <td id=\"T_ba62a_row3_col13\" class=\"data row3 col13\" >10</td>\n",
       "      <td id=\"T_ba62a_row3_col14\" class=\"data row3 col14\" >15</td>\n",
       "      <td id=\"T_ba62a_row3_col15\" class=\"data row3 col15\" >615</td>\n",
       "      <td id=\"T_ba62a_row3_col16\" class=\"data row3 col16\" >2020-06-15</td>\n",
       "      <td id=\"T_ba62a_row3_col17\" class=\"data row3 col17\" >20</td>\n",
       "      <td id=\"T_ba62a_row3_col18\" class=\"data row3 col18\" >0</td>\n",
       "    </tr>\n",
       "    <tr>\n",
       "      <th id=\"T_ba62a_level0_row4\" class=\"row_heading level0 row4\" >67626</th>\n",
       "      <td id=\"T_ba62a_row4_col0\" class=\"data row4 col0\" >2020-06-17 10:45:00</td>\n",
       "      <td id=\"T_ba62a_row4_col1\" class=\"data row4 col1\" >wCURE6d3bPkepu2</td>\n",
       "      <td id=\"T_ba62a_row4_col2\" class=\"data row4 col2\" >5.622489</td>\n",
       "      <td id=\"T_ba62a_row4_col3\" class=\"data row4 col3\" >661.250000</td>\n",
       "      <td id=\"T_ba62a_row4_col4\" class=\"data row4 col4\" >1784.000000</td>\n",
       "      <td id=\"T_ba62a_row4_col5\" class=\"data row4 col5\" >7024502.000000</td>\n",
       "      <td id=\"T_ba62a_row4_col6\" class=\"data row4 col6\" >26.470134</td>\n",
       "      <td id=\"T_ba62a_row4_col7\" class=\"data row4 col7\" >41.115753</td>\n",
       "      <td id=\"T_ba62a_row4_col8\" class=\"data row4 col8\" >0.464914</td>\n",
       "      <td id=\"T_ba62a_row4_col9\" class=\"data row4 col9\" >2020-06-17</td>\n",
       "      <td id=\"T_ba62a_row4_col10\" class=\"data row4 col10\" >10:45:00</td>\n",
       "      <td id=\"T_ba62a_row4_col11\" class=\"data row4 col11\" >17</td>\n",
       "      <td id=\"T_ba62a_row4_col12\" class=\"data row4 col12\" >6</td>\n",
       "      <td id=\"T_ba62a_row4_col13\" class=\"data row4 col13\" >10</td>\n",
       "      <td id=\"T_ba62a_row4_col14\" class=\"data row4 col14\" >45</td>\n",
       "      <td id=\"T_ba62a_row4_col15\" class=\"data row4 col15\" >645</td>\n",
       "      <td id=\"T_ba62a_row4_col16\" class=\"data row4 col16\" >2020-06-17</td>\n",
       "      <td id=\"T_ba62a_row4_col17\" class=\"data row4 col17\" >18</td>\n",
       "      <td id=\"T_ba62a_row4_col18\" class=\"data row4 col18\" >0</td>\n",
       "    </tr>\n",
       "  </tbody>\n",
       "</table>\n"
      ],
      "text/plain": [
       "<pandas.io.formats.style.Styler at 0x7f88dd17c430>"
      ]
     },
     "execution_count": 16,
     "metadata": {},
     "output_type": "execute_result"
    }
   ],
   "source": [
    "# Add a new column 'anomaly' with all values set to 0\n",
    "# Calculate the 5th and 95th percentiles\n",
    "lower_bound = df_solar['DC_POWER'].quantile(0.05)\n",
    "upper_bound = df_solar['DC_POWER'].quantile(0.95)\n",
    "\n",
    "# Create the anomaly column\n",
    "df_solar['anomaly'] = 0  # Initialize with 0\n",
    "df_solar.loc[(df_solar['DC_POWER'] > upper_bound) | (df_solar['DC_POWER'] < lower_bound), 'anomaly'] = 1\n",
    "\n",
    "# Display the updated DataFrame\n",
    "print(\"Updated DataFrame with Anomaly Column:\")\n",
    "print(df_solar)\n",
    "\n",
    "# Display the DataFrame with the new column\n",
    "df_solar.sample(5).style.background_gradient(cmap='cool')"
   ]
  },
  {
   "cell_type": "code",
   "execution_count": 17,
   "id": "5765f205",
   "metadata": {
    "execution": {
     "iopub.execute_input": "2024-10-10T17:48:57.269183Z",
     "iopub.status.busy": "2024-10-10T17:48:57.268784Z",
     "iopub.status.idle": "2024-10-10T17:48:57.276569Z",
     "shell.execute_reply": "2024-10-10T17:48:57.275512Z"
    },
    "papermill": {
     "duration": 0.022521,
     "end_time": "2024-10-10T17:48:57.278743",
     "exception": false,
     "start_time": "2024-10-10T17:48:57.256222",
     "status": "completed"
    },
    "tags": []
   },
   "outputs": [
    {
     "data": {
      "text/plain": [
       "array([1, 0])"
      ]
     },
     "execution_count": 17,
     "metadata": {},
     "output_type": "execute_result"
    }
   ],
   "source": [
    "df_solar['anomaly'].unique()"
   ]
  },
  {
   "cell_type": "code",
   "execution_count": 18,
   "id": "4a15bada",
   "metadata": {
    "execution": {
     "iopub.execute_input": "2024-10-10T17:48:57.303507Z",
     "iopub.status.busy": "2024-10-10T17:48:57.302737Z",
     "iopub.status.idle": "2024-10-10T17:48:57.533797Z",
     "shell.execute_reply": "2024-10-10T17:48:57.532662Z"
    },
    "papermill": {
     "duration": 0.245949,
     "end_time": "2024-10-10T17:48:57.536056",
     "exception": false,
     "start_time": "2024-10-10T17:48:57.290107",
     "status": "completed"
    },
    "tags": []
   },
   "outputs": [
    {
     "data": {
      "image/png": "[encoded data removed]",
      "text/plain": [
       "<Figure size 1000x600 with 1 Axes>"
      ]
     },
     "metadata": {},
     "output_type": "display_data"
    }
   ],
   "source": [
    "# Create a bar graph using countplot\n",
    "plt.figure(figsize=(10, 6))\n",
    "sns.countplot(data=df_solar, x=\"anomaly\", color=\"red\", palette=[\"#3F7F7F\"])\n",
    "\n",
    "# Customize plot appearance\n",
    "plt.title(\"Anomaly Count in Solar Data\")\n",
    "plt.xlabel(\"Anomaly (0 = No Anomaly, 1 = Anomaly)\")\n",
    "plt.ylabel(\"Count\")\n",
    "\n",
    "# Show the plot\n",
    "plt.show()"
   ]
  },
  {
   "cell_type": "code",
   "execution_count": 19,
   "id": "24478841",
   "metadata": {
    "execution": {
     "iopub.execute_input": "2024-10-10T17:48:57.561323Z",
     "iopub.status.busy": "2024-10-10T17:48:57.560875Z",
     "iopub.status.idle": "2024-10-10T17:48:58.291642Z",
     "shell.execute_reply": "2024-10-10T17:48:58.290449Z"
    },
    "papermill": {
     "duration": 0.746145,
     "end_time": "2024-10-10T17:48:58.293974",
     "exception": false,
     "start_time": "2024-10-10T17:48:57.547829",
     "status": "completed"
    },
    "tags": []
   },
   "outputs": [
    {
     "name": "stderr",
     "output_type": "stream",
     "text": [
      "/opt/conda/lib/python3.10/site-packages/seaborn/_oldcore.py:1119: FutureWarning: use_inf_as_na option is deprecated and will be removed in a future version. Convert inf values to NaN before operating instead.\n",
      "  with pd.option_context('mode.use_inf_as_na', True):\n"
     ]
    },
    {
     "data": {
      "image/png": "[encoded data removed]",
      "text/plain": [
       "<Figure size 1750x500 with 1 Axes>"
      ]
     },
     "metadata": {},
     "output_type": "display_data"
    }
   ],
   "source": [
    "sns.displot(data=df_solar, x=\"DC_POWER\", kde=True, bins = 100,color = \"red\", facecolor = \"#3F7F7F\",height = 5, aspect = 3.5);"
   ]
  },
  {
   "cell_type": "code",
   "execution_count": 20,
   "id": "18ba52a6",
   "metadata": {
    "execution": {
     "iopub.execute_input": "2024-10-10T17:48:58.320887Z",
     "iopub.status.busy": "2024-10-10T17:48:58.320303Z",
     "iopub.status.idle": "2024-10-10T17:48:58.642719Z",
     "shell.execute_reply": "2024-10-10T17:48:58.641690Z"
    },
    "papermill": {
     "duration": 0.338921,
     "end_time": "2024-10-10T17:48:58.645462",
     "exception": false,
     "start_time": "2024-10-10T17:48:58.306541",
     "status": "completed"
    },
    "tags": []
   },
   "outputs": [
    {
     "data": {
      "image/png": "[encoded data removed]",
      "text/plain": [
       "<Figure size 1000x600 with 1 Axes>"
      ]
     },
     "metadata": {},
     "output_type": "display_data"
    }
   ],
   "source": [
    "# Filter the DataFrame for the specific day (May 15, 2020)\n",
    "specific_day = df_solar[(df_solar['DATE_TIME'] >= '2020-05-15') & (df_solar['DATE_TIME'] < '2020-05-16')]\n",
    "\n",
    "# Plotting DATE_TIME vs DC_POWER for May 15, 2020\n",
    "plt.figure(figsize=(10, 6))  # Set figure size\n",
    "plt.plot(specific_day['DATE_TIME'], specific_day['DC_POWER'], label='DC Power', color='blue')\n",
    "\n",
    "# Adding labels and title\n",
    "plt.xlabel('Date Time')\n",
    "plt.ylabel('DC Power')\n",
    "plt.title('DC Power on 2020-05-15')\n",
    "\n",
    "# Rotating x-axis labels for better readability\n",
    "plt.xticks(rotation=45)\n",
    "\n",
    "# Displaying the legend\n",
    "plt.legend()\n",
    "\n",
    "# Show the plot\n",
    "plt.tight_layout()  # Adjust layout to prevent clipping of labels\n",
    "plt.show()"
   ]
  },
  {
   "cell_type": "code",
   "execution_count": 21,
   "id": "acd76919",
   "metadata": {
    "execution": {
     "iopub.execute_input": "2024-10-10T17:48:58.673843Z",
     "iopub.status.busy": "2024-10-10T17:48:58.673411Z",
     "iopub.status.idle": "2024-10-10T17:48:59.246565Z",
     "shell.execute_reply": "2024-10-10T17:48:59.245440Z"
    },
    "papermill": {
     "duration": 0.590162,
     "end_time": "2024-10-10T17:48:59.249222",
     "exception": false,
     "start_time": "2024-10-10T17:48:58.659060",
     "status": "completed"
    },
    "tags": []
   },
   "outputs": [],
   "source": [
    "# Save the DataFrame to a CSV file\n",
    "df_solar.to_csv('df_solar_data.csv', index=False)  # index=False to avoid saving the index column\n"
   ]
  },
  {
   "cell_type": "code",
   "execution_count": 22,
   "id": "f1d5ed36",
   "metadata": {
    "execution": {
     "iopub.execute_input": "2024-10-10T17:48:59.278433Z",
     "iopub.status.busy": "2024-10-10T17:48:59.278003Z",
     "iopub.status.idle": "2024-10-10T17:48:59.287328Z",
     "shell.execute_reply": "2024-10-10T17:48:59.286251Z"
    },
    "papermill": {
     "duration": 0.027582,
     "end_time": "2024-10-10T17:48:59.290094",
     "exception": false,
     "start_time": "2024-10-10T17:48:59.262512",
     "status": "completed"
    },
    "tags": []
   },
   "outputs": [
    {
     "data": {
      "text/plain": [
       "34"
      ]
     },
     "execution_count": 22,
     "metadata": {},
     "output_type": "execute_result"
    }
   ],
   "source": [
    "df_solar['DATE'].nunique()"
   ]
  },
  {
   "cell_type": "code",
   "execution_count": 23,
   "id": "80597177",
   "metadata": {
    "execution": {
     "iopub.execute_input": "2024-10-10T17:48:59.319131Z",
     "iopub.status.busy": "2024-10-10T17:48:59.317966Z",
     "iopub.status.idle": "2024-10-10T17:48:59.387554Z",
     "shell.execute_reply": "2024-10-10T17:48:59.386399Z"
    },
    "papermill": {
     "duration": 0.086593,
     "end_time": "2024-10-10T17:48:59.389904",
     "exception": false,
     "start_time": "2024-10-10T17:48:59.303311",
     "status": "completed"
    },
    "tags": []
   },
   "outputs": [
    {
     "data": {
      "text/html": [
       "<style type=\"text/css\">\n",
       "#T_6e05a_row0_col1, #T_6e05a_row0_col2, #T_6e05a_row0_col3, #T_6e05a_row0_col5, #T_6e05a_row0_col6, #T_6e05a_row0_col7, #T_6e05a_row0_col8, #T_6e05a_row0_col9, #T_6e05a_row0_col10, #T_6e05a_row0_col11, #T_6e05a_row0_col12, #T_6e05a_row0_col13, #T_6e05a_row6_col4 {\n",
       "  background-color: #ff0000;\n",
       "  color: #f1f1f1;\n",
       "}\n",
       "#T_6e05a_row0_col4, #T_6e05a_row1_col1, #T_6e05a_row1_col5, #T_6e05a_row1_col6, #T_6e05a_row1_col7, #T_6e05a_row1_col8, #T_6e05a_row1_col9, #T_6e05a_row1_col10, #T_6e05a_row1_col12, #T_6e05a_row1_col13, #T_6e05a_row2_col1, #T_6e05a_row2_col2, #T_6e05a_row2_col3, #T_6e05a_row2_col5, #T_6e05a_row2_col6, #T_6e05a_row2_col7, #T_6e05a_row2_col8, #T_6e05a_row2_col9, #T_6e05a_row2_col10, #T_6e05a_row2_col11, #T_6e05a_row2_col12, #T_6e05a_row2_col13, #T_6e05a_row3_col1, #T_6e05a_row3_col5, #T_6e05a_row3_col6, #T_6e05a_row3_col7, #T_6e05a_row3_col8, #T_6e05a_row3_col9, #T_6e05a_row3_col10, #T_6e05a_row3_col12, #T_6e05a_row3_col13, #T_6e05a_row4_col1, #T_6e05a_row4_col5, #T_6e05a_row4_col6, #T_6e05a_row4_col7, #T_6e05a_row4_col8, #T_6e05a_row4_col9, #T_6e05a_row4_col10, #T_6e05a_row4_col12, #T_6e05a_row4_col13, #T_6e05a_row5_col1, #T_6e05a_row5_col5, #T_6e05a_row5_col6, #T_6e05a_row5_col7, #T_6e05a_row5_col8, #T_6e05a_row5_col9, #T_6e05a_row5_col10, #T_6e05a_row5_col12, #T_6e05a_row5_col13, #T_6e05a_row6_col1, #T_6e05a_row6_col5, #T_6e05a_row6_col6, #T_6e05a_row6_col7, #T_6e05a_row6_col8, #T_6e05a_row6_col9, #T_6e05a_row6_col10, #T_6e05a_row6_col12, #T_6e05a_row6_col13, #T_6e05a_row7_col1, #T_6e05a_row7_col5, #T_6e05a_row7_col6, #T_6e05a_row7_col7, #T_6e05a_row7_col8, #T_6e05a_row7_col9, #T_6e05a_row7_col10, #T_6e05a_row7_col11, #T_6e05a_row7_col12, #T_6e05a_row7_col13 {\n",
       "  background-color: #8000ff;\n",
       "  color: #f1f1f1;\n",
       "}\n",
       "#T_6e05a_row1_col2, #T_6e05a_row1_col11, #T_6e05a_row4_col11 {\n",
       "  background-color: #7a09ff;\n",
       "  color: #f1f1f1;\n",
       "}\n",
       "#T_6e05a_row1_col3 {\n",
       "  background-color: #4e4dfc;\n",
       "  color: #f1f1f1;\n",
       "}\n",
       "#T_6e05a_row1_col4 {\n",
       "  background-color: #ff562c;\n",
       "  color: #f1f1f1;\n",
       "}\n",
       "#T_6e05a_row2_col4 {\n",
       "  background-color: #ff9d53;\n",
       "  color: #000000;\n",
       "}\n",
       "#T_6e05a_row3_col2 {\n",
       "  background-color: #7e03ff;\n",
       "  color: #f1f1f1;\n",
       "}\n",
       "#T_6e05a_row3_col3, #T_6e05a_row5_col2, #T_6e05a_row6_col11 {\n",
       "  background-color: #7413ff;\n",
       "  color: #f1f1f1;\n",
       "}\n",
       "#T_6e05a_row3_col4 {\n",
       "  background-color: #ff8143;\n",
       "  color: #f1f1f1;\n",
       "}\n",
       "#T_6e05a_row3_col11, #T_6e05a_row7_col2 {\n",
       "  background-color: #7c06ff;\n",
       "  color: #f1f1f1;\n",
       "}\n",
       "#T_6e05a_row4_col2, #T_6e05a_row5_col11 {\n",
       "  background-color: #780dff;\n",
       "  color: #f1f1f1;\n",
       "}\n",
       "#T_6e05a_row4_col3 {\n",
       "  background-color: #504afc;\n",
       "  color: #f1f1f1;\n",
       "}\n",
       "#T_6e05a_row4_col4 {\n",
       "  background-color: #ff4422;\n",
       "  color: #f1f1f1;\n",
       "}\n",
       "#T_6e05a_row5_col3 {\n",
       "  background-color: #2e7bf7;\n",
       "  color: #f1f1f1;\n",
       "}\n",
       "#T_6e05a_row5_col4 {\n",
       "  background-color: #ff381c;\n",
       "  color: #f1f1f1;\n",
       "}\n",
       "#T_6e05a_row6_col2 {\n",
       "  background-color: #6e1cff;\n",
       "  color: #f1f1f1;\n",
       "}\n",
       "#T_6e05a_row6_col3 {\n",
       "  background-color: #01b3ec;\n",
       "  color: #f1f1f1;\n",
       "}\n",
       "#T_6e05a_row7_col3 {\n",
       "  background-color: #5c38fd;\n",
       "  color: #f1f1f1;\n",
       "}\n",
       "#T_6e05a_row7_col4 {\n",
       "  background-color: #6826fe;\n",
       "  color: #f1f1f1;\n",
       "}\n",
       "</style>\n",
       "<table id=\"T_6e05a\">\n",
       "  <thead>\n",
       "    <tr>\n",
       "      <th class=\"blank level0\" >&nbsp;</th>\n",
       "      <th id=\"T_6e05a_level0_col0\" class=\"col_heading level0 col0\" >DATE_TIME</th>\n",
       "      <th id=\"T_6e05a_level0_col1\" class=\"col_heading level0 col1\" >DC_POWER</th>\n",
       "      <th id=\"T_6e05a_level0_col2\" class=\"col_heading level0 col2\" >AC_POWER</th>\n",
       "      <th id=\"T_6e05a_level0_col3\" class=\"col_heading level0 col3\" >DAILY_YIELD</th>\n",
       "      <th id=\"T_6e05a_level0_col4\" class=\"col_heading level0 col4\" >TOTAL_YIELD</th>\n",
       "      <th id=\"T_6e05a_level0_col5\" class=\"col_heading level0 col5\" >AMBIENT_TEMPERATURE</th>\n",
       "      <th id=\"T_6e05a_level0_col6\" class=\"col_heading level0 col6\" >MODULE_TEMPERATURE</th>\n",
       "      <th id=\"T_6e05a_level0_col7\" class=\"col_heading level0 col7\" >IRRADIATION</th>\n",
       "      <th id=\"T_6e05a_level0_col8\" class=\"col_heading level0 col8\" >DAY</th>\n",
       "      <th id=\"T_6e05a_level0_col9\" class=\"col_heading level0 col9\" >MONTH</th>\n",
       "      <th id=\"T_6e05a_level0_col10\" class=\"col_heading level0 col10\" >MINUTES</th>\n",
       "      <th id=\"T_6e05a_level0_col11\" class=\"col_heading level0 col11\" >TOTAL MINUTES PASS</th>\n",
       "      <th id=\"T_6e05a_level0_col12\" class=\"col_heading level0 col12\" >SOURCE_KEY_NUMBER</th>\n",
       "      <th id=\"T_6e05a_level0_col13\" class=\"col_heading level0 col13\" >anomaly</th>\n",
       "    </tr>\n",
       "  </thead>\n",
       "  <tbody>\n",
       "    <tr>\n",
       "      <th id=\"T_6e05a_level0_row0\" class=\"row_heading level0 row0\" >count</th>\n",
       "      <td id=\"T_6e05a_row0_col0\" class=\"data row0 col0\" >36823</td>\n",
       "      <td id=\"T_6e05a_row0_col1\" class=\"data row0 col1\" >36823.000000</td>\n",
       "      <td id=\"T_6e05a_row0_col2\" class=\"data row0 col2\" >36823.000000</td>\n",
       "      <td id=\"T_6e05a_row0_col3\" class=\"data row0 col3\" >36823.000000</td>\n",
       "      <td id=\"T_6e05a_row0_col4\" class=\"data row0 col4\" >36823.000000</td>\n",
       "      <td id=\"T_6e05a_row0_col5\" class=\"data row0 col5\" >36823.000000</td>\n",
       "      <td id=\"T_6e05a_row0_col6\" class=\"data row0 col6\" >36823.000000</td>\n",
       "      <td id=\"T_6e05a_row0_col7\" class=\"data row0 col7\" >36823.000000</td>\n",
       "      <td id=\"T_6e05a_row0_col8\" class=\"data row0 col8\" >36823.000000</td>\n",
       "      <td id=\"T_6e05a_row0_col9\" class=\"data row0 col9\" >36823.000000</td>\n",
       "      <td id=\"T_6e05a_row0_col10\" class=\"data row0 col10\" >36823.000000</td>\n",
       "      <td id=\"T_6e05a_row0_col11\" class=\"data row0 col11\" >36823.000000</td>\n",
       "      <td id=\"T_6e05a_row0_col12\" class=\"data row0 col12\" >36823.000000</td>\n",
       "      <td id=\"T_6e05a_row0_col13\" class=\"data row0 col13\" >36823.000000</td>\n",
       "    </tr>\n",
       "    <tr>\n",
       "      <th id=\"T_6e05a_level0_row1\" class=\"row_heading level0 row1\" >mean</th>\n",
       "      <td id=\"T_6e05a_row1_col0\" class=\"data row1 col0\" >2020-06-01 05:42:34.843440384</td>\n",
       "      <td id=\"T_6e05a_row1_col1\" class=\"data row1 col1\" >4.894260</td>\n",
       "      <td id=\"T_6e05a_row1_col2\" class=\"data row1 col2\" >574.835021</td>\n",
       "      <td id=\"T_6e05a_row1_col3\" class=\"data row1 col3\" >3603.702508</td>\n",
       "      <td id=\"T_6e05a_row1_col4\" class=\"data row1 col4\" >6979050.392806</td>\n",
       "      <td id=\"T_6e05a_row1_col5\" class=\"data row1 col5\" >27.591988</td>\n",
       "      <td id=\"T_6e05a_row1_col6\" class=\"data row1 col6\" >39.739737</td>\n",
       "      <td id=\"T_6e05a_row1_col7\" class=\"data row1 col7\" >0.432532</td>\n",
       "      <td id=\"T_6e05a_row1_col8\" class=\"data row1 col8\" >15.905657</td>\n",
       "      <td id=\"T_6e05a_row1_col9\" class=\"data row1 col9\" >5.510415</td>\n",
       "      <td id=\"T_6e05a_row1_col10\" class=\"data row1 col10\" >22.162507</td>\n",
       "      <td id=\"T_6e05a_row1_col11\" class=\"data row1 col11\" >733.523341</td>\n",
       "      <td id=\"T_6e05a_row1_col12\" class=\"data row1 col12\" >10.504657</td>\n",
       "      <td id=\"T_6e05a_row1_col13\" class=\"data row1 col13\" >0.100046</td>\n",
       "    </tr>\n",
       "    <tr>\n",
       "      <th id=\"T_6e05a_level0_row2\" class=\"row_heading level0 row2\" >min</th>\n",
       "      <td id=\"T_6e05a_row2_col0\" class=\"data row2 col0\" >2020-05-15 06:00:00</td>\n",
       "      <td id=\"T_6e05a_row2_col1\" class=\"data row2 col1\" >0.000000</td>\n",
       "      <td id=\"T_6e05a_row2_col2\" class=\"data row2 col2\" >0.850000</td>\n",
       "      <td id=\"T_6e05a_row2_col3\" class=\"data row2 col3\" >0.000000</td>\n",
       "      <td id=\"T_6e05a_row2_col4\" class=\"data row2 col4\" >6183645.000000</td>\n",
       "      <td id=\"T_6e05a_row2_col5\" class=\"data row2 col5\" >20.426455</td>\n",
       "      <td id=\"T_6e05a_row2_col6\" class=\"data row2 col6\" >18.254061</td>\n",
       "      <td id=\"T_6e05a_row2_col7\" class=\"data row2 col7\" >0.001575</td>\n",
       "      <td id=\"T_6e05a_row2_col8\" class=\"data row2 col8\" >1.000000</td>\n",
       "      <td id=\"T_6e05a_row2_col9\" class=\"data row2 col9\" >5.000000</td>\n",
       "      <td id=\"T_6e05a_row2_col10\" class=\"data row2 col10\" >0.000000</td>\n",
       "      <td id=\"T_6e05a_row2_col11\" class=\"data row2 col11\" >360.000000</td>\n",
       "      <td id=\"T_6e05a_row2_col12\" class=\"data row2 col12\" >0.000000</td>\n",
       "      <td id=\"T_6e05a_row2_col13\" class=\"data row2 col13\" >0.000000</td>\n",
       "    </tr>\n",
       "    <tr>\n",
       "      <th id=\"T_6e05a_level0_row3\" class=\"row_heading level0 row3\" >25%</th>\n",
       "      <td id=\"T_6e05a_row3_col0\" class=\"data row3 col0\" >2020-05-24 06:15:00</td>\n",
       "      <td id=\"T_6e05a_row3_col1\" class=\"data row3 col1\" >1.964685</td>\n",
       "      <td id=\"T_6e05a_row3_col2\" class=\"data row3 col2\" >231.878571</td>\n",
       "      <td id=\"T_6e05a_row3_col3\" class=\"data row3 col3\" >903.875000</td>\n",
       "      <td id=\"T_6e05a_row3_col4\" class=\"data row3 col4\" >6513545.419500</td>\n",
       "      <td id=\"T_6e05a_row3_col5\" class=\"data row3 col5\" >25.260909</td>\n",
       "      <td id=\"T_6e05a_row3_col6\" class=\"data row3 col6\" >30.093761</td>\n",
       "      <td id=\"T_6e05a_row3_col7\" class=\"data row3 col7\" >0.170033</td>\n",
       "      <td id=\"T_6e05a_row3_col8\" class=\"data row3 col8\" >9.000000</td>\n",
       "      <td id=\"T_6e05a_row3_col9\" class=\"data row3 col9\" >5.000000</td>\n",
       "      <td id=\"T_6e05a_row3_col10\" class=\"data row3 col10\" >0.000000</td>\n",
       "      <td id=\"T_6e05a_row3_col11\" class=\"data row3 col11\" >540.000000</td>\n",
       "      <td id=\"T_6e05a_row3_col12\" class=\"data row3 col12\" >5.000000</td>\n",
       "      <td id=\"T_6e05a_row3_col13\" class=\"data row3 col13\" >0.000000</td>\n",
       "    </tr>\n",
       "    <tr>\n",
       "      <th id=\"T_6e05a_level0_row4\" class=\"row_heading level0 row4\" >50%</th>\n",
       "      <td id=\"T_6e05a_row4_col0\" class=\"data row4 col0\" >2020-06-01 10:15:00</td>\n",
       "      <td id=\"T_6e05a_row4_col1\" class=\"data row4 col1\" >4.970181</td>\n",
       "      <td id=\"T_6e05a_row4_col2\" class=\"data row4 col2\" >584.812500</td>\n",
       "      <td id=\"T_6e05a_row4_col3\" class=\"data row4 col3\" >3580.000000</td>\n",
       "      <td id=\"T_6e05a_row4_col4\" class=\"data row4 col4\" >7146656.714000</td>\n",
       "      <td id=\"T_6e05a_row4_col5\" class=\"data row4 col5\" >27.662699</td>\n",
       "      <td id=\"T_6e05a_row4_col6\" class=\"data row4 col6\" >40.345451</td>\n",
       "      <td id=\"T_6e05a_row4_col7\" class=\"data row4 col7\" >0.427414</td>\n",
       "      <td id=\"T_6e05a_row4_col8\" class=\"data row4 col8\" >16.000000</td>\n",
       "      <td id=\"T_6e05a_row4_col9\" class=\"data row4 col9\" >6.000000</td>\n",
       "      <td id=\"T_6e05a_row4_col10\" class=\"data row4 col10\" >15.000000</td>\n",
       "      <td id=\"T_6e05a_row4_col11\" class=\"data row4 col11\" >735.000000</td>\n",
       "      <td id=\"T_6e05a_row4_col12\" class=\"data row4 col12\" >11.000000</td>\n",
       "      <td id=\"T_6e05a_row4_col13\" class=\"data row4 col13\" >0.000000</td>\n",
       "    </tr>\n",
       "    <tr>\n",
       "      <th id=\"T_6e05a_level0_row5\" class=\"row_heading level0 row5\" >75%</th>\n",
       "      <td id=\"T_6e05a_row5_col0\" class=\"data row5 col0\" >2020-06-09 14:00:00</td>\n",
       "      <td id=\"T_6e05a_row5_col1\" class=\"data row5 col1\" >7.405312</td>\n",
       "      <td id=\"T_6e05a_row5_col2\" class=\"data row5 col2\" >869.228571</td>\n",
       "      <td id=\"T_6e05a_row5_col3\" class=\"data row5 col3\" >5909.214286</td>\n",
       "      <td id=\"T_6e05a_row5_col4\" class=\"data row5 col4\" >7268572.169500</td>\n",
       "      <td id=\"T_6e05a_row5_col5\" class=\"data row5 col5\" >29.873128</td>\n",
       "      <td id=\"T_6e05a_row5_col6\" class=\"data row5 col6\" >48.281902</td>\n",
       "      <td id=\"T_6e05a_row5_col7\" class=\"data row5 col7\" >0.653621</td>\n",
       "      <td id=\"T_6e05a_row5_col8\" class=\"data row5 col8\" >23.000000</td>\n",
       "      <td id=\"T_6e05a_row5_col9\" class=\"data row5 col9\" >6.000000</td>\n",
       "      <td id=\"T_6e05a_row5_col10\" class=\"data row5 col10\" >30.000000</td>\n",
       "      <td id=\"T_6e05a_row5_col11\" class=\"data row5 col11\" >915.000000</td>\n",
       "      <td id=\"T_6e05a_row5_col12\" class=\"data row5 col12\" >16.000000</td>\n",
       "      <td id=\"T_6e05a_row5_col13\" class=\"data row5 col13\" >0.000000</td>\n",
       "    </tr>\n",
       "    <tr>\n",
       "      <th id=\"T_6e05a_level0_row6\" class=\"row_heading level0 row6\" >max</th>\n",
       "      <td id=\"T_6e05a_row6_col0\" class=\"data row6 col0\" >2020-06-17 18:30:00</td>\n",
       "      <td id=\"T_6e05a_row6_col1\" class=\"data row6 col1\" >12.060000</td>\n",
       "      <td id=\"T_6e05a_row6_col2\" class=\"data row6 col2\" >1410.950000</td>\n",
       "      <td id=\"T_6e05a_row6_col3\" class=\"data row6 col3\" >9162.857143</td>\n",
       "      <td id=\"T_6e05a_row6_col4\" class=\"data row6 col4\" >7846821.000000</td>\n",
       "      <td id=\"T_6e05a_row6_col5\" class=\"data row6 col5\" >35.252486</td>\n",
       "      <td id=\"T_6e05a_row6_col6\" class=\"data row6 col6\" >65.545714</td>\n",
       "      <td id=\"T_6e05a_row6_col7\" class=\"data row6 col7\" >1.221652</td>\n",
       "      <td id=\"T_6e05a_row6_col8\" class=\"data row6 col8\" >31.000000</td>\n",
       "      <td id=\"T_6e05a_row6_col9\" class=\"data row6 col9\" >6.000000</td>\n",
       "      <td id=\"T_6e05a_row6_col10\" class=\"data row6 col10\" >45.000000</td>\n",
       "      <td id=\"T_6e05a_row6_col11\" class=\"data row6 col11\" >1110.000000</td>\n",
       "      <td id=\"T_6e05a_row6_col12\" class=\"data row6 col12\" >21.000000</td>\n",
       "      <td id=\"T_6e05a_row6_col13\" class=\"data row6 col13\" >1.000000</td>\n",
       "    </tr>\n",
       "    <tr>\n",
       "      <th id=\"T_6e05a_level0_row7\" class=\"row_heading level0 row7\" >std</th>\n",
       "      <td id=\"T_6e05a_row7_col0\" class=\"data row7 col0\" >nan</td>\n",
       "      <td id=\"T_6e05a_row7_col1\" class=\"data row7 col1\" >3.162029</td>\n",
       "      <td id=\"T_6e05a_row7_col2\" class=\"data row7 col2\" >370.135588</td>\n",
       "      <td id=\"T_6e05a_row7_col3\" class=\"data row7 col3\" >2692.211927</td>\n",
       "      <td id=\"T_6e05a_row7_col4\" class=\"data row7 col4\" >415968.057560</td>\n",
       "      <td id=\"T_6e05a_row7_col5\" class=\"data row7 col5\" >3.182527</td>\n",
       "      <td id=\"T_6e05a_row7_col6\" class=\"data row7 col6\" >11.138493</td>\n",
       "      <td id=\"T_6e05a_row7_col7\" class=\"data row7 col7\" >0.287976</td>\n",
       "      <td id=\"T_6e05a_row7_col8\" class=\"data row7 col8\" >8.622227</td>\n",
       "      <td id=\"T_6e05a_row7_col9\" class=\"data row7 col9\" >0.499898</td>\n",
       "      <td id=\"T_6e05a_row7_col10\" class=\"data row7 col10\" >16.668472</td>\n",
       "      <td id=\"T_6e05a_row7_col11\" class=\"data row7 col11\" >217.270330</td>\n",
       "      <td id=\"T_6e05a_row7_col12\" class=\"data row7 col12\" >6.341680</td>\n",
       "      <td id=\"T_6e05a_row7_col13\" class=\"data row7 col13\" >0.300066</td>\n",
       "    </tr>\n",
       "  </tbody>\n",
       "</table>\n"
      ],
      "text/plain": [
       "<pandas.io.formats.style.Styler at 0x7f88cb65a590>"
      ]
     },
     "execution_count": 23,
     "metadata": {},
     "output_type": "execute_result"
    }
   ],
   "source": [
    "df_solar.describe().style.background_gradient(cmap='rainbow')\n"
   ]
  },
  {
   "cell_type": "code",
   "execution_count": 24,
   "id": "19ce1e6b",
   "metadata": {
    "execution": {
     "iopub.execute_input": "2024-10-10T17:48:59.420085Z",
     "iopub.status.busy": "2024-10-10T17:48:59.418881Z",
     "iopub.status.idle": "2024-10-10T17:49:00.212881Z",
     "shell.execute_reply": "2024-10-10T17:49:00.211699Z"
    },
    "papermill": {
     "duration": 0.813208,
     "end_time": "2024-10-10T17:49:00.216793",
     "exception": false,
     "start_time": "2024-10-10T17:48:59.403585",
     "status": "completed"
    },
    "tags": []
   },
   "outputs": [
    {
     "data": {
      "image/png": "[encoded data removed]",
      "text/plain": [
       "<Figure size 1000x800 with 2 Axes>"
      ]
     },
     "metadata": {},
     "output_type": "display_data"
    }
   ],
   "source": [
    "# Select only numeric columns\n",
    "numeric_df = df_solar.select_dtypes(include=['number'])\n",
    "\n",
    "# Create the heatmap\n",
    "plt.figure(figsize=(10, 8))\n",
    "sns.heatmap(numeric_df.corr(), annot=True, cmap='rainbow', fmt='.2f')\n",
    "plt.title('Heatmap of Solar Data')\n",
    "plt.show()\n"
   ]
  },
  {
   "cell_type": "markdown",
   "id": "a1c7e972",
   "metadata": {
    "papermill": {
     "duration": 0.015382,
     "end_time": "2024-10-10T17:49:00.248890",
     "exception": false,
     "start_time": "2024-10-10T17:49:00.233508",
     "status": "completed"
    },
    "tags": []
   },
   "source": [
    "## Machine Learning: Modelling and Serialization"
   ]
  },
  {
   "cell_type": "code",
   "execution_count": 25,
   "id": "039a0fad",
   "metadata": {
    "execution": {
     "iopub.execute_input": "2024-10-10T17:49:00.282681Z",
     "iopub.status.busy": "2024-10-10T17:49:00.281945Z",
     "iopub.status.idle": "2024-10-10T17:49:11.335816Z",
     "shell.execute_reply": "2024-10-10T17:49:11.334461Z"
    },
    "papermill": {
     "duration": 11.074101,
     "end_time": "2024-10-10T17:49:11.338560",
     "exception": false,
     "start_time": "2024-10-10T17:49:00.264459",
     "status": "completed"
    },
    "tags": []
   },
   "outputs": [
    {
     "name": "stdout",
     "output_type": "stream",
     "text": [
      "Requirement already satisfied: scikit-learn in /opt/conda/lib/python3.10/site-packages (1.2.2)\r\n",
      "Requirement already satisfied: numpy>=1.17.3 in /opt/conda/lib/python3.10/site-packages (from scikit-learn) (1.26.4)\r\n",
      "Requirement already satisfied: scipy>=1.3.2 in /opt/conda/lib/python3.10/site-packages (from scikit-learn) (1.14.1)\r\n",
      "Requirement already satisfied: joblib>=1.1.1 in /opt/conda/lib/python3.10/site-packages (from scikit-learn) (1.4.2)\r\n",
      "Requirement already satisfied: threadpoolctl>=2.0.0 in /opt/conda/lib/python3.10/site-packages (from scikit-learn) (3.5.0)\r\n"
     ]
    }
   ],
   "source": [
    "! pip install scikit-learn"
   ]
  },
  {
   "cell_type": "code",
   "execution_count": 26,
   "id": "213e714b",
   "metadata": {
    "execution": {
     "iopub.execute_input": "2024-10-10T17:49:11.372790Z",
     "iopub.status.busy": "2024-10-10T17:49:11.372297Z",
     "iopub.status.idle": "2024-10-10T17:49:11.721933Z",
     "shell.execute_reply": "2024-10-10T17:49:11.720809Z"
    },
    "papermill": {
     "duration": 0.369842,
     "end_time": "2024-10-10T17:49:11.724510",
     "exception": false,
     "start_time": "2024-10-10T17:49:11.354668",
     "status": "completed"
    },
    "tags": []
   },
   "outputs": [],
   "source": [
    "from sklearn.model_selection import train_test_split\n",
    "from sklearn.preprocessing import StandardScaler\n",
    "from sklearn.ensemble import RandomForestRegressor\n",
    "from sklearn.metrics import mean_squared_error"
   ]
  },
  {
   "cell_type": "code",
   "execution_count": 27,
   "id": "6d657cc3",
   "metadata": {
    "execution": {
     "iopub.execute_input": "2024-10-10T17:49:11.758045Z",
     "iopub.status.busy": "2024-10-10T17:49:11.757589Z",
     "iopub.status.idle": "2024-10-10T17:49:11.765564Z",
     "shell.execute_reply": "2024-10-10T17:49:11.764516Z"
    },
    "papermill": {
     "duration": 0.027315,
     "end_time": "2024-10-10T17:49:11.767784",
     "exception": false,
     "start_time": "2024-10-10T17:49:11.740469",
     "status": "completed"
    },
    "tags": []
   },
   "outputs": [
    {
     "data": {
      "text/plain": [
       "Index(['DATE_TIME', 'SOURCE_KEY', 'DC_POWER', 'AC_POWER', 'DAILY_YIELD',\n",
       "       'TOTAL_YIELD', 'AMBIENT_TEMPERATURE', 'MODULE_TEMPERATURE',\n",
       "       'IRRADIATION', 'DATE', 'TIME', 'DAY', 'MONTH', 'HOURS', 'MINUTES',\n",
       "       'TOTAL MINUTES PASS', 'DATE_STRING', 'SOURCE_KEY_NUMBER', 'anomaly'],\n",
       "      dtype='object')"
      ]
     },
     "execution_count": 27,
     "metadata": {},
     "output_type": "execute_result"
    }
   ],
   "source": [
    "df_solar.columns"
   ]
  },
  {
   "cell_type": "code",
   "execution_count": 28,
   "id": "b9bebae5",
   "metadata": {
    "execution": {
     "iopub.execute_input": "2024-10-10T17:49:11.801693Z",
     "iopub.status.busy": "2024-10-10T17:49:11.801263Z",
     "iopub.status.idle": "2024-10-10T17:49:11.852060Z",
     "shell.execute_reply": "2024-10-10T17:49:11.850980Z"
    },
    "papermill": {
     "duration": 0.070774,
     "end_time": "2024-10-10T17:49:11.854554",
     "exception": false,
     "start_time": "2024-10-10T17:49:11.783780",
     "status": "completed"
    },
    "tags": []
   },
   "outputs": [
    {
     "name": "stderr",
     "output_type": "stream",
     "text": [
      "/tmp/ipykernel_17/3808723150.py:6: FutureWarning: DataFrame.fillna with 'method' is deprecated and will raise in a future version. Use obj.ffill() or obj.bfill() instead.\n",
      "  df_solar.fillna(method='ffill', inplace=True)\n"
     ]
    }
   ],
   "source": [
    "# Features and target\n",
    "features = ['DC_POWER','AMBIENT_TEMPERATURE', 'IRRADIATION','DAY', 'MONTH', 'HOURS', 'MINUTES']\n",
    "target = 'anomaly'  # This is the sensor value we're predicting\n",
    "\n",
    "# Handling missing values\n",
    "df_solar.fillna(method='ffill', inplace=True)\n",
    "\n",
    "# Splitting data into features (X) and target (y)\n",
    "X = df_solar[features]\n",
    "y = df_solar[target]\n",
    "\n",
    "# Split into train and test sets\n",
    "X_train, X_test, y_train, y_test = train_test_split(X, y, test_size=0.25, random_state=42)"
   ]
  },
  {
   "cell_type": "code",
   "execution_count": 29,
   "id": "7e895d4f",
   "metadata": {
    "execution": {
     "iopub.execute_input": "2024-10-10T17:49:11.888961Z",
     "iopub.status.busy": "2024-10-10T17:49:11.888201Z",
     "iopub.status.idle": "2024-10-10T17:49:11.893520Z",
     "shell.execute_reply": "2024-10-10T17:49:11.892498Z"
    },
    "papermill": {
     "duration": 0.025135,
     "end_time": "2024-10-10T17:49:11.895940",
     "exception": false,
     "start_time": "2024-10-10T17:49:11.870805",
     "status": "completed"
    },
    "tags": []
   },
   "outputs": [],
   "source": [
    "from sklearn.ensemble import RandomForestClassifier\n",
    "from sklearn.metrics import classification_report, confusion_matrix\n",
    "import seaborn as sns\n",
    "import numpy as np\n"
   ]
  },
  {
   "cell_type": "code",
   "execution_count": 30,
   "id": "5654f1a5",
   "metadata": {
    "execution": {
     "iopub.execute_input": "2024-10-10T17:49:11.929890Z",
     "iopub.status.busy": "2024-10-10T17:49:11.929450Z",
     "iopub.status.idle": "2024-10-10T17:49:13.795950Z",
     "shell.execute_reply": "2024-10-10T17:49:13.794824Z"
    },
    "papermill": {
     "duration": 1.886281,
     "end_time": "2024-10-10T17:49:13.798410",
     "exception": false,
     "start_time": "2024-10-10T17:49:11.912129",
     "status": "completed"
    },
    "tags": []
   },
   "outputs": [
    {
     "name": "stdout",
     "output_type": "stream",
     "text": [
      "Confusion Matrix:\n",
      "[[8266    0]\n",
      " [   0  940]]\n"
     ]
    },
    {
     "data": {
      "image/png": "[encoded data removed]",
      "text/plain": [
       "<Figure size 600x400 with 1 Axes>"
      ]
     },
     "metadata": {},
     "output_type": "display_data"
    },
    {
     "name": "stdout",
     "output_type": "stream",
     "text": [
      "\n",
      "Classification Report:\n",
      "              precision    recall  f1-score   support\n",
      "\n",
      "           0       1.00      1.00      1.00      8266\n",
      "           1       1.00      1.00      1.00       940\n",
      "\n",
      "    accuracy                           1.00      9206\n",
      "   macro avg       1.00      1.00      1.00      9206\n",
      "weighted avg       1.00      1.00      1.00      9206\n",
      "\n"
     ]
    }
   ],
   "source": [
    "\n",
    "# Initialize the RandomForestClassifier\n",
    "rf_classifier = RandomForestClassifier(n_estimators=100, random_state=42)\n",
    "\n",
    "# Train the classifier\n",
    "rf_classifier.fit(X_train, y_train)\n",
    "\n",
    "# Make predictions on the test set\n",
    "y_pred = rf_classifier.predict(X_test)\n",
    "\n",
    "# Evaluate the model\n",
    "print(\"Confusion Matrix:\")\n",
    "print(confusion_matrix(y_test, y_pred))\n",
    "conf_matrix = confusion_matrix(y_test, y_pred)\n",
    "# Display the confusion matrix using seaborn\n",
    "plt.figure(figsize=(6, 4))\n",
    "sns.heatmap(conf_matrix, annot=True, fmt='d', cmap='Blues', cbar=False)\n",
    "plt.xlabel('Predicted Label')\n",
    "plt.ylabel('True Label')\n",
    "plt.title('Confusion Matrix')\n",
    "plt.show()\n",
    "\n",
    "print(\"\\nClassification Report:\")\n",
    "print(classification_report(y_test, y_pred))\n",
    "\n"
   ]
  },
  {
   "cell_type": "markdown",
   "id": "f51683f1",
   "metadata": {
    "papermill": {
     "duration": 0.01625,
     "end_time": "2024-10-10T17:49:13.831183",
     "exception": false,
     "start_time": "2024-10-10T17:49:13.814933",
     "status": "completed"
    },
    "tags": []
   },
   "source": [
    "## Serializing Model"
   ]
  },
  {
   "cell_type": "code",
   "execution_count": 31,
   "id": "dbcffcfa",
   "metadata": {
    "execution": {
     "iopub.execute_input": "2024-10-10T17:49:13.866420Z",
     "iopub.status.busy": "2024-10-10T17:49:13.865414Z",
     "iopub.status.idle": "2024-10-10T17:49:24.893346Z",
     "shell.execute_reply": "2024-10-10T17:49:24.891971Z"
    },
    "papermill": {
     "duration": 11.048402,
     "end_time": "2024-10-10T17:49:24.896062",
     "exception": false,
     "start_time": "2024-10-10T17:49:13.847660",
     "status": "completed"
    },
    "tags": []
   },
   "outputs": [
    {
     "name": "stdout",
     "output_type": "stream",
     "text": [
      "Requirement already satisfied: joblib in /opt/conda/lib/python3.10/site-packages (1.4.2)\r\n"
     ]
    }
   ],
   "source": [
    "! pip install joblib"
   ]
  },
  {
   "cell_type": "code",
   "execution_count": 32,
   "id": "e2179947",
   "metadata": {
    "execution": {
     "iopub.execute_input": "2024-10-10T17:49:24.932076Z",
     "iopub.status.busy": "2024-10-10T17:49:24.931053Z",
     "iopub.status.idle": "2024-10-10T17:49:25.045905Z",
     "shell.execute_reply": "2024-10-10T17:49:25.044802Z"
    },
    "papermill": {
     "duration": 0.135538,
     "end_time": "2024-10-10T17:49:25.048325",
     "exception": false,
     "start_time": "2024-10-10T17:49:24.912787",
     "status": "completed"
    },
    "tags": []
   },
   "outputs": [
    {
     "data": {
      "text/plain": [
       "['scaler.pkl']"
      ]
     },
     "execution_count": 32,
     "metadata": {},
     "output_type": "execute_result"
    }
   ],
   "source": [
    "import joblib\n",
    "\n",
    "# Serialize the trained model\n",
    "joblib.dump(rf_classifier, 'solar_predictor.pkl')\n",
    "\n",
    "# If you're using scaling (optional), serialize the scaler too\n",
    "scaler = StandardScaler()\n",
    "X_scaled = scaler.fit_transform(X_train)\n",
    "joblib.dump(scaler, 'scaler.pkl')\n"
   ]
  },
  {
   "cell_type": "code",
   "execution_count": 33,
   "id": "b1b406a5",
   "metadata": {
    "execution": {
     "iopub.execute_input": "2024-10-10T17:49:25.083711Z",
     "iopub.status.busy": "2024-10-10T17:49:25.083293Z",
     "iopub.status.idle": "2024-10-10T17:49:25.141266Z",
     "shell.execute_reply": "2024-10-10T17:49:25.140064Z"
    },
    "papermill": {
     "duration": 0.079099,
     "end_time": "2024-10-10T17:49:25.144196",
     "exception": false,
     "start_time": "2024-10-10T17:49:25.065097",
     "status": "completed"
    },
    "tags": []
   },
   "outputs": [
    {
     "name": "stdout",
     "output_type": "stream",
     "text": [
      "Predicted DC Power: [1]\n"
     ]
    },
    {
     "name": "stderr",
     "output_type": "stream",
     "text": [
      "/opt/conda/lib/python3.10/site-packages/sklearn/base.py:439: UserWarning: X does not have valid feature names, but RandomForestClassifier was fitted with feature names\n",
      "  warnings.warn(\n"
     ]
    }
   ],
   "source": [
    "# Load the serialized model\n",
    "rf_model = joblib.load('solar_predictor.pkl')\n",
    "\n",
    "# Load the scaler (if used)\n",
    "scaler = joblib.load('scaler.pkl')\n",
    "\n",
    "#features = ['DC_POWER','AMBIENT_TEMPERATURE', 'IRRADIATION','DAY', 'MONTH', 'HOURS', 'MINUTES']\n",
    "# Example: New incoming sensor data with lagged values for DC_POWER and IRRADIATION\n",
    "new_sensor_data = pd.DataFrame({\n",
    "    'DC_POWER': [110],                  # Current DC power value\n",
    "    'AMBIENT_TEMPERATURE': [30],         # Current ambient temperature\n",
    "    'IRRADIATION': [900],                # Current irradiation\n",
    "    'DAY': [26],                         # Current day\n",
    "    'MONTH': [9],                        # Current month\n",
    "    'HOURS': [12],                       # Current hour\n",
    "    'MINUTES': [15]                     # Current minute\n",
    "})\n",
    "\n",
    "# If scaling is used, scale the new data\n",
    "new_sensor_data_scaled = scaler.transform(new_sensor_data)\n",
    "\n",
    "# Predict the sensor value (e.g., DC_POWER)\n",
    "predicted_anomaly = rf_model.predict(new_sensor_data_scaled)\n",
    "\n",
    "print(f\"Predicted DC Power: {predicted_anomaly}\")\n"
   ]
  }
 ],
 "metadata": {
  "kaggle": {
   "accelerator": "none",
   "dataSources": [
    {
     "datasetId": 5853596,
     "sourceId": 9596077,
     "sourceType": "datasetVersion"
    }
   ],
   "dockerImageVersionId": 30786,
   "isGpuEnabled": false,
   "isInternetEnabled": true,
   "language": "python",
   "sourceType": "notebook"
  },
  "kernelspec": {
   "display_name": "Python 3",
   "language": "python",
   "name": "python3"
  },
  "language_info": {
   "codemirror_mode": {
    "name": "ipython",
    "version": 3
   },
   "file_extension": ".py",
   "mimetype": "text/x-python",
   "name": "python",
   "nbconvert_exporter": "python",
   "pygments_lexer": "ipython3",
   "version": "3.10.14"
  },
  "papermill": {
   "default_parameters": {},
   "duration": 60.086768,
   "end_time": "2024-10-10T17:49:25.983665",
   "environment_variables": {},
   "exception": null,
   "input_path": "__notebook__.ipynb",
   "output_path": "__notebook__.ipynb",
   "parameters": {},
   "start_time": "2024-10-10T17:48:25.896897",
   "version": "2.6.0"
  }
 },
 "nbformat": 4,
 "nbformat_minor": 5
}
